{
 "cells": [
  {
   "cell_type": "markdown",
   "metadata": {},
   "source": [
    "# Predicting company acquisition"
   ]
  },
  {
   "cell_type": "markdown",
   "metadata": {},
   "source": [
    "### Kaggle crunchbase challenge\n",
    "\n",
    "Link: https://www.kaggle.com/arindam235/startup-investments-crunchbase\n",
    "\n",
    "--- \n",
    "\n",
    "We have a dataset with thousands of companies across the world and across a range of sectors.\n",
    "\n",
    "We will be trying to predict whether companies closed, were acquired or whether they are still running.\n",
    "\n",
    "Key challenges:\n",
    "- Classes are severely imbalanced\n",
    "- Features needs significant engineering\n",
    "- Wildly skewed data\n",
    "\n",
    "We will first create some new features and then run a series of models to predict whether companies closed down or were acquired as best possible. Due to the class imbalance, we will try multiple approaches to see how well we can do.\n",
    "\n",
    "---"
   ]
  },
  {
   "cell_type": "code",
   "execution_count": 288,
   "metadata": {
    "ExecuteTime": {
     "end_time": "2020-03-25T10:18:54.819567Z",
     "start_time": "2020-03-25T10:18:54.816586Z"
    }
   },
   "outputs": [],
   "source": [
    "import warnings\n",
    "warnings.filterwarnings('ignore')"
   ]
  },
  {
   "cell_type": "code",
   "execution_count": 416,
   "metadata": {
    "ExecuteTime": {
     "end_time": "2020-03-25T21:32:42.881323Z",
     "start_time": "2020-03-25T21:32:42.822144Z"
    }
   },
   "outputs": [],
   "source": [
    "# Basics\n",
    "import pandas as pd\n",
    "import numpy as np\n",
    "import re\n",
    "\n",
    "#Plotting\n",
    "import seaborn as sns\n",
    "import matplotlib.pyplot as plt\n",
    "\n",
    "# Feature work\n",
    "from sklearn.feature_extraction.text import CountVectorizer\n",
    "\n",
    "# PreProcessing\n",
    "from imblearn.under_sampling import RandomUnderSampler\n",
    "from imblearn.over_sampling import SMOTE\n",
    "from sklearn.preprocessing import StandardScaler, MinMaxScaler, PowerTransformer\n",
    "from sklearn.model_selection import StratifiedKFold\n",
    "from sklearn.utils import class_weight\n",
    "from sklearn.model_selection import train_test_split\n",
    "\n",
    "# Modelling\n",
    "from sklearn.ensemble import RandomForestClassifier\n",
    "from sklearn.linear_model import LogisticRegression, LogisticRegressionCV\n",
    "from sklearn.svm import LinearSVC\n",
    "from imblearn.pipeline import make_pipeline, Pipeline\n",
    "\n",
    "#Scoring\n",
    "from sklearn.model_selection import GridSearchCV, cross_val_score\n",
    "from sklearn.metrics import confusion_matrix, classification_report"
   ]
  },
  {
   "cell_type": "markdown",
   "metadata": {},
   "source": [
    "---\n",
    "\n",
    "# EDA\n",
    "\n",
    "First lets have a look at what we're working with."
   ]
  },
  {
   "cell_type": "code",
   "execution_count": 290,
   "metadata": {
    "ExecuteTime": {
     "end_time": "2020-03-25T10:18:59.582971Z",
     "start_time": "2020-03-25T10:18:59.026100Z"
    }
   },
   "outputs": [],
   "source": [
    "df = pd.read_csv('investments_VC.csv', encoding = 'latin1')"
   ]
  },
  {
   "cell_type": "code",
   "execution_count": 291,
   "metadata": {
    "ExecuteTime": {
     "end_time": "2020-03-25T10:19:01.316846Z",
     "start_time": "2020-03-25T10:19:01.310498Z"
    }
   },
   "outputs": [
    {
     "data": {
      "text/plain": [
       "(54294, 39)"
      ]
     },
     "execution_count": 291,
     "metadata": {},
     "output_type": "execute_result"
    }
   ],
   "source": [
    "df.shape"
   ]
  },
  {
   "cell_type": "code",
   "execution_count": 292,
   "metadata": {
    "ExecuteTime": {
     "end_time": "2020-03-25T10:19:01.328417Z",
     "start_time": "2020-03-25T10:19:01.319088Z"
    }
   },
   "outputs": [
    {
     "name": "stdout",
     "output_type": "stream",
     "text": [
      "['permalink', 'name', 'homepage_url', 'category_list', ' market ', ' funding_total_usd ', 'status', 'country_code', 'state_code', 'region', 'city', 'funding_rounds', 'founded_at', 'founded_month', 'founded_quarter', 'founded_year', 'first_funding_at', 'last_funding_at', 'seed', 'venture', 'equity_crowdfunding', 'undisclosed', 'convertible_note', 'debt_financing', 'angel', 'grant', 'private_equity', 'post_ipo_equity', 'post_ipo_debt', 'secondary_market', 'product_crowdfunding', 'round_A', 'round_B', 'round_C', 'round_D', 'round_E', 'round_F', 'round_G', 'round_H']\n"
     ]
    }
   ],
   "source": [
    "print(list(df.columns))"
   ]
  },
  {
   "cell_type": "code",
   "execution_count": 293,
   "metadata": {
    "ExecuteTime": {
     "end_time": "2020-03-25T10:19:04.795023Z",
     "start_time": "2020-03-25T10:19:04.629215Z"
    }
   },
   "outputs": [
    {
     "data": {
      "text/plain": [
       "4855"
      ]
     },
     "execution_count": 293,
     "metadata": {},
     "output_type": "execute_result"
    }
   ],
   "source": [
    "df.duplicated().sum()"
   ]
  },
  {
   "cell_type": "code",
   "execution_count": 294,
   "metadata": {
    "ExecuteTime": {
     "end_time": "2020-03-25T10:19:05.045103Z",
     "start_time": "2020-03-25T10:19:04.797154Z"
    }
   },
   "outputs": [],
   "source": [
    "# Remove the 4855 duplicate rows\n",
    "df = df.drop_duplicates()"
   ]
  },
  {
   "cell_type": "code",
   "execution_count": 295,
   "metadata": {
    "ExecuteTime": {
     "end_time": "2020-03-25T10:19:05.052259Z",
     "start_time": "2020-03-25T10:19:05.047771Z"
    }
   },
   "outputs": [],
   "source": [
    "# Remove unwanted periods/spaces\n",
    "df.columns = [i.strip() for i in df.columns]"
   ]
  },
  {
   "cell_type": "code",
   "execution_count": 296,
   "metadata": {
    "ExecuteTime": {
     "end_time": "2020-03-25T10:19:05.076310Z",
     "start_time": "2020-03-25T10:19:05.055866Z"
    }
   },
   "outputs": [
    {
     "data": {
      "text/html": [
       "<div>\n",
       "<style scoped>\n",
       "    .dataframe tbody tr th:only-of-type {\n",
       "        vertical-align: middle;\n",
       "    }\n",
       "\n",
       "    .dataframe tbody tr th {\n",
       "        vertical-align: top;\n",
       "    }\n",
       "\n",
       "    .dataframe thead th {\n",
       "        text-align: right;\n",
       "    }\n",
       "</style>\n",
       "<table border=\"1\" class=\"dataframe\">\n",
       "  <thead>\n",
       "    <tr style=\"text-align: right;\">\n",
       "      <th></th>\n",
       "      <th>permalink</th>\n",
       "      <th>name</th>\n",
       "      <th>homepage_url</th>\n",
       "      <th>category_list</th>\n",
       "      <th>market</th>\n",
       "      <th>funding_total_usd</th>\n",
       "      <th>status</th>\n",
       "      <th>country_code</th>\n",
       "      <th>state_code</th>\n",
       "      <th>region</th>\n",
       "    </tr>\n",
       "  </thead>\n",
       "  <tbody>\n",
       "    <tr>\n",
       "      <th>0</th>\n",
       "      <td>/organization/waywire</td>\n",
       "      <td>#waywire</td>\n",
       "      <td>http://www.waywire.com</td>\n",
       "      <td>|Entertainment|Politics|Social Media|News|</td>\n",
       "      <td>News</td>\n",
       "      <td>17,50,000</td>\n",
       "      <td>acquired</td>\n",
       "      <td>USA</td>\n",
       "      <td>NY</td>\n",
       "      <td>New York City</td>\n",
       "    </tr>\n",
       "    <tr>\n",
       "      <th>1</th>\n",
       "      <td>/organization/tv-communications</td>\n",
       "      <td>&amp;TV Communications</td>\n",
       "      <td>http://enjoyandtv.com</td>\n",
       "      <td>|Games|</td>\n",
       "      <td>Games</td>\n",
       "      <td>40,00,000</td>\n",
       "      <td>operating</td>\n",
       "      <td>USA</td>\n",
       "      <td>CA</td>\n",
       "      <td>Los Angeles</td>\n",
       "    </tr>\n",
       "    <tr>\n",
       "      <th>2</th>\n",
       "      <td>/organization/rock-your-paper</td>\n",
       "      <td>'Rock' Your Paper</td>\n",
       "      <td>http://www.rockyourpaper.org</td>\n",
       "      <td>|Publishing|Education|</td>\n",
       "      <td>Publishing</td>\n",
       "      <td>40,000</td>\n",
       "      <td>operating</td>\n",
       "      <td>EST</td>\n",
       "      <td>NaN</td>\n",
       "      <td>Tallinn</td>\n",
       "    </tr>\n",
       "    <tr>\n",
       "      <th>3</th>\n",
       "      <td>/organization/in-touch-network</td>\n",
       "      <td>(In)Touch Network</td>\n",
       "      <td>http://www.InTouchNetwork.com</td>\n",
       "      <td>|Electronics|Guides|Coffee|Restaurants|Music|i...</td>\n",
       "      <td>Electronics</td>\n",
       "      <td>15,00,000</td>\n",
       "      <td>operating</td>\n",
       "      <td>GBR</td>\n",
       "      <td>NaN</td>\n",
       "      <td>London</td>\n",
       "    </tr>\n",
       "    <tr>\n",
       "      <th>4</th>\n",
       "      <td>/organization/r-ranch-and-mine</td>\n",
       "      <td>-R- Ranch and Mine</td>\n",
       "      <td>NaN</td>\n",
       "      <td>|Tourism|Entertainment|Games|</td>\n",
       "      <td>Tourism</td>\n",
       "      <td>60,000</td>\n",
       "      <td>operating</td>\n",
       "      <td>USA</td>\n",
       "      <td>TX</td>\n",
       "      <td>Dallas</td>\n",
       "    </tr>\n",
       "  </tbody>\n",
       "</table>\n",
       "</div>"
      ],
      "text/plain": [
       "                         permalink                name  \\\n",
       "0            /organization/waywire            #waywire   \n",
       "1  /organization/tv-communications  &TV Communications   \n",
       "2    /organization/rock-your-paper   'Rock' Your Paper   \n",
       "3   /organization/in-touch-network   (In)Touch Network   \n",
       "4   /organization/r-ranch-and-mine  -R- Ranch and Mine   \n",
       "\n",
       "                    homepage_url  \\\n",
       "0         http://www.waywire.com   \n",
       "1          http://enjoyandtv.com   \n",
       "2   http://www.rockyourpaper.org   \n",
       "3  http://www.InTouchNetwork.com   \n",
       "4                            NaN   \n",
       "\n",
       "                                       category_list         market  \\\n",
       "0         |Entertainment|Politics|Social Media|News|          News    \n",
       "1                                            |Games|         Games    \n",
       "2                             |Publishing|Education|    Publishing    \n",
       "3  |Electronics|Guides|Coffee|Restaurants|Music|i...   Electronics    \n",
       "4                      |Tourism|Entertainment|Games|       Tourism    \n",
       "\n",
       "  funding_total_usd     status country_code state_code         region  \n",
       "0        17,50,000    acquired          USA         NY  New York City  \n",
       "1        40,00,000   operating          USA         CA    Los Angeles  \n",
       "2           40,000   operating          EST        NaN        Tallinn  \n",
       "3        15,00,000   operating          GBR        NaN         London  \n",
       "4           60,000   operating          USA         TX         Dallas  "
      ]
     },
     "execution_count": 296,
     "metadata": {},
     "output_type": "execute_result"
    }
   ],
   "source": [
    "df.iloc[:5,:10]"
   ]
  },
  {
   "cell_type": "code",
   "execution_count": 297,
   "metadata": {
    "ExecuteTime": {
     "end_time": "2020-03-25T10:19:13.136103Z",
     "start_time": "2020-03-25T10:19:12.993416Z"
    }
   },
   "outputs": [],
   "source": [
    "# Deal with the funny funding format\n",
    "df['funding_total_usd'] = df['funding_total_usd']\\\n",
    "        .apply(lambda x: ''.join(str(x).split(',')))\\\n",
    "        .apply(lambda x: re.sub('[^0-9]','', x))"
   ]
  },
  {
   "cell_type": "code",
   "execution_count": 298,
   "metadata": {
    "ExecuteTime": {
     "end_time": "2020-03-25T10:19:14.946944Z",
     "start_time": "2020-03-25T10:19:14.937958Z"
    }
   },
   "outputs": [],
   "source": [
    "df['funding_total_usd'].replace('', np.nan, inplace=True)"
   ]
  },
  {
   "cell_type": "code",
   "execution_count": 299,
   "metadata": {
    "ExecuteTime": {
     "end_time": "2020-03-25T10:19:14.978965Z",
     "start_time": "2020-03-25T10:19:14.950453Z"
    }
   },
   "outputs": [],
   "source": [
    "df['funding_total_usd'] = df['funding_total_usd'].astype(float)"
   ]
  },
  {
   "cell_type": "code",
   "execution_count": 300,
   "metadata": {
    "ExecuteTime": {
     "end_time": "2020-03-25T10:19:15.006928Z",
     "start_time": "2020-03-25T10:19:14.981886Z"
    }
   },
   "outputs": [
    {
     "data": {
      "text/plain": [
       "15315    3.500000e+09\n",
       "7977     5.162513e+09\n",
       "8664     5.700000e+09\n",
       "36911    5.800000e+09\n",
       "45815    3.007950e+10\n",
       "Name: funding_total_usd, dtype: float64"
      ]
     },
     "execution_count": 300,
     "metadata": {},
     "output_type": "execute_result"
    }
   ],
   "source": [
    "df['funding_total_usd'].dropna().sort_values().tail()"
   ]
  },
  {
   "cell_type": "markdown",
   "metadata": {},
   "source": [
    "Okay now that these funding values are sorted, lets have a look at some of our data in some more detail."
   ]
  },
  {
   "cell_type": "code",
   "execution_count": 301,
   "metadata": {
    "ExecuteTime": {
     "end_time": "2020-03-25T10:19:20.129585Z",
     "start_time": "2020-03-25T10:19:20.090740Z"
    }
   },
   "outputs": [
    {
     "name": "stdout",
     "output_type": "stream",
     "text": [
      "funding_total_usd          1.0\n",
      "funding_rounds             1.0\n",
      "founded_year            1902.0\n",
      "seed                       0.0\n",
      "venture                    0.0\n",
      "equity_crowdfunding        0.0\n",
      "undisclosed                0.0\n",
      "convertible_note           0.0\n",
      "debt_financing             0.0\n",
      "angel                      0.0\n",
      "grant                      0.0\n",
      "private_equity             0.0\n",
      "post_ipo_equity            0.0\n",
      "post_ipo_debt              0.0\n",
      "secondary_market           0.0\n",
      "product_crowdfunding       0.0\n",
      "round_A                    0.0\n",
      "round_B                    0.0\n",
      "round_C                    0.0\n",
      "round_D                    0.0\n",
      "round_E                    0.0\n",
      "round_F                    0.0\n",
      "round_G                    0.0\n",
      "round_H                    0.0\n",
      "dtype: float64\n"
     ]
    }
   ],
   "source": [
    "print(df.select_dtypes(include=numerics).min())"
   ]
  },
  {
   "cell_type": "code",
   "execution_count": 302,
   "metadata": {
    "ExecuteTime": {
     "end_time": "2020-03-25T10:19:20.165168Z",
     "start_time": "2020-03-25T10:19:20.134291Z"
    }
   },
   "outputs": [
    {
     "name": "stdout",
     "output_type": "stream",
     "text": [
      "funding_total_usd       3.007950e+10\n",
      "funding_rounds          1.800000e+01\n",
      "founded_year            2.014000e+03\n",
      "seed                    1.300000e+08\n",
      "venture                 2.351000e+09\n",
      "equity_crowdfunding     2.500000e+07\n",
      "undisclosed             2.924328e+08\n",
      "convertible_note        3.000000e+08\n",
      "debt_financing          3.007950e+10\n",
      "angel                   6.359026e+07\n",
      "grant                   7.505000e+08\n",
      "private_equity          3.500000e+09\n",
      "post_ipo_equity         4.700000e+09\n",
      "post_ipo_debt           5.800000e+09\n",
      "secondary_market        6.806116e+08\n",
      "product_crowdfunding    7.200000e+07\n",
      "round_A                 3.190000e+08\n",
      "round_B                 5.420000e+08\n",
      "round_C                 4.900000e+08\n",
      "round_D                 1.200000e+09\n",
      "round_E                 4.000000e+08\n",
      "round_F                 1.060000e+09\n",
      "round_G                 1.000000e+09\n",
      "round_H                 6.000000e+08\n",
      "dtype: float64\n"
     ]
    }
   ],
   "source": [
    "print(df.select_dtypes(include=numerics).max())"
   ]
  },
  {
   "cell_type": "code",
   "execution_count": 13,
   "metadata": {
    "ExecuteTime": {
     "end_time": "2020-03-24T21:26:35.198767Z",
     "start_time": "2020-03-24T21:26:35.177517Z"
    }
   },
   "outputs": [
    {
     "data": {
      "text/plain": [
       " Software          4620\n",
       " Biotechnology     3688\n",
       " Mobile            1983\n",
       " E-Commerce        1805\n",
       " Curated Web       1655\n",
       "Name: market, dtype: int64"
      ]
     },
     "execution_count": 13,
     "metadata": {},
     "output_type": "execute_result"
    }
   ],
   "source": [
    "df.market.value_counts().head()"
   ]
  },
  {
   "cell_type": "code",
   "execution_count": 14,
   "metadata": {
    "ExecuteTime": {
     "end_time": "2020-03-24T21:26:36.632899Z",
     "start_time": "2020-03-24T21:26:36.617464Z"
    }
   },
   "outputs": [
    {
     "data": {
      "text/plain": [
       "USA    28793\n",
       "GBR     2642\n",
       "CAN     1405\n",
       "CHN     1239\n",
       "DEU      968\n",
       "Name: country_code, dtype: int64"
      ]
     },
     "execution_count": 14,
     "metadata": {},
     "output_type": "execute_result"
    }
   ],
   "source": [
    "df.country_code.value_counts().head()"
   ]
  },
  {
   "cell_type": "code",
   "execution_count": 16,
   "metadata": {
    "ExecuteTime": {
     "end_time": "2020-03-21T21:42:53.969904Z",
     "start_time": "2020-03-21T21:42:53.622359Z"
    }
   },
   "outputs": [
    {
     "data": {
      "image/png": "[encoded data removed]",
      "text/plain": [
       "<Figure size 432x288 with 1 Axes>"
      ]
     },
     "metadata": {
      "needs_background": "light"
     },
     "output_type": "display_data"
    }
   ],
   "source": [
    "df.funding_rounds.value_counts().plot(kind = 'barh');"
   ]
  },
  {
   "cell_type": "code",
   "execution_count": 17,
   "metadata": {
    "ExecuteTime": {
     "end_time": "2020-03-21T21:42:56.469101Z",
     "start_time": "2020-03-21T21:42:53.973157Z"
    }
   },
   "outputs": [
    {
     "data": {
      "image/png": "[encoded data removed]",
      "text/plain": [
       "<Figure size 1080x360 with 3 Axes>"
      ]
     },
     "metadata": {
      "needs_background": "light"
     },
     "output_type": "display_data"
    }
   ],
   "source": [
    "fig, ax = plt.subplots(ncols = 3, figsize = (15,5))\n",
    "df[df['seed']>0].seed.hist(bins = 100, ax = ax[0]);\n",
    "df[df['venture']>0].venture.hist(bins = 100, ax = ax[1]);\n",
    "df[df['equity_crowdfunding']>0].equity_crowdfunding.hist(bins = 100, ax = ax[2]);\n",
    "ax[0].set_yscale(\"log\")\n",
    "ax[1].set_yscale(\"log\")\n",
    "ax[2].set_yscale(\"log\")\n",
    "ax[0].set_title(\"Seed funding quantities (100mns $)\")\n",
    "ax[1].set_title(\"Venture funding quantities (Bns $)\")\n",
    "ax[2].set_title(\"Equity Crowd funding quantities (10mns $)\")\n",
    "plt.show()"
   ]
  },
  {
   "cell_type": "markdown",
   "metadata": {},
   "source": [
    "Lets check that all the rounds of funding are equal to the funding quantities."
   ]
  },
  {
   "cell_type": "code",
   "execution_count": 18,
   "metadata": {
    "ExecuteTime": {
     "end_time": "2020-03-21T21:42:56.722501Z",
     "start_time": "2020-03-21T21:42:56.672965Z"
    }
   },
   "outputs": [
    {
     "data": {
      "text/html": [
       "<div>\n",
       "<style scoped>\n",
       "    .dataframe tbody tr th:only-of-type {\n",
       "        vertical-align: middle;\n",
       "    }\n",
       "\n",
       "    .dataframe tbody tr th {\n",
       "        vertical-align: top;\n",
       "    }\n",
       "\n",
       "    .dataframe thead th {\n",
       "        text-align: right;\n",
       "    }\n",
       "</style>\n",
       "<table border=\"1\" class=\"dataframe\">\n",
       "  <thead>\n",
       "    <tr style=\"text-align: right;\">\n",
       "      <th></th>\n",
       "      <th>40</th>\n",
       "      <th>41</th>\n",
       "      <th>42</th>\n",
       "      <th>43</th>\n",
       "      <th>44</th>\n",
       "      <th>45</th>\n",
       "      <th>46</th>\n",
       "      <th>47</th>\n",
       "      <th>48</th>\n",
       "      <th>49</th>\n",
       "      <th>50</th>\n",
       "      <th>51</th>\n",
       "      <th>52</th>\n",
       "      <th>53</th>\n",
       "      <th>54</th>\n",
       "      <th>55</th>\n",
       "      <th>56</th>\n",
       "      <th>57</th>\n",
       "      <th>58</th>\n",
       "      <th>59</th>\n",
       "    </tr>\n",
       "  </thead>\n",
       "  <tbody>\n",
       "    <tr>\n",
       "      <th>seed</th>\n",
       "      <td>0.0</td>\n",
       "      <td>0.0</td>\n",
       "      <td>0.0</td>\n",
       "      <td>250000.0</td>\n",
       "      <td>69000.0</td>\n",
       "      <td>500000.0</td>\n",
       "      <td>0.0</td>\n",
       "      <td>378812.0</td>\n",
       "      <td>130636.0</td>\n",
       "      <td>0.0</td>\n",
       "      <td>0.0</td>\n",
       "      <td>0.0</td>\n",
       "      <td>0.0</td>\n",
       "      <td>700000.0</td>\n",
       "      <td>0.0</td>\n",
       "      <td>500000.0</td>\n",
       "      <td>0.0</td>\n",
       "      <td>2200000.0</td>\n",
       "      <td>200000.0</td>\n",
       "      <td>0.0</td>\n",
       "    </tr>\n",
       "    <tr>\n",
       "      <th>venture</th>\n",
       "      <td>0.0</td>\n",
       "      <td>0.0</td>\n",
       "      <td>0.0</td>\n",
       "      <td>0.0</td>\n",
       "      <td>0.0</td>\n",
       "      <td>150267.0</td>\n",
       "      <td>0.0</td>\n",
       "      <td>0.0</td>\n",
       "      <td>0.0</td>\n",
       "      <td>0.0</td>\n",
       "      <td>0.0</td>\n",
       "      <td>63450000.0</td>\n",
       "      <td>0.0</td>\n",
       "      <td>0.0</td>\n",
       "      <td>5500000.0</td>\n",
       "      <td>0.0</td>\n",
       "      <td>6204822.0</td>\n",
       "      <td>0.0</td>\n",
       "      <td>0.0</td>\n",
       "      <td>199957.0</td>\n",
       "    </tr>\n",
       "    <tr>\n",
       "      <th>equity_crowdfunding</th>\n",
       "      <td>0.0</td>\n",
       "      <td>0.0</td>\n",
       "      <td>0.0</td>\n",
       "      <td>0.0</td>\n",
       "      <td>0.0</td>\n",
       "      <td>0.0</td>\n",
       "      <td>0.0</td>\n",
       "      <td>0.0</td>\n",
       "      <td>0.0</td>\n",
       "      <td>0.0</td>\n",
       "      <td>0.0</td>\n",
       "      <td>0.0</td>\n",
       "      <td>0.0</td>\n",
       "      <td>0.0</td>\n",
       "      <td>0.0</td>\n",
       "      <td>0.0</td>\n",
       "      <td>0.0</td>\n",
       "      <td>0.0</td>\n",
       "      <td>0.0</td>\n",
       "      <td>0.0</td>\n",
       "    </tr>\n",
       "    <tr>\n",
       "      <th>undisclosed</th>\n",
       "      <td>0.0</td>\n",
       "      <td>0.0</td>\n",
       "      <td>0.0</td>\n",
       "      <td>0.0</td>\n",
       "      <td>0.0</td>\n",
       "      <td>0.0</td>\n",
       "      <td>0.0</td>\n",
       "      <td>0.0</td>\n",
       "      <td>0.0</td>\n",
       "      <td>0.0</td>\n",
       "      <td>0.0</td>\n",
       "      <td>0.0</td>\n",
       "      <td>0.0</td>\n",
       "      <td>0.0</td>\n",
       "      <td>0.0</td>\n",
       "      <td>0.0</td>\n",
       "      <td>0.0</td>\n",
       "      <td>0.0</td>\n",
       "      <td>0.0</td>\n",
       "      <td>0.0</td>\n",
       "    </tr>\n",
       "    <tr>\n",
       "      <th>convertible_note</th>\n",
       "      <td>0.0</td>\n",
       "      <td>0.0</td>\n",
       "      <td>0.0</td>\n",
       "      <td>0.0</td>\n",
       "      <td>0.0</td>\n",
       "      <td>0.0</td>\n",
       "      <td>0.0</td>\n",
       "      <td>0.0</td>\n",
       "      <td>0.0</td>\n",
       "      <td>0.0</td>\n",
       "      <td>0.0</td>\n",
       "      <td>0.0</td>\n",
       "      <td>0.0</td>\n",
       "      <td>0.0</td>\n",
       "      <td>0.0</td>\n",
       "      <td>0.0</td>\n",
       "      <td>0.0</td>\n",
       "      <td>0.0</td>\n",
       "      <td>0.0</td>\n",
       "      <td>0.0</td>\n",
       "    </tr>\n",
       "    <tr>\n",
       "      <th>debt_financing</th>\n",
       "      <td>0.0</td>\n",
       "      <td>0.0</td>\n",
       "      <td>0.0</td>\n",
       "      <td>0.0</td>\n",
       "      <td>0.0</td>\n",
       "      <td>0.0</td>\n",
       "      <td>0.0</td>\n",
       "      <td>0.0</td>\n",
       "      <td>0.0</td>\n",
       "      <td>0.0</td>\n",
       "      <td>0.0</td>\n",
       "      <td>0.0</td>\n",
       "      <td>0.0</td>\n",
       "      <td>0.0</td>\n",
       "      <td>0.0</td>\n",
       "      <td>0.0</td>\n",
       "      <td>0.0</td>\n",
       "      <td>0.0</td>\n",
       "      <td>0.0</td>\n",
       "      <td>0.0</td>\n",
       "    </tr>\n",
       "    <tr>\n",
       "      <th>angel</th>\n",
       "      <td>0.0</td>\n",
       "      <td>0.0</td>\n",
       "      <td>0.0</td>\n",
       "      <td>0.0</td>\n",
       "      <td>500000.0</td>\n",
       "      <td>0.0</td>\n",
       "      <td>0.0</td>\n",
       "      <td>0.0</td>\n",
       "      <td>0.0</td>\n",
       "      <td>619494.0</td>\n",
       "      <td>0.0</td>\n",
       "      <td>0.0</td>\n",
       "      <td>0.0</td>\n",
       "      <td>0.0</td>\n",
       "      <td>0.0</td>\n",
       "      <td>0.0</td>\n",
       "      <td>0.0</td>\n",
       "      <td>1200000.0</td>\n",
       "      <td>0.0</td>\n",
       "      <td>0.0</td>\n",
       "    </tr>\n",
       "    <tr>\n",
       "      <th>grant</th>\n",
       "      <td>0.0</td>\n",
       "      <td>0.0</td>\n",
       "      <td>0.0</td>\n",
       "      <td>20000.0</td>\n",
       "      <td>225000.0</td>\n",
       "      <td>0.0</td>\n",
       "      <td>0.0</td>\n",
       "      <td>0.0</td>\n",
       "      <td>0.0</td>\n",
       "      <td>0.0</td>\n",
       "      <td>0.0</td>\n",
       "      <td>3000000.0</td>\n",
       "      <td>0.0</td>\n",
       "      <td>0.0</td>\n",
       "      <td>0.0</td>\n",
       "      <td>0.0</td>\n",
       "      <td>0.0</td>\n",
       "      <td>0.0</td>\n",
       "      <td>0.0</td>\n",
       "      <td>0.0</td>\n",
       "    </tr>\n",
       "    <tr>\n",
       "      <th>private_equity</th>\n",
       "      <td>0.0</td>\n",
       "      <td>0.0</td>\n",
       "      <td>0.0</td>\n",
       "      <td>0.0</td>\n",
       "      <td>0.0</td>\n",
       "      <td>0.0</td>\n",
       "      <td>0.0</td>\n",
       "      <td>0.0</td>\n",
       "      <td>0.0</td>\n",
       "      <td>0.0</td>\n",
       "      <td>0.0</td>\n",
       "      <td>0.0</td>\n",
       "      <td>0.0</td>\n",
       "      <td>0.0</td>\n",
       "      <td>0.0</td>\n",
       "      <td>0.0</td>\n",
       "      <td>0.0</td>\n",
       "      <td>0.0</td>\n",
       "      <td>0.0</td>\n",
       "      <td>0.0</td>\n",
       "    </tr>\n",
       "    <tr>\n",
       "      <th>post_ipo_equity</th>\n",
       "      <td>0.0</td>\n",
       "      <td>0.0</td>\n",
       "      <td>0.0</td>\n",
       "      <td>0.0</td>\n",
       "      <td>0.0</td>\n",
       "      <td>0.0</td>\n",
       "      <td>0.0</td>\n",
       "      <td>0.0</td>\n",
       "      <td>0.0</td>\n",
       "      <td>0.0</td>\n",
       "      <td>0.0</td>\n",
       "      <td>0.0</td>\n",
       "      <td>0.0</td>\n",
       "      <td>0.0</td>\n",
       "      <td>0.0</td>\n",
       "      <td>0.0</td>\n",
       "      <td>0.0</td>\n",
       "      <td>0.0</td>\n",
       "      <td>0.0</td>\n",
       "      <td>0.0</td>\n",
       "    </tr>\n",
       "    <tr>\n",
       "      <th>post_ipo_debt</th>\n",
       "      <td>0.0</td>\n",
       "      <td>0.0</td>\n",
       "      <td>0.0</td>\n",
       "      <td>0.0</td>\n",
       "      <td>0.0</td>\n",
       "      <td>0.0</td>\n",
       "      <td>0.0</td>\n",
       "      <td>0.0</td>\n",
       "      <td>0.0</td>\n",
       "      <td>0.0</td>\n",
       "      <td>0.0</td>\n",
       "      <td>0.0</td>\n",
       "      <td>0.0</td>\n",
       "      <td>0.0</td>\n",
       "      <td>0.0</td>\n",
       "      <td>0.0</td>\n",
       "      <td>0.0</td>\n",
       "      <td>0.0</td>\n",
       "      <td>0.0</td>\n",
       "      <td>0.0</td>\n",
       "    </tr>\n",
       "    <tr>\n",
       "      <th>secondary_market</th>\n",
       "      <td>0.0</td>\n",
       "      <td>0.0</td>\n",
       "      <td>0.0</td>\n",
       "      <td>0.0</td>\n",
       "      <td>0.0</td>\n",
       "      <td>0.0</td>\n",
       "      <td>0.0</td>\n",
       "      <td>0.0</td>\n",
       "      <td>0.0</td>\n",
       "      <td>0.0</td>\n",
       "      <td>0.0</td>\n",
       "      <td>0.0</td>\n",
       "      <td>0.0</td>\n",
       "      <td>0.0</td>\n",
       "      <td>0.0</td>\n",
       "      <td>0.0</td>\n",
       "      <td>0.0</td>\n",
       "      <td>0.0</td>\n",
       "      <td>0.0</td>\n",
       "      <td>0.0</td>\n",
       "    </tr>\n",
       "    <tr>\n",
       "      <th>product_crowdfunding</th>\n",
       "      <td>0.0</td>\n",
       "      <td>0.0</td>\n",
       "      <td>0.0</td>\n",
       "      <td>0.0</td>\n",
       "      <td>0.0</td>\n",
       "      <td>0.0</td>\n",
       "      <td>0.0</td>\n",
       "      <td>0.0</td>\n",
       "      <td>0.0</td>\n",
       "      <td>0.0</td>\n",
       "      <td>0.0</td>\n",
       "      <td>0.0</td>\n",
       "      <td>0.0</td>\n",
       "      <td>0.0</td>\n",
       "      <td>0.0</td>\n",
       "      <td>0.0</td>\n",
       "      <td>0.0</td>\n",
       "      <td>0.0</td>\n",
       "      <td>0.0</td>\n",
       "      <td>0.0</td>\n",
       "    </tr>\n",
       "    <tr>\n",
       "      <th>round_A</th>\n",
       "      <td>0.0</td>\n",
       "      <td>0.0</td>\n",
       "      <td>0.0</td>\n",
       "      <td>0.0</td>\n",
       "      <td>0.0</td>\n",
       "      <td>0.0</td>\n",
       "      <td>0.0</td>\n",
       "      <td>0.0</td>\n",
       "      <td>0.0</td>\n",
       "      <td>0.0</td>\n",
       "      <td>0.0</td>\n",
       "      <td>12400000.0</td>\n",
       "      <td>0.0</td>\n",
       "      <td>0.0</td>\n",
       "      <td>3000000.0</td>\n",
       "      <td>0.0</td>\n",
       "      <td>4500000.0</td>\n",
       "      <td>0.0</td>\n",
       "      <td>0.0</td>\n",
       "      <td>0.0</td>\n",
       "    </tr>\n",
       "    <tr>\n",
       "      <th>round_B</th>\n",
       "      <td>0.0</td>\n",
       "      <td>0.0</td>\n",
       "      <td>0.0</td>\n",
       "      <td>0.0</td>\n",
       "      <td>0.0</td>\n",
       "      <td>0.0</td>\n",
       "      <td>0.0</td>\n",
       "      <td>0.0</td>\n",
       "      <td>0.0</td>\n",
       "      <td>0.0</td>\n",
       "      <td>0.0</td>\n",
       "      <td>28400000.0</td>\n",
       "      <td>0.0</td>\n",
       "      <td>0.0</td>\n",
       "      <td>2500000.0</td>\n",
       "      <td>0.0</td>\n",
       "      <td>1704822.0</td>\n",
       "      <td>0.0</td>\n",
       "      <td>0.0</td>\n",
       "      <td>0.0</td>\n",
       "    </tr>\n",
       "    <tr>\n",
       "      <th>round_C</th>\n",
       "      <td>0.0</td>\n",
       "      <td>0.0</td>\n",
       "      <td>0.0</td>\n",
       "      <td>0.0</td>\n",
       "      <td>0.0</td>\n",
       "      <td>0.0</td>\n",
       "      <td>0.0</td>\n",
       "      <td>0.0</td>\n",
       "      <td>0.0</td>\n",
       "      <td>0.0</td>\n",
       "      <td>0.0</td>\n",
       "      <td>17500000.0</td>\n",
       "      <td>0.0</td>\n",
       "      <td>0.0</td>\n",
       "      <td>0.0</td>\n",
       "      <td>0.0</td>\n",
       "      <td>0.0</td>\n",
       "      <td>0.0</td>\n",
       "      <td>0.0</td>\n",
       "      <td>0.0</td>\n",
       "    </tr>\n",
       "    <tr>\n",
       "      <th>round_D</th>\n",
       "      <td>0.0</td>\n",
       "      <td>0.0</td>\n",
       "      <td>0.0</td>\n",
       "      <td>0.0</td>\n",
       "      <td>0.0</td>\n",
       "      <td>0.0</td>\n",
       "      <td>0.0</td>\n",
       "      <td>0.0</td>\n",
       "      <td>0.0</td>\n",
       "      <td>0.0</td>\n",
       "      <td>0.0</td>\n",
       "      <td>0.0</td>\n",
       "      <td>0.0</td>\n",
       "      <td>0.0</td>\n",
       "      <td>0.0</td>\n",
       "      <td>0.0</td>\n",
       "      <td>0.0</td>\n",
       "      <td>0.0</td>\n",
       "      <td>0.0</td>\n",
       "      <td>0.0</td>\n",
       "    </tr>\n",
       "    <tr>\n",
       "      <th>round_E</th>\n",
       "      <td>0.0</td>\n",
       "      <td>0.0</td>\n",
       "      <td>0.0</td>\n",
       "      <td>0.0</td>\n",
       "      <td>0.0</td>\n",
       "      <td>0.0</td>\n",
       "      <td>0.0</td>\n",
       "      <td>0.0</td>\n",
       "      <td>0.0</td>\n",
       "      <td>0.0</td>\n",
       "      <td>0.0</td>\n",
       "      <td>0.0</td>\n",
       "      <td>0.0</td>\n",
       "      <td>0.0</td>\n",
       "      <td>0.0</td>\n",
       "      <td>0.0</td>\n",
       "      <td>0.0</td>\n",
       "      <td>0.0</td>\n",
       "      <td>0.0</td>\n",
       "      <td>0.0</td>\n",
       "    </tr>\n",
       "    <tr>\n",
       "      <th>round_F</th>\n",
       "      <td>0.0</td>\n",
       "      <td>0.0</td>\n",
       "      <td>0.0</td>\n",
       "      <td>0.0</td>\n",
       "      <td>0.0</td>\n",
       "      <td>0.0</td>\n",
       "      <td>0.0</td>\n",
       "      <td>0.0</td>\n",
       "      <td>0.0</td>\n",
       "      <td>0.0</td>\n",
       "      <td>0.0</td>\n",
       "      <td>0.0</td>\n",
       "      <td>0.0</td>\n",
       "      <td>0.0</td>\n",
       "      <td>0.0</td>\n",
       "      <td>0.0</td>\n",
       "      <td>0.0</td>\n",
       "      <td>0.0</td>\n",
       "      <td>0.0</td>\n",
       "      <td>0.0</td>\n",
       "    </tr>\n",
       "    <tr>\n",
       "      <th>round_G</th>\n",
       "      <td>0.0</td>\n",
       "      <td>0.0</td>\n",
       "      <td>0.0</td>\n",
       "      <td>0.0</td>\n",
       "      <td>0.0</td>\n",
       "      <td>0.0</td>\n",
       "      <td>0.0</td>\n",
       "      <td>0.0</td>\n",
       "      <td>0.0</td>\n",
       "      <td>0.0</td>\n",
       "      <td>0.0</td>\n",
       "      <td>0.0</td>\n",
       "      <td>0.0</td>\n",
       "      <td>0.0</td>\n",
       "      <td>0.0</td>\n",
       "      <td>0.0</td>\n",
       "      <td>0.0</td>\n",
       "      <td>0.0</td>\n",
       "      <td>0.0</td>\n",
       "      <td>0.0</td>\n",
       "    </tr>\n",
       "    <tr>\n",
       "      <th>round_H</th>\n",
       "      <td>0.0</td>\n",
       "      <td>0.0</td>\n",
       "      <td>0.0</td>\n",
       "      <td>0.0</td>\n",
       "      <td>0.0</td>\n",
       "      <td>0.0</td>\n",
       "      <td>0.0</td>\n",
       "      <td>0.0</td>\n",
       "      <td>0.0</td>\n",
       "      <td>0.0</td>\n",
       "      <td>0.0</td>\n",
       "      <td>0.0</td>\n",
       "      <td>0.0</td>\n",
       "      <td>0.0</td>\n",
       "      <td>0.0</td>\n",
       "      <td>0.0</td>\n",
       "      <td>0.0</td>\n",
       "      <td>0.0</td>\n",
       "      <td>0.0</td>\n",
       "      <td>0.0</td>\n",
       "    </tr>\n",
       "  </tbody>\n",
       "</table>\n",
       "</div>"
      ],
      "text/plain": [
       "                       40   41   42        43        44        45   46  \\\n",
       "seed                  0.0  0.0  0.0  250000.0   69000.0  500000.0  0.0   \n",
       "venture               0.0  0.0  0.0       0.0       0.0  150267.0  0.0   \n",
       "equity_crowdfunding   0.0  0.0  0.0       0.0       0.0       0.0  0.0   \n",
       "undisclosed           0.0  0.0  0.0       0.0       0.0       0.0  0.0   \n",
       "convertible_note      0.0  0.0  0.0       0.0       0.0       0.0  0.0   \n",
       "debt_financing        0.0  0.0  0.0       0.0       0.0       0.0  0.0   \n",
       "angel                 0.0  0.0  0.0       0.0  500000.0       0.0  0.0   \n",
       "grant                 0.0  0.0  0.0   20000.0  225000.0       0.0  0.0   \n",
       "private_equity        0.0  0.0  0.0       0.0       0.0       0.0  0.0   \n",
       "post_ipo_equity       0.0  0.0  0.0       0.0       0.0       0.0  0.0   \n",
       "post_ipo_debt         0.0  0.0  0.0       0.0       0.0       0.0  0.0   \n",
       "secondary_market      0.0  0.0  0.0       0.0       0.0       0.0  0.0   \n",
       "product_crowdfunding  0.0  0.0  0.0       0.0       0.0       0.0  0.0   \n",
       "round_A               0.0  0.0  0.0       0.0       0.0       0.0  0.0   \n",
       "round_B               0.0  0.0  0.0       0.0       0.0       0.0  0.0   \n",
       "round_C               0.0  0.0  0.0       0.0       0.0       0.0  0.0   \n",
       "round_D               0.0  0.0  0.0       0.0       0.0       0.0  0.0   \n",
       "round_E               0.0  0.0  0.0       0.0       0.0       0.0  0.0   \n",
       "round_F               0.0  0.0  0.0       0.0       0.0       0.0  0.0   \n",
       "round_G               0.0  0.0  0.0       0.0       0.0       0.0  0.0   \n",
       "round_H               0.0  0.0  0.0       0.0       0.0       0.0  0.0   \n",
       "\n",
       "                            47        48        49   50          51   52  \\\n",
       "seed                  378812.0  130636.0       0.0  0.0         0.0  0.0   \n",
       "venture                    0.0       0.0       0.0  0.0  63450000.0  0.0   \n",
       "equity_crowdfunding        0.0       0.0       0.0  0.0         0.0  0.0   \n",
       "undisclosed                0.0       0.0       0.0  0.0         0.0  0.0   \n",
       "convertible_note           0.0       0.0       0.0  0.0         0.0  0.0   \n",
       "debt_financing             0.0       0.0       0.0  0.0         0.0  0.0   \n",
       "angel                      0.0       0.0  619494.0  0.0         0.0  0.0   \n",
       "grant                      0.0       0.0       0.0  0.0   3000000.0  0.0   \n",
       "private_equity             0.0       0.0       0.0  0.0         0.0  0.0   \n",
       "post_ipo_equity            0.0       0.0       0.0  0.0         0.0  0.0   \n",
       "post_ipo_debt              0.0       0.0       0.0  0.0         0.0  0.0   \n",
       "secondary_market           0.0       0.0       0.0  0.0         0.0  0.0   \n",
       "product_crowdfunding       0.0       0.0       0.0  0.0         0.0  0.0   \n",
       "round_A                    0.0       0.0       0.0  0.0  12400000.0  0.0   \n",
       "round_B                    0.0       0.0       0.0  0.0  28400000.0  0.0   \n",
       "round_C                    0.0       0.0       0.0  0.0  17500000.0  0.0   \n",
       "round_D                    0.0       0.0       0.0  0.0         0.0  0.0   \n",
       "round_E                    0.0       0.0       0.0  0.0         0.0  0.0   \n",
       "round_F                    0.0       0.0       0.0  0.0         0.0  0.0   \n",
       "round_G                    0.0       0.0       0.0  0.0         0.0  0.0   \n",
       "round_H                    0.0       0.0       0.0  0.0         0.0  0.0   \n",
       "\n",
       "                            53         54        55         56         57  \\\n",
       "seed                  700000.0        0.0  500000.0        0.0  2200000.0   \n",
       "venture                    0.0  5500000.0       0.0  6204822.0        0.0   \n",
       "equity_crowdfunding        0.0        0.0       0.0        0.0        0.0   \n",
       "undisclosed                0.0        0.0       0.0        0.0        0.0   \n",
       "convertible_note           0.0        0.0       0.0        0.0        0.0   \n",
       "debt_financing             0.0        0.0       0.0        0.0        0.0   \n",
       "angel                      0.0        0.0       0.0        0.0  1200000.0   \n",
       "grant                      0.0        0.0       0.0        0.0        0.0   \n",
       "private_equity             0.0        0.0       0.0        0.0        0.0   \n",
       "post_ipo_equity            0.0        0.0       0.0        0.0        0.0   \n",
       "post_ipo_debt              0.0        0.0       0.0        0.0        0.0   \n",
       "secondary_market           0.0        0.0       0.0        0.0        0.0   \n",
       "product_crowdfunding       0.0        0.0       0.0        0.0        0.0   \n",
       "round_A                    0.0  3000000.0       0.0  4500000.0        0.0   \n",
       "round_B                    0.0  2500000.0       0.0  1704822.0        0.0   \n",
       "round_C                    0.0        0.0       0.0        0.0        0.0   \n",
       "round_D                    0.0        0.0       0.0        0.0        0.0   \n",
       "round_E                    0.0        0.0       0.0        0.0        0.0   \n",
       "round_F                    0.0        0.0       0.0        0.0        0.0   \n",
       "round_G                    0.0        0.0       0.0        0.0        0.0   \n",
       "round_H                    0.0        0.0       0.0        0.0        0.0   \n",
       "\n",
       "                            58        59  \n",
       "seed                  200000.0       0.0  \n",
       "venture                    0.0  199957.0  \n",
       "equity_crowdfunding        0.0       0.0  \n",
       "undisclosed                0.0       0.0  \n",
       "convertible_note           0.0       0.0  \n",
       "debt_financing             0.0       0.0  \n",
       "angel                      0.0       0.0  \n",
       "grant                      0.0       0.0  \n",
       "private_equity             0.0       0.0  \n",
       "post_ipo_equity            0.0       0.0  \n",
       "post_ipo_debt              0.0       0.0  \n",
       "secondary_market           0.0       0.0  \n",
       "product_crowdfunding       0.0       0.0  \n",
       "round_A                    0.0       0.0  \n",
       "round_B                    0.0       0.0  \n",
       "round_C                    0.0       0.0  \n",
       "round_D                    0.0       0.0  \n",
       "round_E                    0.0       0.0  \n",
       "round_F                    0.0       0.0  \n",
       "round_G                    0.0       0.0  \n",
       "round_H                    0.0       0.0  "
      ]
     },
     "execution_count": 18,
     "metadata": {},
     "output_type": "execute_result"
    }
   ],
   "source": [
    "df.iloc[40:60,18:40].T"
   ]
  },
  {
   "cell_type": "code",
   "execution_count": 15,
   "metadata": {
    "ExecuteTime": {
     "end_time": "2020-03-24T21:26:45.239233Z",
     "start_time": "2020-03-24T21:26:45.218551Z"
    }
   },
   "outputs": [],
   "source": [
    "tot_round = df.iloc[:,31:40].T.sum()"
   ]
  },
  {
   "cell_type": "code",
   "execution_count": 16,
   "metadata": {
    "ExecuteTime": {
     "end_time": "2020-03-24T21:26:45.680748Z",
     "start_time": "2020-03-24T21:26:45.662391Z"
    }
   },
   "outputs": [],
   "source": [
    "tot_funds = df.iloc[:,18:31].T.sum()"
   ]
  },
  {
   "cell_type": "code",
   "execution_count": 17,
   "metadata": {
    "ExecuteTime": {
     "end_time": "2020-03-24T21:26:46.161566Z",
     "start_time": "2020-03-24T21:26:46.154385Z"
    }
   },
   "outputs": [
    {
     "name": "stdout",
     "output_type": "stream",
     "text": [
      "There are 0 instances of larger sums of round funding than other financing data\n"
     ]
    }
   ],
   "source": [
    "print('There are {} instances of larger sums of round funding than other financing data'.format((tot_round>tot_funds).sum()))"
   ]
  },
  {
   "cell_type": "markdown",
   "metadata": {},
   "source": [
    "It seems that some funding round info is missing. Lets treat it as a categorical binary variable instead."
   ]
  },
  {
   "cell_type": "code",
   "execution_count": 231,
   "metadata": {
    "ExecuteTime": {
     "end_time": "2020-03-25T10:11:18.884386Z",
     "start_time": "2020-03-25T10:11:18.671788Z"
    }
   },
   "outputs": [],
   "source": [
    "df.iloc[:,31:40] = df.iloc[:,31:40].applymap(lambda x: 1 if x>0 else 0)"
   ]
  },
  {
   "cell_type": "code",
   "execution_count": 23,
   "metadata": {
    "ExecuteTime": {
     "end_time": "2020-03-21T21:42:57.796710Z",
     "start_time": "2020-03-21T21:42:57.514420Z"
    }
   },
   "outputs": [
    {
     "data": {
      "image/png": "[encoded data removed]",
      "text/plain": [
       "<Figure size 432x288 with 1 Axes>"
      ]
     },
     "metadata": {
      "needs_background": "light"
     },
     "output_type": "display_data"
    }
   ],
   "source": [
    "df.iloc[:,31:40].sum().plot(kind = 'barh');"
   ]
  },
  {
   "cell_type": "code",
   "execution_count": 348,
   "metadata": {
    "ExecuteTime": {
     "end_time": "2020-03-25T10:21:13.188532Z",
     "start_time": "2020-03-25T10:21:13.183317Z"
    }
   },
   "outputs": [],
   "source": [
    "def transform_data(df, how, output):\n",
    "    \n",
    "    if how == 'minmax':\n",
    "        scaler = MinMaxScaler()\n",
    "    elif how == 'standard':\n",
    "        scaler = StandardScaler()\n",
    "    else:\n",
    "        scaler = PowerTransformer()\n",
    "    \n",
    "    if output == 'df':\n",
    "        return pd.DataFrame(scaler.fit_transform(df), columns = df.columns, index = df.index)\n",
    "    else:\n",
    "        return scaler.fit_transform(df)"
   ]
  },
  {
   "cell_type": "markdown",
   "metadata": {},
   "source": [
    "Our data looks to be massively skewed."
   ]
  },
  {
   "cell_type": "code",
   "execution_count": 25,
   "metadata": {
    "ExecuteTime": {
     "end_time": "2020-03-21T21:42:59.204358Z",
     "start_time": "2020-03-21T21:42:58.860725Z"
    }
   },
   "outputs": [
    {
     "data": {
      "image/png": "[encoded data removed]",
      "text/plain": [
       "<Figure size 576x360 with 1 Axes>"
      ]
     },
     "metadata": {
      "needs_background": "light"
     },
     "output_type": "display_data"
    }
   ],
   "source": [
    "fig, ax = plt.subplots(figsize = (8,5))\n",
    "sns.distplot(tot_funds[(tot_funds>0)&(tot_funds<10**9)]);"
   ]
  },
  {
   "cell_type": "code",
   "execution_count": 26,
   "metadata": {
    "ExecuteTime": {
     "end_time": "2020-03-21T21:43:00.200981Z",
     "start_time": "2020-03-21T21:42:59.206228Z"
    }
   },
   "outputs": [
    {
     "data": {
      "image/png": "[encoded data removed]",
      "text/plain": [
       "<Figure size 864x576 with 1 Axes>"
      ]
     },
     "metadata": {
      "needs_background": "light"
     },
     "output_type": "display_data"
    }
   ],
   "source": [
    "temp_df = df[df['seed']<10**9]\n",
    "fig, ax = plt.subplots(figsize = (12,8))\n",
    "sns.violinplot(x = 'funding_rounds', y = 'seed', hue = 'status', data = temp_df);\n",
    "plt.show()"
   ]
  },
  {
   "cell_type": "code",
   "execution_count": 37,
   "metadata": {
    "ExecuteTime": {
     "end_time": "2020-03-24T21:46:45.190170Z",
     "start_time": "2020-03-24T21:46:43.610110Z"
    }
   },
   "outputs": [
    {
     "data": {
      "image/png": "[encoded data removed]",
      "text/plain": [
       "<Figure size 1296x1296 with 2 Axes>"
      ]
     },
     "metadata": {
      "needs_background": "light"
     },
     "output_type": "display_data"
    }
   ],
   "source": [
    "var_cor = (round(df.corr(),3))\n",
    "mask = np.zeros_like(var_cor, dtype=np.bool)\n",
    "mask[np.triu_indices_from(mask)] = True\n",
    "\n",
    "plt.figure(figsize=(18, 18)),\n",
    "sns.heatmap(var_cor,\n",
    "            cmap='coolwarm',\n",
    "            annot=True,\n",
    "            mask = mask)\n",
    "plt.title('Correlations heatmap');\n",
    "plt.show()"
   ]
  },
  {
   "cell_type": "code",
   "execution_count": 57,
   "metadata": {
    "ExecuteTime": {
     "end_time": "2020-03-24T21:55:53.980539Z",
     "start_time": "2020-03-24T21:55:53.971185Z"
    }
   },
   "outputs": [
    {
     "data": {
      "text/plain": [
       "42802         The Miriam Hospital\n",
       "49126                     Ziegler\n",
       "39383                  SodaStream\n",
       "24625       Loma Linda University\n",
       "7862         CES Acquisition Corp\n",
       "22312      Justrite Manufacturing\n",
       "23907    Liberator Medical Supply\n",
       "31052             Owensboro Grain\n",
       "48198                       Xerox\n",
       "45071        University of Hawaii\n",
       "42288              Telecom Italia\n",
       "Name: name, dtype: object"
      ]
     },
     "execution_count": 57,
     "metadata": {},
     "output_type": "execute_result"
    }
   ],
   "source": [
    "df[df['founded_year']<1910].sort_values(by = 'founded_year')['name']"
   ]
  },
  {
   "cell_type": "code",
   "execution_count": 67,
   "metadata": {
    "ExecuteTime": {
     "end_time": "2020-03-24T21:57:53.998221Z",
     "start_time": "2020-03-24T21:57:53.816305Z"
    }
   },
   "outputs": [
    {
     "data": {
      "image/png": "[encoded data removed]",
      "text/plain": [
       "<Figure size 432x288 with 1 Axes>"
      ]
     },
     "metadata": {
      "needs_background": "light"
     },
     "output_type": "display_data"
    }
   ],
   "source": [
    "df['founded_year'].hist();"
   ]
  },
  {
   "cell_type": "code",
   "execution_count": 63,
   "metadata": {
    "ExecuteTime": {
     "end_time": "2020-03-24T21:57:33.498043Z",
     "start_time": "2020-03-24T21:57:33.487337Z"
    }
   },
   "outputs": [
    {
     "data": {
      "text/plain": [
       "7.401039665041768"
      ]
     },
     "execution_count": 63,
     "metadata": {},
     "output_type": "execute_result"
    }
   ],
   "source": [
    "df[df['founded_year']<2000].shape[0]/df.shape[0]*100"
   ]
  },
  {
   "cell_type": "code",
   "execution_count": 72,
   "metadata": {
    "ExecuteTime": {
     "end_time": "2020-03-24T22:06:34.704613Z",
     "start_time": "2020-03-24T22:06:32.923004Z"
    }
   },
   "outputs": [
    {
     "data": {
      "image/png": "[encoded data removed]",
      "text/plain": [
       "<Figure size 1440x720 with 1 Axes>"
      ]
     },
     "metadata": {
      "needs_background": "light"
     },
     "output_type": "display_data"
    }
   ],
   "source": [
    "numerics = ['int16', 'int32', 'int64', 'float16', 'float32', 'float64']\n",
    "fig, ax = plt.subplots(figsize = (20,10))\n",
    "transform_data(df[list(df.select_dtypes(include=numerics).columns)], 'power', 'df').boxplot(ax = ax);"
   ]
  },
  {
   "cell_type": "markdown",
   "metadata": {},
   "source": [
    "### Key findings:\n",
    "\n",
    "- There is skew all over the dataset. We have some companies who've received enormous amounts of funding and others with almost nothing.\n",
    "- We see countries in "
   ]
  },
  {
   "cell_type": "markdown",
   "metadata": {},
   "source": [
    "# Feature Engineering"
   ]
  },
  {
   "cell_type": "markdown",
   "metadata": {},
   "source": [
    "#### There is much to do:\n",
    "\n",
    "- We need to sort out categories that businesses fall into\n",
    "- Names to manipulate\n",
    "- Various times to turn into useful features\n",
    "- We have many locations to minimise"
   ]
  },
  {
   "cell_type": "markdown",
   "metadata": {},
   "source": [
    "#### Create dummies for popular categories"
   ]
  },
  {
   "cell_type": "code",
   "execution_count": 304,
   "metadata": {
    "ExecuteTime": {
     "end_time": "2020-03-25T10:19:29.323789Z",
     "start_time": "2020-03-25T10:19:29.256415Z"
    }
   },
   "outputs": [],
   "source": [
    "df.category_list = df.category_list.str.replace(' ','').str.replace('|', ' ')"
   ]
  },
  {
   "cell_type": "code",
   "execution_count": 305,
   "metadata": {
    "ExecuteTime": {
     "end_time": "2020-03-25T10:19:31.634591Z",
     "start_time": "2020-03-25T10:19:31.617808Z"
    }
   },
   "outputs": [],
   "source": [
    "df.category_list = df.category_list.fillna(' ')"
   ]
  },
  {
   "cell_type": "code",
   "execution_count": 306,
   "metadata": {
    "ExecuteTime": {
     "end_time": "2020-03-25T10:19:31.655423Z",
     "start_time": "2020-03-25T10:19:31.638933Z"
    }
   },
   "outputs": [
    {
     "data": {
      "text/plain": [
       "0             Entertainment Politics SocialMedia News \n",
       "1                                               Games \n",
       "2                                Publishing Education \n",
       "3     Electronics Guides Coffee Restaurants Music i...\n",
       "4                         Tourism Entertainment Games \n",
       "Name: category_list, dtype: object"
      ]
     },
     "execution_count": 306,
     "metadata": {},
     "output_type": "execute_result"
    }
   ],
   "source": [
    "df.category_list.head()"
   ]
  },
  {
   "cell_type": "code",
   "execution_count": 307,
   "metadata": {
    "ExecuteTime": {
     "end_time": "2020-03-25T10:19:31.937018Z",
     "start_time": "2020-03-25T10:19:31.657715Z"
    }
   },
   "outputs": [],
   "source": [
    "vectoriser = CountVectorizer()\n",
    "sparse_cats = vectoriser.fit_transform(df.category_list)"
   ]
  },
  {
   "cell_type": "code",
   "execution_count": 308,
   "metadata": {
    "ExecuteTime": {
     "end_time": "2020-03-25T10:19:33.627505Z",
     "start_time": "2020-03-25T10:19:33.480084Z"
    }
   },
   "outputs": [],
   "source": [
    "cats_df = pd.DataFrame(sparse_cats.todense(), columns=vectoriser.get_feature_names())"
   ]
  },
  {
   "cell_type": "code",
   "execution_count": 309,
   "metadata": {
    "ExecuteTime": {
     "end_time": "2020-03-25T10:19:40.198985Z",
     "start_time": "2020-03-25T10:19:40.185537Z"
    }
   },
   "outputs": [
    {
     "name": "stdout",
     "output_type": "stream",
     "text": [
      "We have 831 categories. We will have to try reduce this!\n"
     ]
    }
   ],
   "source": [
    "print('We have {} categories. We will have to try reduce this!'.format(cats_df.shape[1]))"
   ]
  },
  {
   "cell_type": "markdown",
   "metadata": {},
   "source": [
    "### Determining number of categories to take"
   ]
  },
  {
   "cell_type": "code",
   "execution_count": 79,
   "metadata": {
    "ExecuteTime": {
     "end_time": "2020-03-24T22:07:01.352586Z",
     "start_time": "2020-03-24T22:06:59.780417Z"
    }
   },
   "outputs": [],
   "source": [
    "X = cats_df.copy()\n",
    "X['status'] = df.status"
   ]
  },
  {
   "cell_type": "code",
   "execution_count": 80,
   "metadata": {
    "ExecuteTime": {
     "end_time": "2020-03-24T22:07:02.955449Z",
     "start_time": "2020-03-24T22:07:01.354826Z"
    }
   },
   "outputs": [],
   "source": [
    "X.drop_duplicates(inplace = True)\n",
    "X.dropna(inplace = True)"
   ]
  },
  {
   "cell_type": "code",
   "execution_count": 81,
   "metadata": {
    "ExecuteTime": {
     "end_time": "2020-03-24T22:07:03.002779Z",
     "start_time": "2020-03-24T22:07:02.962083Z"
    }
   },
   "outputs": [],
   "source": [
    "y = X['status']\n",
    "X = X.drop(['status'], axis = 1)"
   ]
  },
  {
   "cell_type": "code",
   "execution_count": 82,
   "metadata": {
    "ExecuteTime": {
     "end_time": "2020-03-24T22:07:03.536266Z",
     "start_time": "2020-03-24T22:07:03.008004Z"
    }
   },
   "outputs": [],
   "source": [
    "scaler = StandardScaler()\n",
    "Xs = pd.DataFrame(scaler.fit_transform(X), columns = X.columns)"
   ]
  },
  {
   "cell_type": "code",
   "execution_count": 84,
   "metadata": {
    "ExecuteTime": {
     "end_time": "2020-03-24T22:07:19.219937Z",
     "start_time": "2020-03-24T22:07:19.216360Z"
    }
   },
   "outputs": [],
   "source": [
    "param_grid = {\n",
    "    \n",
    "    'n_estimators':[150,300,450,600],\n",
    "    'max_depth':[10,15,25,None],\n",
    "    \n",
    "}\n",
    "\n",
    "grid = GridSearchCV(RandomForestClassifier(random_state = 1),\n",
    "                    param_grid,\n",
    "                    cv = 5,\n",
    "                    n_jobs = 2).fit(Xs, y)\n",
    "\n",
    "print(grid.best_score_)\n",
    "\n",
    "print(grid.best_params_)"
   ]
  },
  {
   "cell_type": "code",
   "execution_count": null,
   "metadata": {
    "ExecuteTime": {
     "end_time": "2020-03-24T22:07:05.198898Z",
     "start_time": "2020-03-24T22:06:59.428Z"
    }
   },
   "outputs": [],
   "source": [
    "rf_cats = RandomForestClassifier(random_state = 1,\n",
    "                    max_depth = 10,\n",
    "                    n_estimators = 150,\n",
    "                    n_jobs = 2).fit(Xs, y)"
   ]
  },
  {
   "cell_type": "code",
   "execution_count": null,
   "metadata": {
    "ExecuteTime": {
     "end_time": "2020-03-24T22:07:05.201029Z",
     "start_time": "2020-03-24T22:06:59.668Z"
    }
   },
   "outputs": [],
   "source": [
    "cats_imps = pd.DataFrame({'importance':rf_cats.feature_importances_,\n",
    "                     'feature':Xs.columns}).sort_values(by = 'importance')"
   ]
  },
  {
   "cell_type": "code",
   "execution_count": 53,
   "metadata": {
    "ExecuteTime": {
     "end_time": "2020-03-21T19:02:43.908505Z",
     "start_time": "2020-03-21T19:02:43.758023Z"
    },
    "scrolled": true
   },
   "outputs": [
    {
     "data": {
      "image/png": "[encoded data removed]",
      "text/plain": [
       "<Figure size 432x288 with 1 Axes>"
      ]
     },
     "metadata": {
      "needs_background": "light"
     },
     "output_type": "display_data"
    }
   ],
   "source": [
    "plt.plot(cats_imps['importance'].cumsum().values);"
   ]
  },
  {
   "cell_type": "markdown",
   "metadata": {},
   "source": [
    "At around 400 categories, they cease to maintain any importance in the model."
   ]
  },
  {
   "cell_type": "markdown",
   "metadata": {},
   "source": [
    "Lets only keep 400 for our model."
   ]
  },
  {
   "cell_type": "code",
   "execution_count": 310,
   "metadata": {
    "ExecuteTime": {
     "end_time": "2020-03-25T10:19:42.559100Z",
     "start_time": "2020-03-25T10:19:42.464957Z"
    }
   },
   "outputs": [],
   "source": [
    "num = 400\n",
    "top_cats = list(cats_df.sum().sort_values(ascending = False)[0:num].index)"
   ]
  },
  {
   "cell_type": "code",
   "execution_count": 311,
   "metadata": {
    "ExecuteTime": {
     "end_time": "2020-03-25T10:19:45.198214Z",
     "start_time": "2020-03-25T10:19:44.501402Z"
    }
   },
   "outputs": [],
   "source": [
    "df = pd.concat([cats_df[top_cats], df], axis = 1)"
   ]
  },
  {
   "cell_type": "code",
   "execution_count": 312,
   "metadata": {
    "ExecuteTime": {
     "end_time": "2020-03-25T10:19:45.445496Z",
     "start_time": "2020-03-25T10:19:45.205693Z"
    }
   },
   "outputs": [],
   "source": [
    "df.drop(['category_list', 'market'], axis = 1, inplace = True)"
   ]
  },
  {
   "cell_type": "markdown",
   "metadata": {},
   "source": [
    "#### Permalink and Name"
   ]
  },
  {
   "cell_type": "code",
   "execution_count": 313,
   "metadata": {
    "ExecuteTime": {
     "end_time": "2020-03-25T10:19:49.471919Z",
     "start_time": "2020-03-25T10:19:49.425188Z"
    }
   },
   "outputs": [
    {
     "data": {
      "text/plain": [
       "organization    49438\n",
       "Name: permalink, dtype: int64"
      ]
     },
     "execution_count": 313,
     "metadata": {},
     "output_type": "execute_result"
    }
   ],
   "source": [
    "df.permalink.apply(lambda x: x.split('/')[1] if x == str(x) else x).value_counts()"
   ]
  },
  {
   "cell_type": "code",
   "execution_count": 314,
   "metadata": {
    "ExecuteTime": {
     "end_time": "2020-03-25T10:19:49.551464Z",
     "start_time": "2020-03-25T10:19:49.474101Z"
    }
   },
   "outputs": [
    {
     "data": {
      "text/plain": [
       "prysm                               2\n",
       "treasure-valley-urology-services    2\n",
       "innfocus-inc                        1\n",
       "diaderma-bv                         1\n",
       "beats-music                         1\n",
       "cadee                               1\n",
       "street-library-network              1\n",
       "omnia-media                         1\n",
       "veniam                              1\n",
       "scour-prevention                    1\n",
       "Name: permalink, dtype: int64"
      ]
     },
     "execution_count": 314,
     "metadata": {},
     "output_type": "execute_result"
    }
   ],
   "source": [
    "df.permalink.apply(lambda x: x.split('/')[2] if x == str(x) else x).value_counts()[0:10]"
   ]
  },
  {
   "cell_type": "code",
   "execution_count": 315,
   "metadata": {
    "ExecuteTime": {
     "end_time": "2020-03-25T10:19:49.597575Z",
     "start_time": "2020-03-25T10:19:49.554704Z"
    }
   },
   "outputs": [
    {
     "data": {
      "text/plain": [
       "Spire      4\n",
       "Roost      4\n",
       "Peach      3\n",
       "Shift      3\n",
       "Hubbub     3\n",
       "Cue        3\n",
       "Roadmap    3\n",
       "Compass    3\n",
       "Leap       2\n",
       "Moni       2\n",
       "Name: name, dtype: int64"
      ]
     },
     "execution_count": 315,
     "metadata": {},
     "output_type": "execute_result"
    }
   ],
   "source": [
    "df.name.value_counts()[0:10]"
   ]
  },
  {
   "cell_type": "markdown",
   "metadata": {},
   "source": [
    "Permalink and name carry slightly different information. But permalink doesn't appear to carry any unique information over the url so we will drop it."
   ]
  },
  {
   "cell_type": "code",
   "execution_count": 316,
   "metadata": {
    "ExecuteTime": {
     "end_time": "2020-03-25T10:19:55.617739Z",
     "start_time": "2020-03-25T10:19:55.483333Z"
    }
   },
   "outputs": [],
   "source": [
    "df.drop('permalink', axis = 1, inplace = True)"
   ]
  },
  {
   "cell_type": "markdown",
   "metadata": {},
   "source": [
    "Phil Knight of Nike spoke of how certain letters in a companies name and its length make it stickier. Lets create features for each."
   ]
  },
  {
   "cell_type": "code",
   "execution_count": 317,
   "metadata": {
    "ExecuteTime": {
     "end_time": "2020-03-25T10:19:57.647969Z",
     "start_time": "2020-03-25T10:19:57.640776Z"
    }
   },
   "outputs": [
    {
     "data": {
      "text/plain": [
       "0              #waywire\n",
       "1    &TV Communications\n",
       "2     'Rock' Your Paper\n",
       "3     (In)Touch Network\n",
       "4    -R- Ranch and Mine\n",
       "Name: name, dtype: object"
      ]
     },
     "execution_count": 317,
     "metadata": {},
     "output_type": "execute_result"
    }
   ],
   "source": [
    "df.name.head()"
   ]
  },
  {
   "cell_type": "markdown",
   "metadata": {},
   "source": [
    "Get name length."
   ]
  },
  {
   "cell_type": "code",
   "execution_count": 318,
   "metadata": {
    "ExecuteTime": {
     "end_time": "2020-03-25T10:19:59.485963Z",
     "start_time": "2020-03-25T10:19:59.365878Z"
    }
   },
   "outputs": [],
   "source": [
    "df['name_len'] = df.name.apply(lambda x: len(re.sub(\"[^0-9A-Za-z]\", \"\", x)) if str(x)==x else 0)"
   ]
  },
  {
   "cell_type": "markdown",
   "metadata": {},
   "source": [
    "Sticky letters count."
   ]
  },
  {
   "cell_type": "code",
   "execution_count": 319,
   "metadata": {
    "ExecuteTime": {
     "end_time": "2020-03-25T10:20:01.805225Z",
     "start_time": "2020-03-25T10:20:01.571428Z"
    }
   },
   "outputs": [],
   "source": [
    "df['sticky_letter_count'] = df.name.\\\n",
    "                                apply(lambda x: (len(re.sub(\"[^kKyYzZxX]\", \"\", x))) if str(x)==x else 0).\\\n",
    "                                apply(lambda x: 1 if x>0 else 0)"
   ]
  },
  {
   "cell_type": "markdown",
   "metadata": {},
   "source": [
    "Count the syllables."
   ]
  },
  {
   "cell_type": "code",
   "execution_count": 320,
   "metadata": {
    "ExecuteTime": {
     "end_time": "2020-03-25T10:20:03.582446Z",
     "start_time": "2020-03-25T10:20:03.575908Z"
    }
   },
   "outputs": [],
   "source": [
    "def syllable_count(word):\n",
    "    try:\n",
    "        word = word.lower()\n",
    "        count = 0\n",
    "        vowels = \"aeiouy\"\n",
    "        if word[0] in vowels:\n",
    "            count += 1\n",
    "        for index in range(1, len(word)):\n",
    "            if word[index] in vowels and word[index - 1] not in vowels:\n",
    "                count += 1\n",
    "        if word.endswith(\"e\"):\n",
    "            count -= 1\n",
    "        if count == 0:\n",
    "            count += 1\n",
    "        return count\n",
    "    except:\n",
    "        return 0"
   ]
  },
  {
   "cell_type": "code",
   "execution_count": 321,
   "metadata": {
    "ExecuteTime": {
     "end_time": "2020-03-25T10:20:03.861338Z",
     "start_time": "2020-03-25T10:20:03.585406Z"
    }
   },
   "outputs": [],
   "source": [
    "df['syllable_count'] = df.name.apply(lambda x: syllable_count(re.sub(\"[^A-Za-z]\", \"\", x)) if str(x)==x else 0)"
   ]
  },
  {
   "cell_type": "code",
   "execution_count": 322,
   "metadata": {
    "ExecuteTime": {
     "end_time": "2020-03-25T10:20:04.335525Z",
     "start_time": "2020-03-25T10:20:03.863062Z"
    }
   },
   "outputs": [],
   "source": [
    "df.drop('name', axis = 1, inplace = True)"
   ]
  },
  {
   "cell_type": "markdown",
   "metadata": {},
   "source": [
    "We're done with names, lets now look at url."
   ]
  },
  {
   "cell_type": "code",
   "execution_count": 323,
   "metadata": {
    "ExecuteTime": {
     "end_time": "2020-03-25T10:20:09.314064Z",
     "start_time": "2020-03-25T10:20:09.160345Z"
    }
   },
   "outputs": [
    {
     "data": {
      "text/plain": [
       "com          37722\n",
       "undefined     3450\n",
       "net            927\n",
       "co             626\n",
       "org            485\n",
       "Name: homepage_url, dtype: int64"
      ]
     },
     "execution_count": 323,
     "metadata": {},
     "output_type": "execute_result"
    }
   ],
   "source": [
    "df.homepage_url.apply(lambda x: re.sub(\"[^A-Za-z.]\", \"\", x).split('.')[-1] if str(x)==x else 'undefined').value_counts().head()"
   ]
  },
  {
   "cell_type": "markdown",
   "metadata": {},
   "source": [
    "Given the quantity of .com's, its probably not worth creating a feature out of it. We don't need anything with URL so we can drop it."
   ]
  },
  {
   "cell_type": "code",
   "execution_count": 324,
   "metadata": {
    "ExecuteTime": {
     "end_time": "2020-03-25T10:20:11.026270Z",
     "start_time": "2020-03-25T10:20:10.901186Z"
    }
   },
   "outputs": [],
   "source": [
    "df.drop('homepage_url', axis = 1, inplace = True)"
   ]
  },
  {
   "cell_type": "markdown",
   "metadata": {},
   "source": [
    "### Determining number of locations to take"
   ]
  },
  {
   "cell_type": "code",
   "execution_count": 48,
   "metadata": {
    "ExecuteTime": {
     "end_time": "2020-03-21T22:15:55.874203Z",
     "start_time": "2020-03-21T21:43:43.439747Z"
    }
   },
   "outputs": [
    {
     "name": "stdout",
     "output_type": "stream",
     "text": [
      "We have 4187 location. We will have to try reduce this!\n",
      "0.7400709059548483\n",
      "{'max_depth': 10, 'n_estimators': 150}\n"
     ]
    }
   ],
   "source": [
    "locs_df = pd.get_dummies(df.city, drop_first = True)\n",
    "\n",
    "print('We have {} location. We will have to try reduce this!'.format(locs_df.shape[1]))\n",
    "\n",
    "X = locs_df.copy()\n",
    "X['status'] = df.status\n",
    "\n",
    "X.drop_duplicates(inplace = True)\n",
    "X.dropna(inplace = True)\n",
    "\n",
    "y = X['status']\n",
    "X = X.drop(['status'], axis = 1)\n",
    "\n",
    "scaler = StandardScaler()\n",
    "Xs = pd.DataFrame(scaler.fit_transform(X), columns = X.columns)\n",
    "\n",
    "param_grid = {\n",
    "    \n",
    "    'n_estimators':[150,300,450,600],\n",
    "    'max_depth':[10,15,25,None],\n",
    "    \n",
    "}\n",
    "\n",
    "grid = GridSearchCV(RandomForestClassifier(random_state = 1),\n",
    "                    param_grid,\n",
    "                    cv = 5,\n",
    "                    n_jobs = 2).fit(Xs, y)\n",
    "\n",
    "print(grid.best_score_)\n",
    "\n",
    "print(grid.best_params_)"
   ]
  },
  {
   "cell_type": "code",
   "execution_count": 49,
   "metadata": {
    "ExecuteTime": {
     "end_time": "2020-03-21T22:21:09.887058Z",
     "start_time": "2020-03-21T22:21:08.607270Z"
    }
   },
   "outputs": [],
   "source": [
    "rf_locs = RandomForestClassifier(random_state = 1,\n",
    "                    max_depth = 10,\n",
    "                    n_estimators = 150,\n",
    "                    n_jobs = 2).fit(Xs, y)"
   ]
  },
  {
   "cell_type": "code",
   "execution_count": 51,
   "metadata": {
    "ExecuteTime": {
     "end_time": "2020-03-21T22:21:45.027824Z",
     "start_time": "2020-03-21T22:21:44.900856Z"
    }
   },
   "outputs": [],
   "source": [
    "locs_imps = pd.DataFrame({'importance':rf_locs.feature_importances_,\n",
    "                          'feature':Xs.columns}).sort_values(by = 'importance')"
   ]
  },
  {
   "cell_type": "code",
   "execution_count": 52,
   "metadata": {
    "ExecuteTime": {
     "end_time": "2020-03-21T22:21:59.095907Z",
     "start_time": "2020-03-21T22:21:58.942637Z"
    }
   },
   "outputs": [
    {
     "data": {
      "image/png": "[encoded data removed]",
      "text/plain": [
       "<Figure size 432x288 with 1 Axes>"
      ]
     },
     "metadata": {
      "needs_background": "light"
     },
     "output_type": "display_data"
    }
   ],
   "source": [
    "plt.plot(locs_imps['importance'].cumsum().values);"
   ]
  },
  {
   "cell_type": "code",
   "execution_count": 116,
   "metadata": {
    "ExecuteTime": {
     "end_time": "2020-03-22T20:48:58.917492Z",
     "start_time": "2020-03-22T20:48:58.912081Z"
    }
   },
   "outputs": [],
   "source": [
    "locs_imps['cum_importance'] = locs_imps['importance'].cumsum()"
   ]
  },
  {
   "cell_type": "code",
   "execution_count": 120,
   "metadata": {
    "ExecuteTime": {
     "end_time": "2020-03-22T20:50:46.046235Z",
     "start_time": "2020-03-22T20:50:46.038813Z"
    }
   },
   "outputs": [
    {
     "data": {
      "text/plain": [
       "670"
      ]
     },
     "execution_count": 120,
     "metadata": {},
     "output_type": "execute_result"
    }
   ],
   "source": [
    "locs_imps[locs_imps['cum_importance']>0.05].shape[0]"
   ]
  },
  {
   "cell_type": "code",
   "execution_count": 325,
   "metadata": {
    "ExecuteTime": {
     "end_time": "2020-03-25T10:20:12.554913Z",
     "start_time": "2020-03-25T10:20:12.539010Z"
    }
   },
   "outputs": [],
   "source": [
    "num_cities = 700\n",
    "city_list = list(df.city.value_counts()[:num_cities].index)"
   ]
  },
  {
   "cell_type": "code",
   "execution_count": 326,
   "metadata": {
    "ExecuteTime": {
     "end_time": "2020-03-25T10:20:14.253275Z",
     "start_time": "2020-03-25T10:20:14.023695Z"
    }
   },
   "outputs": [],
   "source": [
    "df.city = df.city.apply(lambda x: x.lower() if x in city_list else 'other_location')"
   ]
  },
  {
   "cell_type": "code",
   "execution_count": 327,
   "metadata": {
    "ExecuteTime": {
     "end_time": "2020-03-25T10:20:14.703738Z",
     "start_time": "2020-03-25T10:20:14.255259Z"
    }
   },
   "outputs": [],
   "source": [
    "df = pd.concat([pd.get_dummies(df.city, drop_first = True), df], axis = 1)"
   ]
  },
  {
   "cell_type": "code",
   "execution_count": 328,
   "metadata": {
    "ExecuteTime": {
     "end_time": "2020-03-25T10:20:15.171910Z",
     "start_time": "2020-03-25T10:20:14.705594Z"
    }
   },
   "outputs": [],
   "source": [
    "df.drop(['state_code', 'region', 'city', 'country_code'], axis = 1, inplace = True)"
   ]
  },
  {
   "cell_type": "markdown",
   "metadata": {},
   "source": [
    "#### Date"
   ]
  },
  {
   "cell_type": "code",
   "execution_count": 329,
   "metadata": {
    "ExecuteTime": {
     "end_time": "2020-03-25T10:20:19.742440Z",
     "start_time": "2020-03-25T10:20:19.724640Z"
    }
   },
   "outputs": [
    {
     "data": {
      "text/plain": [
       "founded_month      10957\n",
       "founded_quarter    10957\n",
       "founded_year       10957\n",
       "dtype: int64"
      ]
     },
     "execution_count": 329,
     "metadata": {},
     "output_type": "execute_result"
    }
   ],
   "source": [
    "df[['founded_month', 'founded_quarter', 'founded_year']].isnull().sum()"
   ]
  },
  {
   "cell_type": "code",
   "execution_count": 330,
   "metadata": {
    "ExecuteTime": {
     "end_time": "2020-03-25T10:20:19.941144Z",
     "start_time": "2020-03-25T10:20:19.744821Z"
    }
   },
   "outputs": [],
   "source": [
    "df.drop(['founded_month', 'founded_quarter', 'founded_year'], axis = 1, inplace = True)"
   ]
  },
  {
   "cell_type": "code",
   "execution_count": 331,
   "metadata": {
    "ExecuteTime": {
     "end_time": "2020-03-25T10:20:19.971337Z",
     "start_time": "2020-03-25T10:20:19.944261Z"
    }
   },
   "outputs": [],
   "source": [
    "df['datetime'] = pd.to_datetime(df.founded_at, errors='coerce')"
   ]
  },
  {
   "cell_type": "code",
   "execution_count": 332,
   "metadata": {
    "ExecuteTime": {
     "end_time": "2020-03-25T10:20:19.985959Z",
     "start_time": "2020-03-25T10:20:19.974667Z"
    }
   },
   "outputs": [],
   "source": [
    "df['year_founded'] = df['datetime'].dt.year"
   ]
  },
  {
   "cell_type": "code",
   "execution_count": 333,
   "metadata": {
    "ExecuteTime": {
     "end_time": "2020-03-25T10:20:26.110056Z",
     "start_time": "2020-03-25T10:20:26.100215Z"
    }
   },
   "outputs": [],
   "source": [
    "df['month_founded'] = df['datetime'].dt.month"
   ]
  },
  {
   "cell_type": "code",
   "execution_count": 334,
   "metadata": {
    "ExecuteTime": {
     "end_time": "2020-03-25T10:20:26.157699Z",
     "start_time": "2020-03-25T10:20:26.112402Z"
    }
   },
   "outputs": [],
   "source": [
    "df['first_funding_year'] = pd.to_datetime(df['first_funding_at'], errors='coerce').dt.year\n",
    "df['first_funding_month'] = pd.to_datetime(df['first_funding_at'], errors='coerce').dt.month"
   ]
  },
  {
   "cell_type": "code",
   "execution_count": 335,
   "metadata": {
    "ExecuteTime": {
     "end_time": "2020-03-25T10:20:26.767260Z",
     "start_time": "2020-03-25T10:20:26.164559Z"
    }
   },
   "outputs": [
    {
     "data": {
      "image/png": "[encoded data removed]",
      "text/plain": [
       "<Figure size 432x288 with 1 Axes>"
      ]
     },
     "metadata": {
      "needs_background": "light"
     },
     "output_type": "display_data"
    }
   ],
   "source": [
    "(pd.to_datetime(df['first_funding_at'], errors='coerce') - df['datetime']).dropna().dt.days.hist(bins = 100);"
   ]
  },
  {
   "cell_type": "code",
   "execution_count": 336,
   "metadata": {
    "ExecuteTime": {
     "end_time": "2020-03-25T10:20:26.789311Z",
     "start_time": "2020-03-25T10:20:26.770037Z"
    }
   },
   "outputs": [],
   "source": [
    "df['days_to_funded'] = (pd.to_datetime(df['first_funding_at'], errors='coerce') - df['datetime']).dt.days"
   ]
  },
  {
   "cell_type": "code",
   "execution_count": 337,
   "metadata": {
    "ExecuteTime": {
     "end_time": "2020-03-25T10:20:27.022282Z",
     "start_time": "2020-03-25T10:20:26.791323Z"
    }
   },
   "outputs": [],
   "source": [
    "df.drop(['founded_at', 'first_funding_at', 'last_funding_at', 'datetime'], axis = 1, inplace = True)"
   ]
  },
  {
   "cell_type": "code",
   "execution_count": 338,
   "metadata": {
    "ExecuteTime": {
     "end_time": "2020-03-25T10:20:34.602996Z",
     "start_time": "2020-03-25T10:20:34.580132Z"
    }
   },
   "outputs": [],
   "source": [
    "df['days_to_funded'] = df['days_to_funded'].apply(lambda x: np.nan if x<0 else x)"
   ]
  },
  {
   "cell_type": "markdown",
   "metadata": {},
   "source": [
    "# Data imputation"
   ]
  },
  {
   "cell_type": "code",
   "execution_count": 339,
   "metadata": {
    "ExecuteTime": {
     "end_time": "2020-03-25T10:20:36.437659Z",
     "start_time": "2020-03-25T10:20:36.260775Z"
    }
   },
   "outputs": [
    {
     "data": {
      "text/plain": [
       "days_to_funded         13631\n",
       "month_founded          10886\n",
       "year_founded           10886\n",
       "funding_total_usd       8532\n",
       "status                  1315\n",
       "first_funding_year        11\n",
       "first_funding_month       11\n",
       "post_ipo_debt              1\n",
       "funding_rounds             1\n",
       "seed                       1\n",
       "venture                    1\n",
       "equity_crowdfunding        1\n",
       "undisclosed                1\n",
       "debt_financing             1\n",
       "angel                      1\n",
       "grant                      1\n",
       "private_equity             1\n",
       "post_ipo_equity            1\n",
       "convertible_note           1\n",
       "secondary_market           1\n",
       "dtype: int64"
      ]
     },
     "execution_count": 339,
     "metadata": {},
     "output_type": "execute_result"
    }
   ],
   "source": [
    "df.isnull().sum().sort_values(ascending = False).head(20)"
   ]
  },
  {
   "cell_type": "markdown",
   "metadata": {},
   "source": [
    "We will need to reverse days_to_funded to penalise the nulls we will be imputing."
   ]
  },
  {
   "cell_type": "code",
   "execution_count": 340,
   "metadata": {
    "ExecuteTime": {
     "end_time": "2020-03-25T10:20:38.080180Z",
     "start_time": "2020-03-25T10:20:38.064181Z"
    }
   },
   "outputs": [],
   "source": [
    "df['days_to_funded'] = transform_data(df[['days_to_funded']], 'minmax', 'df')['days_to_funded'].fillna(1)"
   ]
  },
  {
   "cell_type": "code",
   "execution_count": 341,
   "metadata": {
    "ExecuteTime": {
     "end_time": "2020-03-25T10:20:39.712290Z",
     "start_time": "2020-03-25T10:20:39.705729Z"
    }
   },
   "outputs": [],
   "source": [
    "df['funding_total_usd'] = df['funding_total_usd'].fillna(0)"
   ]
  },
  {
   "cell_type": "code",
   "execution_count": 342,
   "metadata": {
    "ExecuteTime": {
     "end_time": "2020-03-25T10:20:59.985794Z",
     "start_time": "2020-03-25T10:20:42.523809Z"
    }
   },
   "outputs": [],
   "source": [
    "df.fillna(df.median(), inplace = True)"
   ]
  },
  {
   "cell_type": "code",
   "execution_count": 343,
   "metadata": {
    "ExecuteTime": {
     "end_time": "2020-03-25T10:21:01.813541Z",
     "start_time": "2020-03-25T10:21:01.640248Z"
    }
   },
   "outputs": [
    {
     "data": {
      "text/plain": [
       "manhattan beach       0\n",
       "manhattan             0\n",
       "markham               0\n",
       "days_to_funded        0\n",
       "status             1315\n",
       "dtype: int64"
      ]
     },
     "execution_count": 343,
     "metadata": {},
     "output_type": "execute_result"
    }
   ],
   "source": [
    "df.isnull().sum().sort_values().tail()"
   ]
  },
  {
   "cell_type": "code",
   "execution_count": 344,
   "metadata": {
    "ExecuteTime": {
     "end_time": "2020-03-25T10:21:05.277928Z",
     "start_time": "2020-03-25T10:21:03.439567Z"
    }
   },
   "outputs": [],
   "source": [
    "df.drop_duplicates(inplace = True)\n",
    "df.dropna(inplace = True)"
   ]
  },
  {
   "cell_type": "markdown",
   "metadata": {},
   "source": [
    "# Reducing Dimensionality"
   ]
  },
  {
   "cell_type": "code",
   "execution_count": 155,
   "metadata": {
    "ExecuteTime": {
     "end_time": "2020-03-24T17:40:58.330145Z",
     "start_time": "2020-03-24T17:40:58.315860Z"
    }
   },
   "outputs": [],
   "source": [
    "from sklearn.decomposition import PCA"
   ]
  },
  {
   "cell_type": "code",
   "execution_count": 165,
   "metadata": {
    "ExecuteTime": {
     "end_time": "2020-03-24T17:49:55.375022Z",
     "start_time": "2020-03-24T17:49:55.369556Z"
    }
   },
   "outputs": [],
   "source": [
    "pca = PCA(n_components=Xs.shape[1])\n",
    "pca.fit_transform(Xs)"
   ]
  },
  {
   "cell_type": "code",
   "execution_count": 164,
   "metadata": {
    "ExecuteTime": {
     "end_time": "2020-03-24T17:49:44.669824Z",
     "start_time": "2020-03-24T17:49:44.504134Z"
    }
   },
   "outputs": [
    {
     "data": {
      "image/png": "[encoded data removed]",
      "text/plain": [
       "<Figure size 432x288 with 1 Axes>"
      ]
     },
     "metadata": {
      "needs_background": "light"
     },
     "output_type": "display_data"
    }
   ],
   "source": [
    "plt.plot(pca.explained_variance_ratio_.cumsum());"
   ]
  },
  {
   "cell_type": "markdown",
   "metadata": {},
   "source": [
    "It looks like it would be a bad idea to reduce the number of components. We can't meaningfully remove components and maintain sufficient variance."
   ]
  },
  {
   "cell_type": "markdown",
   "metadata": {},
   "source": [
    "# Removing outliers / dealing with skew"
   ]
  },
  {
   "cell_type": "markdown",
   "metadata": {},
   "source": [
    "As mentioned above, we have enormous skew in our data. Some companies receive enormous sums which can warp our predictions and distributions.\n",
    "\n",
    "Whilst its not always the best practice, we will remove particularly old companies, and those that recevied abnormal funding quantities."
   ]
  },
  {
   "cell_type": "code",
   "execution_count": 345,
   "metadata": {
    "ExecuteTime": {
     "end_time": "2020-03-25T10:21:07.134866Z",
     "start_time": "2020-03-25T10:21:06.931555Z"
    }
   },
   "outputs": [],
   "source": [
    "df = df[df['year_founded']>1990]"
   ]
  },
  {
   "cell_type": "markdown",
   "metadata": {},
   "source": [
    "Lets now dummify month_founded, year_founded, first_funding_year, first_funding_month."
   ]
  },
  {
   "cell_type": "code",
   "execution_count": 346,
   "metadata": {
    "ExecuteTime": {
     "end_time": "2020-03-25T10:21:09.191010Z",
     "start_time": "2020-03-25T10:21:08.765098Z"
    }
   },
   "outputs": [],
   "source": [
    "dates_cols = ['month_founded', 'year_founded', 'first_funding_year', 'first_funding_month']\n",
    "\n",
    "df = pd.concat([df.drop(dates_cols, axis = 1),\n",
    "                pd.get_dummies(df[dates_cols].astype(str))],\n",
    "                axis = 1, sort = True)"
   ]
  },
  {
   "cell_type": "code",
   "execution_count": 347,
   "metadata": {
    "ExecuteTime": {
     "end_time": "2020-03-25T10:21:11.605109Z",
     "start_time": "2020-03-25T10:21:10.808741Z"
    }
   },
   "outputs": [],
   "source": [
    "finances_cols = list(df.drop('status', axis = 1).max().sort_values().tail(14).index)"
   ]
  },
  {
   "cell_type": "code",
   "execution_count": 198,
   "metadata": {
    "ExecuteTime": {
     "end_time": "2020-03-25T09:59:16.060461Z",
     "start_time": "2020-03-25T09:59:13.663961Z"
    }
   },
   "outputs": [
    {
     "data": {
      "image/png": "[encoded data removed]",
      "text/plain": [
       "<Figure size 1008x720 with 16 Axes>"
      ]
     },
     "metadata": {
      "needs_background": "light"
     },
     "output_type": "display_data"
    }
   ],
   "source": [
    "fig, ax = plt.subplots(figsize = (14,10))\n",
    "transform_data(df[finances_cols], 'power', 'df').hist(ax = ax);"
   ]
  },
  {
   "cell_type": "code",
   "execution_count": 349,
   "metadata": {
    "ExecuteTime": {
     "end_time": "2020-03-25T10:21:36.498833Z",
     "start_time": "2020-03-25T10:21:35.976071Z"
    }
   },
   "outputs": [],
   "source": [
    "df[finances_cols] = transform_data(df[finances_cols], 'power', 'df')"
   ]
  },
  {
   "cell_type": "markdown",
   "metadata": {},
   "source": [
    "# Modelling"
   ]
  },
  {
   "cell_type": "markdown",
   "metadata": {},
   "source": [
    "We will attempt three groups of models:\n",
    "\n",
    "1. Adjusting class weights\n",
    "2. Downsample\n",
    "3. SMOTE\n",
    "\n",
    "Whilst our baseline is 87% (see below), with the class imbalance, we can accept a lower score if we can predict any of the other classes with any recall."
   ]
  },
  {
   "cell_type": "code",
   "execution_count": 351,
   "metadata": {
    "ExecuteTime": {
     "end_time": "2020-03-25T10:22:02.388702Z",
     "start_time": "2020-03-25T10:22:02.376651Z"
    }
   },
   "outputs": [
    {
     "data": {
      "text/plain": [
       "operating    40881\n",
       "acquired      3554\n",
       "closed        2578\n",
       "Name: status, dtype: int64"
      ]
     },
     "execution_count": 351,
     "metadata": {},
     "output_type": "execute_result"
    }
   ],
   "source": [
    "df['status'].value_counts()"
   ]
  },
  {
   "cell_type": "code",
   "execution_count": 352,
   "metadata": {
    "ExecuteTime": {
     "end_time": "2020-03-25T10:22:04.342012Z",
     "start_time": "2020-03-25T10:22:04.328438Z"
    }
   },
   "outputs": [
    {
     "name": "stdout",
     "output_type": "stream",
     "text": [
      "0.87\n"
     ]
    }
   ],
   "source": [
    "print(round(df.status.value_counts(normalize = True),3).max())"
   ]
  },
  {
   "cell_type": "code",
   "execution_count": 397,
   "metadata": {
    "ExecuteTime": {
     "end_time": "2020-03-25T16:12:58.020935Z",
     "start_time": "2020-03-25T16:12:57.338735Z"
    }
   },
   "outputs": [],
   "source": [
    "X = df.drop('status', axis = 1)\n",
    "        \n",
    "y = df[['status']]"
   ]
  },
  {
   "cell_type": "code",
   "execution_count": 398,
   "metadata": {
    "ExecuteTime": {
     "end_time": "2020-03-25T16:13:05.601710Z",
     "start_time": "2020-03-25T16:13:00.790571Z"
    }
   },
   "outputs": [],
   "source": [
    "scaler = StandardScaler()\n",
    "Xs = pd.DataFrame(scaler.fit_transform(X), columns = X.columns)"
   ]
  },
  {
   "cell_type": "code",
   "execution_count": 399,
   "metadata": {
    "ExecuteTime": {
     "end_time": "2020-03-25T16:13:07.895259Z",
     "start_time": "2020-03-25T16:13:07.855196Z"
    }
   },
   "outputs": [],
   "source": [
    "y = y.replace({'closed':0,\n",
    "               'operating':1,\n",
    "               'acquired': 2})"
   ]
  },
  {
   "cell_type": "markdown",
   "metadata": {},
   "source": [
    "### Visualisation functions"
   ]
  },
  {
   "cell_type": "code",
   "execution_count": 436,
   "metadata": {
    "ExecuteTime": {
     "end_time": "2020-03-26T08:33:59.152345Z",
     "start_time": "2020-03-26T08:33:59.145797Z"
    }
   },
   "outputs": [],
   "source": [
    "def plot_confusion(cm):\n",
    "    plt.figure(figsize=(6,6))\n",
    "    ax = sns.heatmap(cm, annot=True, fmt=\".0f\", linewidths=.5, square = True,  cmap = 'coolwarm')\n",
    "    bottom, top = ax.get_ylim()\n",
    "    ax.set_ylim(bottom + 0.5, top - 0.5)\n",
    "    plt.ylabel('Actual label');\n",
    "    plt.xlabel('Predicted label');\n",
    "    plt.xticks([i-0.5 for i in range(1,4)], ['closed', 'open', 'acquired'])\n",
    "    plt.yticks([i-0.5 for i in range(1,4)], ['closed', 'open', 'acquired'])"
   ]
  },
  {
   "cell_type": "markdown",
   "metadata": {},
   "source": [
    "# Model 1 - adjusting weights"
   ]
  },
  {
   "cell_type": "code",
   "execution_count": 400,
   "metadata": {
    "ExecuteTime": {
     "end_time": "2020-03-25T16:13:12.096992Z",
     "start_time": "2020-03-25T16:13:11.070817Z"
    }
   },
   "outputs": [],
   "source": [
    "X_train, X_test, y_train, y_test = train_test_split(Xs, y['status'],\n",
    "                                                    test_size = 0.1,\n",
    "                                                    random_state = 1,\n",
    "                                                    stratify = y,\n",
    "                                                    shuffle = True)"
   ]
  },
  {
   "cell_type": "code",
   "execution_count": 401,
   "metadata": {
    "ExecuteTime": {
     "end_time": "2020-03-25T16:13:14.481691Z",
     "start_time": "2020-03-25T16:13:14.470154Z"
    }
   },
   "outputs": [],
   "source": [
    "class_weights = class_weight.compute_class_weight('balanced',\n",
    "                                                 np.unique(y_train),\n",
    "                                                 y_train)"
   ]
  },
  {
   "cell_type": "code",
   "execution_count": 402,
   "metadata": {
    "ExecuteTime": {
     "end_time": "2020-03-25T16:13:17.045725Z",
     "start_time": "2020-03-25T16:13:17.036435Z"
    }
   },
   "outputs": [],
   "source": [
    "class_weights = dict(zip([0,1,2], class_weights))"
   ]
  },
  {
   "cell_type": "markdown",
   "metadata": {},
   "source": [
    "### Random Forest"
   ]
  },
  {
   "cell_type": "code",
   "execution_count": 410,
   "metadata": {
    "ExecuteTime": {
     "end_time": "2020-03-25T21:25:55.780127Z",
     "start_time": "2020-03-25T20:39:41.252534Z"
    }
   },
   "outputs": [],
   "source": [
    "param_grid = {\n",
    "    \n",
    "    'n_estimators':[150,300,500,700],\n",
    "    'max_depth':[5,7,10,15,None],\n",
    "    \n",
    "}\n",
    "\n",
    "grid = GridSearchCV(RandomForestClassifier(random_state = 1, class_weight=class_weights),\n",
    "                    param_grid,\n",
    "                    cv = 5,\n",
    "                    n_jobs = 2,\n",
    "                    scoring = 'f1_macro').fit(X_train, y_train)\n",
    "\n",
    "\n"
   ]
  },
  {
   "cell_type": "code",
   "execution_count": 411,
   "metadata": {
    "ExecuteTime": {
     "end_time": "2020-03-25T21:26:33.152396Z",
     "start_time": "2020-03-25T21:26:33.146249Z"
    }
   },
   "outputs": [
    {
     "name": "stdout",
     "output_type": "stream",
     "text": [
      "0.4402496423438553\n",
      "{'max_depth': 15, 'n_estimators': 300}\n"
     ]
    }
   ],
   "source": [
    "print(grid.best_score_)\n",
    "\n",
    "print(grid.best_params_)"
   ]
  },
  {
   "cell_type": "code",
   "execution_count": 412,
   "metadata": {
    "ExecuteTime": {
     "end_time": "2020-03-25T21:29:42.506831Z",
     "start_time": "2020-03-25T21:26:51.111735Z"
    }
   },
   "outputs": [
    {
     "name": "stdout",
     "output_type": "stream",
     "text": [
      "0.6314198446318513\n",
      "[0.62637363 0.62774758 0.64500118 0.62550225 0.63247459]\n"
     ]
    },
    {
     "data": {
      "image/png": "[encoded data removed]",
      "text/plain": [
       "<Figure size 432x432 with 2 Axes>"
      ]
     },
     "metadata": {
      "needs_background": "light"
     },
     "output_type": "display_data"
    }
   ],
   "source": [
    "clf = RandomForestClassifier(random_state = 1,\n",
    "                             max_depth =  15,\n",
    "                             n_estimators = 300,\n",
    "                             class_weight=class_weights).fit(X_train, y_train)\n",
    "\n",
    "imps = pd.DataFrame({'importance':clf.feature_importances_,\n",
    "                     'feature':X_train.columns})\n",
    "\n",
    "imps.sort_values(by = 'importance').tail(10)\n",
    "\n",
    "cross_val_scores = cross_val_score(clf, X_train, y_train, cv = 5)\n",
    "print(cross_val_scores.mean())\n",
    "print(cross_val_scores)\n",
    "\n",
    "preds = clf.predict(X_test)\n",
    "cm_rf = confusion_matrix(y_test, preds)\n",
    "plot_confusion(cm_rf)"
   ]
  },
  {
   "cell_type": "code",
   "execution_count": 413,
   "metadata": {
    "ExecuteTime": {
     "end_time": "2020-03-25T21:29:46.447496Z",
     "start_time": "2020-03-25T21:29:46.422037Z"
    }
   },
   "outputs": [
    {
     "name": "stdout",
     "output_type": "stream",
     "text": [
      "              precision    recall  f1-score   support\n",
      "\n",
      "           0       0.16      0.58      0.25       258\n",
      "           1       0.96      0.61      0.75      4089\n",
      "           2       0.19      0.63      0.29       355\n",
      "\n",
      "    accuracy                           0.61      4702\n",
      "   macro avg       0.44      0.60      0.43      4702\n",
      "weighted avg       0.86      0.61      0.68      4702\n",
      "\n"
     ]
    }
   ],
   "source": [
    "print(classification_report(y_test, preds))"
   ]
  },
  {
   "cell_type": "markdown",
   "metadata": {},
   "source": [
    "We can tune our random forest to return strong accuracy but it will give us no ability to predict the non majority class. The above shows that we need to sacrafice a lot of accuracy to be able to learn features of classes 0 and 2."
   ]
  },
  {
   "cell_type": "markdown",
   "metadata": {},
   "source": [
    "## SVC"
   ]
  },
  {
   "cell_type": "markdown",
   "metadata": {},
   "source": [
    "We will now try support vector machines. They tend to cope well with high dimensionality.\n",
    "\n",
    "We will use a linearSVC even though it may not be optimal for computational tractability."
   ]
  },
  {
   "cell_type": "markdown",
   "metadata": {},
   "source": [
    "We will work with f1 macro to get a good balance of precision, recall and accuracy."
   ]
  },
  {
   "cell_type": "code",
   "execution_count": 359,
   "metadata": {
    "ExecuteTime": {
     "end_time": "2020-03-25T11:44:31.552608Z",
     "start_time": "2020-03-25T10:22:20.901091Z"
    }
   },
   "outputs": [
    {
     "name": "stdout",
     "output_type": "stream",
     "text": [
      "0.4840571542391463\n",
      "{'C': 0.517947467923121, 'penalty': 'l2'}\n"
     ]
    }
   ],
   "source": [
    "param_grid = {\n",
    "    \n",
    "    'C':np.logspace(-2,4,15),\n",
    "    'penalty':['l1', 'l2']\n",
    "    \n",
    "}\n",
    "\n",
    "grid = GridSearchCV(LinearSVC(random_state = 1,\n",
    "                             multi_class =  'ovr',\n",
    "                             loss = 'hinge',\n",
    "                             class_weight=class_weights),\n",
    "                    param_grid,\n",
    "                    cv = 2,\n",
    "                    scoring = 'f1_macro',\n",
    "                    n_jobs = 1).fit(X_train, y_train)\n",
    "\n",
    "print(grid.best_score_)\n",
    "\n",
    "print(grid.best_params_)\n"
   ]
  },
  {
   "cell_type": "code",
   "execution_count": 360,
   "metadata": {
    "ExecuteTime": {
     "end_time": "2020-03-25T11:56:58.217151Z",
     "start_time": "2020-03-25T11:51:50.010332Z"
    }
   },
   "outputs": [],
   "source": [
    "svm = LinearSVC(random_state = 1,\n",
    "                             multi_class =  'ovr',\n",
    "                             C = 0.517947467923121,\n",
    "                             penalty = 'l2',\n",
    "                             loss = 'hinge',\n",
    "                             class_weight=class_weights).fit(X_train, y_train)\n"
   ]
  },
  {
   "cell_type": "code",
   "execution_count": 361,
   "metadata": {
    "ExecuteTime": {
     "end_time": "2020-03-25T11:57:00.842936Z",
     "start_time": "2020-03-25T11:57:00.637845Z"
    }
   },
   "outputs": [
    {
     "name": "stdout",
     "output_type": "stream",
     "text": [
      "0.82458462338399\n",
      "0.8047639302424501\n"
     ]
    }
   ],
   "source": [
    "print(svm.score(X_train, y_train))\n",
    "print(svm.score(X_test, y_test))"
   ]
  },
  {
   "cell_type": "code",
   "execution_count": 362,
   "metadata": {
    "ExecuteTime": {
     "end_time": "2020-03-25T11:57:02.759042Z",
     "start_time": "2020-03-25T11:57:02.421708Z"
    }
   },
   "outputs": [
    {
     "data": {
      "image/png": "[encoded data removed]",
      "text/plain": [
       "<Figure size 432x432 with 2 Axes>"
      ]
     },
     "metadata": {
      "needs_background": "light"
     },
     "output_type": "display_data"
    }
   ],
   "source": [
    "preds = svm.predict(X_test)\n",
    "cm_svm = confusion_matrix(y_test, preds)\n",
    "plot_confusion(cm_svm)"
   ]
  },
  {
   "cell_type": "code",
   "execution_count": 363,
   "metadata": {
    "ExecuteTime": {
     "end_time": "2020-03-25T11:57:04.411714Z",
     "start_time": "2020-03-25T11:57:04.398010Z"
    },
    "scrolled": false
   },
   "outputs": [
    {
     "name": "stdout",
     "output_type": "stream",
     "text": [
      "              precision    recall  f1-score   support\n",
      "\n",
      "           0       0.23      0.28      0.25       258\n",
      "           1       0.92      0.88      0.90      4089\n",
      "           2       0.26      0.36      0.30       355\n",
      "\n",
      "    accuracy                           0.80      4702\n",
      "   macro avg       0.47      0.50      0.48      4702\n",
      "weighted avg       0.83      0.80      0.82      4702\n",
      "\n"
     ]
    }
   ],
   "source": [
    "print(classification_report(y_test, preds))"
   ]
  },
  {
   "cell_type": "markdown",
   "metadata": {},
   "source": [
    "# Model 2 - random under sampling"
   ]
  },
  {
   "cell_type": "markdown",
   "metadata": {},
   "source": [
    "Our next model will shrink our data to balance the classes. With three classes, we will observe 33% of the data in each. We will then try to predict on our test set which will maintain the original class balance.\n",
    "\n",
    "To maximise the training of our data, we will sample with replacement each fold."
   ]
  },
  {
   "cell_type": "code",
   "execution_count": 417,
   "metadata": {
    "ExecuteTime": {
     "end_time": "2020-03-25T21:53:18.435386Z",
     "start_time": "2020-03-25T21:32:58.535094Z"
    }
   },
   "outputs": [
    {
     "data": {
      "text/plain": [
       "GridSearchCV(cv=StratifiedKFold(n_splits=5, random_state=1, shuffle=True),\n",
       "             error_score=nan,\n",
       "             estimator=Pipeline(memory=None,\n",
       "                                steps=[('randomundersampler',\n",
       "                                        RandomUnderSampler(random_state=1,\n",
       "                                                           ratio=None,\n",
       "                                                           replacement=True,\n",
       "                                                           return_indices=False,\n",
       "                                                           sampling_strategy='auto')),\n",
       "                                       ('randomforestclassifier',\n",
       "                                        RandomForestClassifier(bootstrap=True,\n",
       "                                                               ccp_alpha=0.0,\n",
       "                                                               class_weight=N...\n",
       "                                                               min_weight_fraction_leaf=0.0,\n",
       "                                                               n_estimators=100,\n",
       "                                                               n_jobs=None,\n",
       "                                                               oob_score=False,\n",
       "                                                               random_state=1,\n",
       "                                                               verbose=0,\n",
       "                                                               warm_start=False))],\n",
       "                                verbose=False),\n",
       "             iid='deprecated', n_jobs=None,\n",
       "             param_grid={'randomforestclassifier__max_depth': [5, 7, 10, 15,\n",
       "                                                               None],\n",
       "                         'randomforestclassifier__n_estimators': [150, 300, 500,\n",
       "                                                                  700]},\n",
       "             pre_dispatch='2*n_jobs', refit=True, return_train_score=True,\n",
       "             scoring='accuracy', verbose=0)"
      ]
     },
     "execution_count": 417,
     "metadata": {},
     "output_type": "execute_result"
    }
   ],
   "source": [
    "param_grid = {\n",
    "    \n",
    "    'n_estimators':[150,300,500,700],\n",
    "    'max_depth':[5,7,10,15,None],\n",
    "    \n",
    "}\n",
    "\n",
    "kf = StratifiedKFold(n_splits=5, random_state=1, shuffle=True)\n",
    "\n",
    "new_params = {'randomforestclassifier__' + key: param_grid[key] for key in param_grid}\n",
    "\n",
    "imba_pipeline = make_pipeline(\n",
    "                        RandomUnderSampler(random_state=1, replacement=True), \n",
    "                        RandomForestClassifier(n_estimators=100, random_state=1)\n",
    "                             )\n",
    "\n",
    "grid_imba = GridSearchCV(imba_pipeline,\n",
    "                         param_grid=new_params,\n",
    "                         cv=kf,\n",
    "                         scoring='accuracy',\n",
    "                         return_train_score=True)\n",
    "\n",
    "grid_imba.fit(X_train, y_train)"
   ]
  },
  {
   "cell_type": "code",
   "execution_count": 419,
   "metadata": {
    "ExecuteTime": {
     "end_time": "2020-03-25T21:54:05.365783Z",
     "start_time": "2020-03-25T21:54:05.358660Z"
    }
   },
   "outputs": [
    {
     "name": "stdout",
     "output_type": "stream",
     "text": [
      "Pipeline(memory=None,\n",
      "         steps=[('randomundersampler',\n",
      "                 RandomUnderSampler(random_state=1, ratio=None,\n",
      "                                    replacement=True, return_indices=False,\n",
      "                                    sampling_strategy='auto')),\n",
      "                ('randomforestclassifier',\n",
      "                 RandomForestClassifier(bootstrap=True, ccp_alpha=0.0,\n",
      "                                        class_weight=None, criterion='gini',\n",
      "                                        max_depth=None, max_features='auto',\n",
      "                                        max_leaf_nodes=None, max_samples=None,\n",
      "                                        min_impurity_decrease=0.0,\n",
      "                                        min_impurity_split=None,\n",
      "                                        min_samples_leaf=1, min_samples_split=2,\n",
      "                                        min_weight_fraction_leaf=0.0,\n",
      "                                        n_estimators=500, n_jobs=None,\n",
      "                                        oob_score=False, random_state=1,\n",
      "                                        verbose=0, warm_start=False))],\n",
      "         verbose=False)\n",
      "0.6029401105422179\n"
     ]
    }
   ],
   "source": [
    "print(grid_imba.best_estimator_)\n",
    "print(grid_imba.best_score_)"
   ]
  },
  {
   "cell_type": "code",
   "execution_count": 422,
   "metadata": {
    "ExecuteTime": {
     "end_time": "2020-03-25T21:56:25.487388Z",
     "start_time": "2020-03-25T21:56:23.324901Z"
    }
   },
   "outputs": [
    {
     "name": "stdout",
     "output_type": "stream",
     "text": [
      "              precision    recall  f1-score   support\n",
      "\n",
      "           0       0.15      0.69      0.24       258\n",
      "           1       0.97      0.60      0.75      4089\n",
      "           2       0.22      0.59      0.32       355\n",
      "\n",
      "    accuracy                           0.61      4702\n",
      "   macro avg       0.45      0.63      0.44      4702\n",
      "weighted avg       0.87      0.61      0.69      4702\n",
      "\n",
      "0.6082518077413867\n"
     ]
    },
    {
     "data": {
      "image/png": "[encoded data removed]",
      "text/plain": [
       "<Figure size 432x432 with 2 Axes>"
      ]
     },
     "metadata": {
      "needs_background": "light"
     },
     "output_type": "display_data"
    }
   ],
   "source": [
    "preds = grid_imba.best_estimator_.predict(X_test)\n",
    "cm_imb = confusion_matrix(y_test, preds)\n",
    "plot_confusion(cm_imb)\n",
    "\n",
    "print(classification_report(y_test, preds))\n",
    "print(grid_imba.best_estimator_.score(X_test, y_test))"
   ]
  },
  {
   "cell_type": "markdown",
   "metadata": {},
   "source": [
    "---"
   ]
  },
  {
   "cell_type": "markdown",
   "metadata": {},
   "source": [
    "#### Analysis"
   ]
  },
  {
   "cell_type": "markdown",
   "metadata": {},
   "source": [
    "Our models aren't particularly good. We score 69% on testing at best and 67% in cross validated training.\n",
    "\n",
    "They both over predict closed and underpredict open.\n",
    "\n",
    "Our strongest coefficient per class tends to be the year founded and the year of first funding.\n",
    "\n",
    "Many of our newly constructed features were considered important by the random forest. The name can be a predictor of success it seems!"
   ]
  },
  {
   "cell_type": "markdown",
   "metadata": {},
   "source": [
    "# Model 3 - SMOTE"
   ]
  },
  {
   "cell_type": "code",
   "execution_count": 439,
   "metadata": {
    "ExecuteTime": {
     "end_time": "2020-03-26T09:24:42.435847Z",
     "start_time": "2020-03-26T08:35:54.876795Z"
    }
   },
   "outputs": [
    {
     "name": "stdout",
     "output_type": "stream",
     "text": [
      "              precision    recall  f1-score   support\n",
      "\n",
      "           0       0.23      0.25      0.24       258\n",
      "           1       0.91      0.86      0.88      4089\n",
      "           2       0.24      0.40      0.30       355\n",
      "\n",
      "    accuracy                           0.79      4702\n",
      "   macro avg       0.46      0.50      0.47      4702\n",
      "weighted avg       0.82      0.79      0.80      4702\n",
      "\n",
      "0.7877498936622713\n"
     ]
    },
    {
     "data": {
      "image/png": "[encoded data removed]",
      "text/plain": [
       "<Figure size 432x432 with 2 Axes>"
      ]
     },
     "metadata": {
      "needs_background": "light"
     },
     "output_type": "display_data"
    }
   ],
   "source": [
    "param_grid = {\n",
    "    \n",
    "    'n_estimators':[100,200,300],\n",
    "    'max_depth':[5,7,9],\n",
    "    \n",
    "}\n",
    "\n",
    "kf = StratifiedKFold(n_splits=5, random_state=1, shuffle=True)\n",
    "\n",
    "new_params = {'randomforestclassifier__' + key: param_grid[key] for key in param_grid}\n",
    "\n",
    "\n",
    "imba_pipeline = make_pipeline(\n",
    "                        SMOTE(random_state=1), \n",
    "                        RandomForestClassifier(n_estimators=100, random_state=1)\n",
    "                             )\n",
    "\n",
    "grid_imba = GridSearchCV(imba_pipeline,\n",
    "                         param_grid=new_params,\n",
    "                         cv=kf,\n",
    "                         n_jobs = 2,\n",
    "                         scoring='f1_macro',\n",
    "                         return_train_score=True)\n",
    "\n",
    "grid_imba.fit(X_train, y_train);\n",
    "\n",
    "preds = grid_imba.best_estimator_.predict(X_test)\n",
    "cm_imb = confusion_matrix(y_test, preds)\n",
    "plot_confusion(cm_imb)\n",
    "\n",
    "print(classification_report(y_test, preds))\n",
    "print(grid_imba.best_estimator_.score(X_test, y_test))"
   ]
  },
  {
   "cell_type": "code",
   "execution_count": 440,
   "metadata": {
    "ExecuteTime": {
     "end_time": "2020-03-26T09:31:53.847026Z",
     "start_time": "2020-03-26T09:31:53.839882Z"
    }
   },
   "outputs": [
    {
     "data": {
      "text/plain": [
       "{'randomforestclassifier__max_depth': 9,\n",
       " 'randomforestclassifier__n_estimators': 100}"
      ]
     },
     "execution_count": 440,
     "metadata": {},
     "output_type": "execute_result"
    }
   ],
   "source": [
    "grid_imba.best_score_\n",
    "\n",
    "grid_imba.best_params_"
   ]
  },
  {
   "cell_type": "markdown",
   "metadata": {},
   "source": [
    "# Changing the challenge"
   ]
  },
  {
   "cell_type": "markdown",
   "metadata": {},
   "source": [
    "The majority of the companies we've been dealing with have been still operating. Let's strip these away and just try to predict whether they close or get acquired."
   ]
  },
  {
   "cell_type": "code",
   "execution_count": 382,
   "metadata": {
    "ExecuteTime": {
     "end_time": "2020-03-25T14:06:04.498570Z",
     "start_time": "2020-03-25T14:06:04.244241Z"
    }
   },
   "outputs": [],
   "source": [
    "df_new = df[(df['status']=='acquired')|(df['status']=='closed')]"
   ]
  },
  {
   "cell_type": "code",
   "execution_count": 383,
   "metadata": {
    "ExecuteTime": {
     "end_time": "2020-03-25T14:06:07.003781Z",
     "start_time": "2020-03-25T14:06:06.902253Z"
    }
   },
   "outputs": [],
   "source": [
    "X = df_new.drop('status', axis = 1)\n",
    "        \n",
    "y = df_new[['status']]"
   ]
  },
  {
   "cell_type": "code",
   "execution_count": 384,
   "metadata": {
    "ExecuteTime": {
     "end_time": "2020-03-25T14:06:09.441623Z",
     "start_time": "2020-03-25T14:06:09.140046Z"
    }
   },
   "outputs": [],
   "source": [
    "scaler = StandardScaler()\n",
    "Xs = pd.DataFrame(scaler.fit_transform(X), columns = X.columns)"
   ]
  },
  {
   "cell_type": "code",
   "execution_count": 385,
   "metadata": {
    "ExecuteTime": {
     "end_time": "2020-03-25T14:06:11.998914Z",
     "start_time": "2020-03-25T14:06:11.990823Z"
    }
   },
   "outputs": [],
   "source": [
    "y = y.replace({'closed':0,\n",
    "               'acquired': 1})"
   ]
  },
  {
   "cell_type": "code",
   "execution_count": 386,
   "metadata": {
    "ExecuteTime": {
     "end_time": "2020-03-25T14:06:14.423179Z",
     "start_time": "2020-03-25T14:06:14.387789Z"
    }
   },
   "outputs": [
    {
     "data": {
      "text/plain": [
       "status    0.579583\n",
       "dtype: float64"
      ]
     },
     "execution_count": 386,
     "metadata": {},
     "output_type": "execute_result"
    }
   ],
   "source": [
    "y.mean()"
   ]
  },
  {
   "cell_type": "code",
   "execution_count": 387,
   "metadata": {
    "ExecuteTime": {
     "end_time": "2020-03-25T14:06:17.588816Z",
     "start_time": "2020-03-25T14:06:17.458124Z"
    }
   },
   "outputs": [],
   "source": [
    "X_train, X_test, y_train, y_test = train_test_split(Xs, y,\n",
    "                                                    test_size = 0.2,\n",
    "                                                    random_state = 1,\n",
    "                                                    stratify = y,\n",
    "                                                    shuffle = True)"
   ]
  },
  {
   "cell_type": "code",
   "execution_count": 388,
   "metadata": {
    "ExecuteTime": {
     "end_time": "2020-03-25T14:13:27.253394Z",
     "start_time": "2020-03-25T14:07:53.782019Z"
    }
   },
   "outputs": [
    {
     "name": "stdout",
     "output_type": "stream",
     "text": [
      "0.6689099275182568\n",
      "{'C': 0.01, 'penalty': 'l2'}\n"
     ]
    }
   ],
   "source": [
    "param_grid = {\n",
    "    \n",
    "    'C':np.logspace(-2,4,30),\n",
    "    'penalty':['l1', 'l2']\n",
    "    \n",
    "}\n",
    "\n",
    "grid = GridSearchCV(LinearSVC(random_state = 1,\n",
    "                             multi_class =  'ovr',\n",
    "                             penalty = 'l2',\n",
    "                             loss = 'hinge'),\n",
    "                    param_grid,\n",
    "                    cv = 2,\n",
    "                    n_jobs = 1).fit(X_train, y_train)\n",
    "\n",
    "print(grid.best_score_)\n",
    "\n",
    "print(grid.best_params_)\n"
   ]
  },
  {
   "cell_type": "code",
   "execution_count": 390,
   "metadata": {
    "ExecuteTime": {
     "end_time": "2020-03-25T15:34:52.782376Z",
     "start_time": "2020-03-25T15:19:18.429015Z"
    }
   },
   "outputs": [],
   "source": [
    "param_grid = {\n",
    "    \n",
    "    'n_estimators':[150,225,300,375,450,600],\n",
    "    'max_depth':[5,7,10,12,15,25,None]\n",
    "    \n",
    "}\n",
    "\n",
    "grid = GridSearchCV(RandomForestClassifier(random_state = 1),\n",
    "                    param_grid,\n",
    "                    cv = 5,\n",
    "                    n_jobs = 1).fit(X_train, y_train)"
   ]
  },
  {
   "cell_type": "code",
   "execution_count": 391,
   "metadata": {
    "ExecuteTime": {
     "end_time": "2020-03-25T15:34:55.177751Z",
     "start_time": "2020-03-25T15:34:55.169190Z"
    }
   },
   "outputs": [
    {
     "name": "stdout",
     "output_type": "stream",
     "text": [
      "0.7245667686034659\n",
      "{'max_depth': None, 'n_estimators': 450}\n"
     ]
    }
   ],
   "source": [
    "print(grid.best_score_)\n",
    "\n",
    "print(grid.best_params_)"
   ]
  },
  {
   "cell_type": "code",
   "execution_count": 392,
   "metadata": {
    "ExecuteTime": {
     "end_time": "2020-03-25T16:09:18.032078Z",
     "start_time": "2020-03-25T16:09:01.809479Z"
    }
   },
   "outputs": [
    {
     "name": "stdout",
     "output_type": "stream",
     "text": [
      "0.7416462917685411\n"
     ]
    }
   ],
   "source": [
    "rf_new = RandomForestClassifier(random_state = 1,\n",
    "                                n_estimators = 450,\n",
    "                                max_depth = None\n",
    "                               ).fit(X_train, y_train)\n",
    "\n",
    "print(rf_new.score(X_test, y_test))"
   ]
  },
  {
   "cell_type": "code",
   "execution_count": 393,
   "metadata": {
    "ExecuteTime": {
     "end_time": "2020-03-25T16:09:20.568692Z",
     "start_time": "2020-03-25T16:09:20.560090Z"
    }
   },
   "outputs": [],
   "source": [
    "def plot_confusion(cm):\n",
    "    plt.figure(figsize=(6,6))\n",
    "    ax = sns.heatmap(cm, annot=True, fmt=\".0f\", linewidths=.5, square = True,  cmap = 'coolwarm')\n",
    "    bottom, top = ax.get_ylim()\n",
    "    ax.set_ylim(bottom + 0.5, top - 0.5)\n",
    "    plt.ylabel('Actual label');\n",
    "    plt.xlabel('Predicted label');\n",
    "    plt.xticks([i-0.5 for i in range(1,3)], ['closed', 'acquired'])\n",
    "    plt.yticks([i-0.5 for i in range(1,3)], ['closed', 'acquired'])"
   ]
  },
  {
   "cell_type": "code",
   "execution_count": 394,
   "metadata": {
    "ExecuteTime": {
     "end_time": "2020-03-25T16:09:23.402264Z",
     "start_time": "2020-03-25T16:09:22.764336Z"
    }
   },
   "outputs": [
    {
     "data": {
      "image/png": "[encoded data removed]",
      "text/plain": [
       "<Figure size 432x432 with 2 Axes>"
      ]
     },
     "metadata": {
      "needs_background": "light"
     },
     "output_type": "display_data"
    }
   ],
   "source": [
    "preds = rf_new.predict(X_test)\n",
    "cm_rf = confusion_matrix(y_test, preds)\n",
    "plot_confusion(cm_rf)"
   ]
  },
  {
   "cell_type": "code",
   "execution_count": 395,
   "metadata": {
    "ExecuteTime": {
     "end_time": "2020-03-25T16:09:25.772030Z",
     "start_time": "2020-03-25T16:09:25.673696Z"
    }
   },
   "outputs": [],
   "source": [
    "imps_new = pd.DataFrame({'importance':rf_new.feature_importances_,\n",
    "                     'feature':X_train.columns})"
   ]
  },
  {
   "cell_type": "code",
   "execution_count": 396,
   "metadata": {
    "ExecuteTime": {
     "end_time": "2020-03-25T16:09:28.162972Z",
     "start_time": "2020-03-25T16:09:27.907964Z"
    }
   },
   "outputs": [
    {
     "data": {
      "image/png": "[encoded data removed]",
      "text/plain": [
       "<Figure size 432x288 with 1 Axes>"
      ]
     },
     "metadata": {
      "needs_background": "light"
     },
     "output_type": "display_data"
    }
   ],
   "source": [
    "imps_to_plot = imps_new[imps_new['importance']>0.01].sort_values(by = 'importance')\n",
    "\n",
    "sns.barplot(x = imps_to_plot['importance'],\n",
    "            y = imps_to_plot['feature']);"
   ]
  },
  {
   "cell_type": "markdown",
   "metadata": {},
   "source": [
    "We can now do much better, our random forest hit almost 75% accuracy, which is much better than the ~50% benchline for this model."
   ]
  },
  {
   "cell_type": "code",
   "execution_count": null,
   "metadata": {},
   "outputs": [],
   "source": []
  }
 ],
 "metadata": {
  "kernelspec": {
   "display_name": "Python 3",
   "language": "python",
   "name": "python3"
  },
  "language_info": {
   "codemirror_mode": {
    "name": "ipython",
    "version": 3
   },
   "file_extension": ".py",
   "mimetype": "text/x-python",
   "name": "python",
   "nbconvert_exporter": "python",
   "pygments_lexer": "ipython3",
   "version": "3.7.3"
  },
  "varInspector": {
   "cols": {
    "lenName": 16,
    "lenType": 16,
    "lenVar": 40
   },
   "kernels_config": {
    "python": {
     "delete_cmd_postfix": "",
     "delete_cmd_prefix": "del ",
     "library": "var_list.py",
     "varRefreshCmd": "print(var_dic_list())"
    },
    "r": {
     "delete_cmd_postfix": ") ",
     "delete_cmd_prefix": "rm(",
     "library": "var_list.r",
     "varRefreshCmd": "cat(var_dic_list()) "
    }
   },
   "types_to_exclude": [
    "module",
    "function",
    "builtin_function_or_method",
    "instance",
    "_Feature"
   ],
   "window_display": false
  }
 },
 "nbformat": 4,
 "nbformat_minor": 2
}
