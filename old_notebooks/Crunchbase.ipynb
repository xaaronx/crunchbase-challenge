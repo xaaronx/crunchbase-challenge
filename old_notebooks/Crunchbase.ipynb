{
 "cells": [
  {
   "cell_type": "markdown",
   "metadata": {},
   "source": [
    "# Predicting company acquisition"
   ]
  },
  {
   "cell_type": "markdown",
   "metadata": {},
   "source": [
    "### Kaggle crunchbase challenge\n",
    "\n",
    "Link: https://www.kaggle.com/arindam235/startup-investments-crunchbase\n",
    "\n",
    "--- \n",
    "\n",
    "We have a dataset with thousands of companies across the world and across a range of sectors.\n",
    "\n",
    "We will be trying to predict whether companies closed, were acquired or whether they are still running.\n",
    "\n",
    "Key challenges:\n",
    "- Classes are severely imbalanced\n",
    "- Features needs significant engineering"
   ]
  },
  {
   "cell_type": "code",
   "execution_count": 1,
   "metadata": {
    "ExecuteTime": {
     "end_time": "2020-03-20T18:55:23.992749Z",
     "start_time": "2020-03-20T18:55:23.989066Z"
    }
   },
   "outputs": [],
   "source": [
    "import warnings\n",
    "warnings.filterwarnings('ignore')"
   ]
  },
  {
   "cell_type": "code",
   "execution_count": 125,
   "metadata": {
    "ExecuteTime": {
     "end_time": "2020-03-21T12:07:31.424231Z",
     "start_time": "2020-03-21T12:07:31.276875Z"
    }
   },
   "outputs": [],
   "source": [
    "# Basics\n",
    "import pandas as pd\n",
    "import numpy as np\n",
    "import re\n",
    "\n",
    "#Plotting\n",
    "import seaborn as sns\n",
    "import matplotlib.pyplot as plt\n",
    "\n",
    "# Feature work\n",
    "from sklearn.feature_extraction.text import CountVectorizer\n",
    "\n",
    "# PreProcessing\n",
    "from imblearn.under_sampling import RandomUnderSampler\n",
    "from sklearn.preprocessing import StandardScaler, MinMaxScaler, PowerTransformer\n",
    "from sklearn.model_selection import StratifiedKFold\n",
    "\n",
    "# Modelling\n",
    "from sklearn.ensemble import RandomForestClassifier\n",
    "from sklearn.linear_model import LogisticRegression, LogisticRegressionCV\n",
    "\n",
    "#Scoring\n",
    "from sklearn.model_selection import train_test_split, GridSearchCV, cross_val_score\n",
    "from sklearn.metrics import confusion_matrix"
   ]
  },
  {
   "cell_type": "markdown",
   "metadata": {},
   "source": [
    "# EDA"
   ]
  },
  {
   "cell_type": "code",
   "execution_count": 3,
   "metadata": {
    "ExecuteTime": {
     "end_time": "2020-03-20T18:55:29.436345Z",
     "start_time": "2020-03-20T18:55:28.963670Z"
    }
   },
   "outputs": [],
   "source": [
    "df = pd.read_csv('investments_VC.csv', encoding = 'latin1')"
   ]
  },
  {
   "cell_type": "code",
   "execution_count": 4,
   "metadata": {
    "ExecuteTime": {
     "end_time": "2020-03-20T18:55:37.922404Z",
     "start_time": "2020-03-20T18:55:37.913896Z"
    }
   },
   "outputs": [
    {
     "data": {
      "text/plain": [
       "(54294, 39)"
      ]
     },
     "execution_count": 4,
     "metadata": {},
     "output_type": "execute_result"
    }
   ],
   "source": [
    "df.shape"
   ]
  },
  {
   "cell_type": "code",
   "execution_count": 5,
   "metadata": {
    "ExecuteTime": {
     "end_time": "2020-03-20T18:55:38.630222Z",
     "start_time": "2020-03-20T18:55:38.625498Z"
    }
   },
   "outputs": [
    {
     "name": "stdout",
     "output_type": "stream",
     "text": [
      "['permalink', 'name', 'homepage_url', 'category_list', ' market ', ' funding_total_usd ', 'status', 'country_code', 'state_code', 'region', 'city', 'funding_rounds', 'founded_at', 'founded_month', 'founded_quarter', 'founded_year', 'first_funding_at', 'last_funding_at', 'seed', 'venture', 'equity_crowdfunding', 'undisclosed', 'convertible_note', 'debt_financing', 'angel', 'grant', 'private_equity', 'post_ipo_equity', 'post_ipo_debt', 'secondary_market', 'product_crowdfunding', 'round_A', 'round_B', 'round_C', 'round_D', 'round_E', 'round_F', 'round_G', 'round_H']\n"
     ]
    }
   ],
   "source": [
    "print(list(df.columns))"
   ]
  },
  {
   "cell_type": "code",
   "execution_count": 6,
   "metadata": {
    "ExecuteTime": {
     "end_time": "2020-03-20T18:55:40.042735Z",
     "start_time": "2020-03-20T18:55:39.801367Z"
    }
   },
   "outputs": [
    {
     "data": {
      "text/plain": [
       "4855"
      ]
     },
     "execution_count": 6,
     "metadata": {},
     "output_type": "execute_result"
    }
   ],
   "source": [
    "df.duplicated().sum()"
   ]
  },
  {
   "cell_type": "code",
   "execution_count": 7,
   "metadata": {
    "ExecuteTime": {
     "end_time": "2020-03-20T18:55:40.490954Z",
     "start_time": "2020-03-20T18:55:40.222624Z"
    }
   },
   "outputs": [],
   "source": [
    "df = df.drop_duplicates()"
   ]
  },
  {
   "cell_type": "code",
   "execution_count": 8,
   "metadata": {
    "ExecuteTime": {
     "end_time": "2020-03-20T18:55:40.639962Z",
     "start_time": "2020-03-20T18:55:40.629534Z"
    }
   },
   "outputs": [],
   "source": [
    "# Remove unwanted periods\n",
    "df.columns = [i.strip() for i in df.columns]"
   ]
  },
  {
   "cell_type": "code",
   "execution_count": 9,
   "metadata": {
    "ExecuteTime": {
     "end_time": "2020-03-20T18:55:40.953585Z",
     "start_time": "2020-03-20T18:55:40.912537Z"
    }
   },
   "outputs": [
    {
     "data": {
      "text/html": [
       "<div>\n",
       "<style scoped>\n",
       "    .dataframe tbody tr th:only-of-type {\n",
       "        vertical-align: middle;\n",
       "    }\n",
       "\n",
       "    .dataframe tbody tr th {\n",
       "        vertical-align: top;\n",
       "    }\n",
       "\n",
       "    .dataframe thead th {\n",
       "        text-align: right;\n",
       "    }\n",
       "</style>\n",
       "<table border=\"1\" class=\"dataframe\">\n",
       "  <thead>\n",
       "    <tr style=\"text-align: right;\">\n",
       "      <th></th>\n",
       "      <th>permalink</th>\n",
       "      <th>name</th>\n",
       "      <th>homepage_url</th>\n",
       "      <th>category_list</th>\n",
       "      <th>market</th>\n",
       "      <th>funding_total_usd</th>\n",
       "      <th>status</th>\n",
       "      <th>country_code</th>\n",
       "      <th>state_code</th>\n",
       "      <th>region</th>\n",
       "    </tr>\n",
       "  </thead>\n",
       "  <tbody>\n",
       "    <tr>\n",
       "      <th>0</th>\n",
       "      <td>/organization/waywire</td>\n",
       "      <td>#waywire</td>\n",
       "      <td>http://www.waywire.com</td>\n",
       "      <td>|Entertainment|Politics|Social Media|News|</td>\n",
       "      <td>News</td>\n",
       "      <td>17,50,000</td>\n",
       "      <td>acquired</td>\n",
       "      <td>USA</td>\n",
       "      <td>NY</td>\n",
       "      <td>New York City</td>\n",
       "    </tr>\n",
       "    <tr>\n",
       "      <th>1</th>\n",
       "      <td>/organization/tv-communications</td>\n",
       "      <td>&amp;TV Communications</td>\n",
       "      <td>http://enjoyandtv.com</td>\n",
       "      <td>|Games|</td>\n",
       "      <td>Games</td>\n",
       "      <td>40,00,000</td>\n",
       "      <td>operating</td>\n",
       "      <td>USA</td>\n",
       "      <td>CA</td>\n",
       "      <td>Los Angeles</td>\n",
       "    </tr>\n",
       "    <tr>\n",
       "      <th>2</th>\n",
       "      <td>/organization/rock-your-paper</td>\n",
       "      <td>'Rock' Your Paper</td>\n",
       "      <td>http://www.rockyourpaper.org</td>\n",
       "      <td>|Publishing|Education|</td>\n",
       "      <td>Publishing</td>\n",
       "      <td>40,000</td>\n",
       "      <td>operating</td>\n",
       "      <td>EST</td>\n",
       "      <td>NaN</td>\n",
       "      <td>Tallinn</td>\n",
       "    </tr>\n",
       "    <tr>\n",
       "      <th>3</th>\n",
       "      <td>/organization/in-touch-network</td>\n",
       "      <td>(In)Touch Network</td>\n",
       "      <td>http://www.InTouchNetwork.com</td>\n",
       "      <td>|Electronics|Guides|Coffee|Restaurants|Music|i...</td>\n",
       "      <td>Electronics</td>\n",
       "      <td>15,00,000</td>\n",
       "      <td>operating</td>\n",
       "      <td>GBR</td>\n",
       "      <td>NaN</td>\n",
       "      <td>London</td>\n",
       "    </tr>\n",
       "    <tr>\n",
       "      <th>4</th>\n",
       "      <td>/organization/r-ranch-and-mine</td>\n",
       "      <td>-R- Ranch and Mine</td>\n",
       "      <td>NaN</td>\n",
       "      <td>|Tourism|Entertainment|Games|</td>\n",
       "      <td>Tourism</td>\n",
       "      <td>60,000</td>\n",
       "      <td>operating</td>\n",
       "      <td>USA</td>\n",
       "      <td>TX</td>\n",
       "      <td>Dallas</td>\n",
       "    </tr>\n",
       "  </tbody>\n",
       "</table>\n",
       "</div>"
      ],
      "text/plain": [
       "                         permalink                name  \\\n",
       "0            /organization/waywire            #waywire   \n",
       "1  /organization/tv-communications  &TV Communications   \n",
       "2    /organization/rock-your-paper   'Rock' Your Paper   \n",
       "3   /organization/in-touch-network   (In)Touch Network   \n",
       "4   /organization/r-ranch-and-mine  -R- Ranch and Mine   \n",
       "\n",
       "                    homepage_url  \\\n",
       "0         http://www.waywire.com   \n",
       "1          http://enjoyandtv.com   \n",
       "2   http://www.rockyourpaper.org   \n",
       "3  http://www.InTouchNetwork.com   \n",
       "4                            NaN   \n",
       "\n",
       "                                       category_list         market  \\\n",
       "0         |Entertainment|Politics|Social Media|News|          News    \n",
       "1                                            |Games|         Games    \n",
       "2                             |Publishing|Education|    Publishing    \n",
       "3  |Electronics|Guides|Coffee|Restaurants|Music|i...   Electronics    \n",
       "4                      |Tourism|Entertainment|Games|       Tourism    \n",
       "\n",
       "  funding_total_usd     status country_code state_code         region  \n",
       "0        17,50,000    acquired          USA         NY  New York City  \n",
       "1        40,00,000   operating          USA         CA    Los Angeles  \n",
       "2           40,000   operating          EST        NaN        Tallinn  \n",
       "3        15,00,000   operating          GBR        NaN         London  \n",
       "4           60,000   operating          USA         TX         Dallas  "
      ]
     },
     "execution_count": 9,
     "metadata": {},
     "output_type": "execute_result"
    }
   ],
   "source": [
    "df.iloc[:5,:10]"
   ]
  },
  {
   "cell_type": "code",
   "execution_count": 10,
   "metadata": {
    "ExecuteTime": {
     "end_time": "2020-03-20T18:55:41.468711Z",
     "start_time": "2020-03-20T18:55:41.238939Z"
    }
   },
   "outputs": [],
   "source": [
    "df['funding_total_usd'] = df['funding_total_usd']\\\n",
    "        .apply(lambda x: ''.join(str(x).split(',')))\\\n",
    "        .apply(lambda x: re.sub('[^0-9]','', x))"
   ]
  },
  {
   "cell_type": "code",
   "execution_count": 11,
   "metadata": {
    "ExecuteTime": {
     "end_time": "2020-03-20T18:55:41.690392Z",
     "start_time": "2020-03-20T18:55:41.670013Z"
    }
   },
   "outputs": [],
   "source": [
    "df['funding_total_usd'].replace('', np.nan, inplace=True)"
   ]
  },
  {
   "cell_type": "code",
   "execution_count": 12,
   "metadata": {
    "ExecuteTime": {
     "end_time": "2020-03-20T18:55:41.932630Z",
     "start_time": "2020-03-20T18:55:41.897969Z"
    }
   },
   "outputs": [],
   "source": [
    "df['funding_total_usd'] = df['funding_total_usd'].astype(float)"
   ]
  },
  {
   "cell_type": "code",
   "execution_count": 13,
   "metadata": {
    "ExecuteTime": {
     "end_time": "2020-03-20T18:55:42.160840Z",
     "start_time": "2020-03-20T18:55:42.144702Z"
    }
   },
   "outputs": [
    {
     "data": {
      "text/plain": [
       "15315    3.500000e+09\n",
       "7977     5.162513e+09\n",
       "8664     5.700000e+09\n",
       "36911    5.800000e+09\n",
       "45815    3.007950e+10\n",
       "Name: funding_total_usd, dtype: float64"
      ]
     },
     "execution_count": 13,
     "metadata": {},
     "output_type": "execute_result"
    }
   ],
   "source": [
    "df['funding_total_usd'].dropna().sort_values().tail()"
   ]
  },
  {
   "cell_type": "code",
   "execution_count": 14,
   "metadata": {
    "ExecuteTime": {
     "end_time": "2020-03-20T18:55:42.391743Z",
     "start_time": "2020-03-20T18:55:42.376351Z"
    }
   },
   "outputs": [
    {
     "data": {
      "text/plain": [
       " Software          4620\n",
       " Biotechnology     3688\n",
       " Mobile            1983\n",
       " E-Commerce        1805\n",
       " Curated Web       1655\n",
       "Name: market, dtype: int64"
      ]
     },
     "execution_count": 14,
     "metadata": {},
     "output_type": "execute_result"
    }
   ],
   "source": [
    "df.market.value_counts().head()"
   ]
  },
  {
   "cell_type": "code",
   "execution_count": 15,
   "metadata": {
    "ExecuteTime": {
     "end_time": "2020-03-20T18:55:42.470307Z",
     "start_time": "2020-03-20T18:55:42.449507Z"
    }
   },
   "outputs": [
    {
     "data": {
      "text/plain": [
       "USA    28793\n",
       "GBR     2642\n",
       "CAN     1405\n",
       "CHN     1239\n",
       "DEU      968\n",
       "Name: country_code, dtype: int64"
      ]
     },
     "execution_count": 15,
     "metadata": {},
     "output_type": "execute_result"
    }
   ],
   "source": [
    "df.country_code.value_counts().head()"
   ]
  },
  {
   "cell_type": "code",
   "execution_count": 16,
   "metadata": {
    "ExecuteTime": {
     "end_time": "2020-03-20T18:55:43.041551Z",
     "start_time": "2020-03-20T18:55:42.628165Z"
    }
   },
   "outputs": [
    {
     "data": {
      "image/png": "[encoded data removed]",
      "text/plain": [
       "<Figure size 432x288 with 1 Axes>"
      ]
     },
     "metadata": {
      "needs_background": "light"
     },
     "output_type": "display_data"
    }
   ],
   "source": [
    "df.funding_rounds.value_counts().plot(kind = 'barh');"
   ]
  },
  {
   "cell_type": "code",
   "execution_count": 17,
   "metadata": {
    "ExecuteTime": {
     "end_time": "2020-03-20T18:55:45.498916Z",
     "start_time": "2020-03-20T18:55:43.173443Z"
    }
   },
   "outputs": [
    {
     "data": {
      "image/png": "[encoded data removed]",
      "text/plain": [
       "<Figure size 1080x360 with 3 Axes>"
      ]
     },
     "metadata": {
      "needs_background": "light"
     },
     "output_type": "display_data"
    }
   ],
   "source": [
    "fig, ax = plt.subplots(ncols = 3, figsize = (15,5))\n",
    "df[df['seed']>0].seed.hist(bins = 100, ax = ax[0]);\n",
    "df[df['venture']>0].venture.hist(bins = 100, ax = ax[1]);\n",
    "df[df['equity_crowdfunding']>0].equity_crowdfunding.hist(bins = 100, ax = ax[2]);\n",
    "ax[0].set_yscale(\"log\")\n",
    "ax[1].set_yscale(\"log\")\n",
    "ax[2].set_yscale(\"log\")\n",
    "ax[0].set_title(\"Seed funding quantities (100mns $)\")\n",
    "ax[1].set_title(\"Venture funding quantities (Bns $)\")\n",
    "ax[2].set_title(\"Equity Crowd funding quantities (10mns $)\")\n",
    "plt.show()"
   ]
  },
  {
   "cell_type": "markdown",
   "metadata": {},
   "source": [
    "Lets check that all the rounds of funding are equal to the funding quantities."
   ]
  },
  {
   "cell_type": "code",
   "execution_count": 18,
   "metadata": {
    "ExecuteTime": {
     "end_time": "2020-03-20T18:55:45.680394Z",
     "start_time": "2020-03-20T18:55:45.609559Z"
    }
   },
   "outputs": [
    {
     "data": {
      "text/html": [
       "<div>\n",
       "<style scoped>\n",
       "    .dataframe tbody tr th:only-of-type {\n",
       "        vertical-align: middle;\n",
       "    }\n",
       "\n",
       "    .dataframe tbody tr th {\n",
       "        vertical-align: top;\n",
       "    }\n",
       "\n",
       "    .dataframe thead th {\n",
       "        text-align: right;\n",
       "    }\n",
       "</style>\n",
       "<table border=\"1\" class=\"dataframe\">\n",
       "  <thead>\n",
       "    <tr style=\"text-align: right;\">\n",
       "      <th></th>\n",
       "      <th>40</th>\n",
       "      <th>41</th>\n",
       "      <th>42</th>\n",
       "      <th>43</th>\n",
       "      <th>44</th>\n",
       "      <th>45</th>\n",
       "      <th>46</th>\n",
       "      <th>47</th>\n",
       "      <th>48</th>\n",
       "      <th>49</th>\n",
       "      <th>50</th>\n",
       "      <th>51</th>\n",
       "      <th>52</th>\n",
       "      <th>53</th>\n",
       "      <th>54</th>\n",
       "      <th>55</th>\n",
       "      <th>56</th>\n",
       "      <th>57</th>\n",
       "      <th>58</th>\n",
       "      <th>59</th>\n",
       "    </tr>\n",
       "  </thead>\n",
       "  <tbody>\n",
       "    <tr>\n",
       "      <th>seed</th>\n",
       "      <td>0.0</td>\n",
       "      <td>0.0</td>\n",
       "      <td>0.0</td>\n",
       "      <td>250000.0</td>\n",
       "      <td>69000.0</td>\n",
       "      <td>500000.0</td>\n",
       "      <td>0.0</td>\n",
       "      <td>378812.0</td>\n",
       "      <td>130636.0</td>\n",
       "      <td>0.0</td>\n",
       "      <td>0.0</td>\n",
       "      <td>0.0</td>\n",
       "      <td>0.0</td>\n",
       "      <td>700000.0</td>\n",
       "      <td>0.0</td>\n",
       "      <td>500000.0</td>\n",
       "      <td>0.0</td>\n",
       "      <td>2200000.0</td>\n",
       "      <td>200000.0</td>\n",
       "      <td>0.0</td>\n",
       "    </tr>\n",
       "    <tr>\n",
       "      <th>venture</th>\n",
       "      <td>0.0</td>\n",
       "      <td>0.0</td>\n",
       "      <td>0.0</td>\n",
       "      <td>0.0</td>\n",
       "      <td>0.0</td>\n",
       "      <td>150267.0</td>\n",
       "      <td>0.0</td>\n",
       "      <td>0.0</td>\n",
       "      <td>0.0</td>\n",
       "      <td>0.0</td>\n",
       "      <td>0.0</td>\n",
       "      <td>63450000.0</td>\n",
       "      <td>0.0</td>\n",
       "      <td>0.0</td>\n",
       "      <td>5500000.0</td>\n",
       "      <td>0.0</td>\n",
       "      <td>6204822.0</td>\n",
       "      <td>0.0</td>\n",
       "      <td>0.0</td>\n",
       "      <td>199957.0</td>\n",
       "    </tr>\n",
       "    <tr>\n",
       "      <th>equity_crowdfunding</th>\n",
       "      <td>0.0</td>\n",
       "      <td>0.0</td>\n",
       "      <td>0.0</td>\n",
       "      <td>0.0</td>\n",
       "      <td>0.0</td>\n",
       "      <td>0.0</td>\n",
       "      <td>0.0</td>\n",
       "      <td>0.0</td>\n",
       "      <td>0.0</td>\n",
       "      <td>0.0</td>\n",
       "      <td>0.0</td>\n",
       "      <td>0.0</td>\n",
       "      <td>0.0</td>\n",
       "      <td>0.0</td>\n",
       "      <td>0.0</td>\n",
       "      <td>0.0</td>\n",
       "      <td>0.0</td>\n",
       "      <td>0.0</td>\n",
       "      <td>0.0</td>\n",
       "      <td>0.0</td>\n",
       "    </tr>\n",
       "    <tr>\n",
       "      <th>undisclosed</th>\n",
       "      <td>0.0</td>\n",
       "      <td>0.0</td>\n",
       "      <td>0.0</td>\n",
       "      <td>0.0</td>\n",
       "      <td>0.0</td>\n",
       "      <td>0.0</td>\n",
       "      <td>0.0</td>\n",
       "      <td>0.0</td>\n",
       "      <td>0.0</td>\n",
       "      <td>0.0</td>\n",
       "      <td>0.0</td>\n",
       "      <td>0.0</td>\n",
       "      <td>0.0</td>\n",
       "      <td>0.0</td>\n",
       "      <td>0.0</td>\n",
       "      <td>0.0</td>\n",
       "      <td>0.0</td>\n",
       "      <td>0.0</td>\n",
       "      <td>0.0</td>\n",
       "      <td>0.0</td>\n",
       "    </tr>\n",
       "    <tr>\n",
       "      <th>convertible_note</th>\n",
       "      <td>0.0</td>\n",
       "      <td>0.0</td>\n",
       "      <td>0.0</td>\n",
       "      <td>0.0</td>\n",
       "      <td>0.0</td>\n",
       "      <td>0.0</td>\n",
       "      <td>0.0</td>\n",
       "      <td>0.0</td>\n",
       "      <td>0.0</td>\n",
       "      <td>0.0</td>\n",
       "      <td>0.0</td>\n",
       "      <td>0.0</td>\n",
       "      <td>0.0</td>\n",
       "      <td>0.0</td>\n",
       "      <td>0.0</td>\n",
       "      <td>0.0</td>\n",
       "      <td>0.0</td>\n",
       "      <td>0.0</td>\n",
       "      <td>0.0</td>\n",
       "      <td>0.0</td>\n",
       "    </tr>\n",
       "    <tr>\n",
       "      <th>debt_financing</th>\n",
       "      <td>0.0</td>\n",
       "      <td>0.0</td>\n",
       "      <td>0.0</td>\n",
       "      <td>0.0</td>\n",
       "      <td>0.0</td>\n",
       "      <td>0.0</td>\n",
       "      <td>0.0</td>\n",
       "      <td>0.0</td>\n",
       "      <td>0.0</td>\n",
       "      <td>0.0</td>\n",
       "      <td>0.0</td>\n",
       "      <td>0.0</td>\n",
       "      <td>0.0</td>\n",
       "      <td>0.0</td>\n",
       "      <td>0.0</td>\n",
       "      <td>0.0</td>\n",
       "      <td>0.0</td>\n",
       "      <td>0.0</td>\n",
       "      <td>0.0</td>\n",
       "      <td>0.0</td>\n",
       "    </tr>\n",
       "    <tr>\n",
       "      <th>angel</th>\n",
       "      <td>0.0</td>\n",
       "      <td>0.0</td>\n",
       "      <td>0.0</td>\n",
       "      <td>0.0</td>\n",
       "      <td>500000.0</td>\n",
       "      <td>0.0</td>\n",
       "      <td>0.0</td>\n",
       "      <td>0.0</td>\n",
       "      <td>0.0</td>\n",
       "      <td>619494.0</td>\n",
       "      <td>0.0</td>\n",
       "      <td>0.0</td>\n",
       "      <td>0.0</td>\n",
       "      <td>0.0</td>\n",
       "      <td>0.0</td>\n",
       "      <td>0.0</td>\n",
       "      <td>0.0</td>\n",
       "      <td>1200000.0</td>\n",
       "      <td>0.0</td>\n",
       "      <td>0.0</td>\n",
       "    </tr>\n",
       "    <tr>\n",
       "      <th>grant</th>\n",
       "      <td>0.0</td>\n",
       "      <td>0.0</td>\n",
       "      <td>0.0</td>\n",
       "      <td>20000.0</td>\n",
       "      <td>225000.0</td>\n",
       "      <td>0.0</td>\n",
       "      <td>0.0</td>\n",
       "      <td>0.0</td>\n",
       "      <td>0.0</td>\n",
       "      <td>0.0</td>\n",
       "      <td>0.0</td>\n",
       "      <td>3000000.0</td>\n",
       "      <td>0.0</td>\n",
       "      <td>0.0</td>\n",
       "      <td>0.0</td>\n",
       "      <td>0.0</td>\n",
       "      <td>0.0</td>\n",
       "      <td>0.0</td>\n",
       "      <td>0.0</td>\n",
       "      <td>0.0</td>\n",
       "    </tr>\n",
       "    <tr>\n",
       "      <th>private_equity</th>\n",
       "      <td>0.0</td>\n",
       "      <td>0.0</td>\n",
       "      <td>0.0</td>\n",
       "      <td>0.0</td>\n",
       "      <td>0.0</td>\n",
       "      <td>0.0</td>\n",
       "      <td>0.0</td>\n",
       "      <td>0.0</td>\n",
       "      <td>0.0</td>\n",
       "      <td>0.0</td>\n",
       "      <td>0.0</td>\n",
       "      <td>0.0</td>\n",
       "      <td>0.0</td>\n",
       "      <td>0.0</td>\n",
       "      <td>0.0</td>\n",
       "      <td>0.0</td>\n",
       "      <td>0.0</td>\n",
       "      <td>0.0</td>\n",
       "      <td>0.0</td>\n",
       "      <td>0.0</td>\n",
       "    </tr>\n",
       "    <tr>\n",
       "      <th>post_ipo_equity</th>\n",
       "      <td>0.0</td>\n",
       "      <td>0.0</td>\n",
       "      <td>0.0</td>\n",
       "      <td>0.0</td>\n",
       "      <td>0.0</td>\n",
       "      <td>0.0</td>\n",
       "      <td>0.0</td>\n",
       "      <td>0.0</td>\n",
       "      <td>0.0</td>\n",
       "      <td>0.0</td>\n",
       "      <td>0.0</td>\n",
       "      <td>0.0</td>\n",
       "      <td>0.0</td>\n",
       "      <td>0.0</td>\n",
       "      <td>0.0</td>\n",
       "      <td>0.0</td>\n",
       "      <td>0.0</td>\n",
       "      <td>0.0</td>\n",
       "      <td>0.0</td>\n",
       "      <td>0.0</td>\n",
       "    </tr>\n",
       "    <tr>\n",
       "      <th>post_ipo_debt</th>\n",
       "      <td>0.0</td>\n",
       "      <td>0.0</td>\n",
       "      <td>0.0</td>\n",
       "      <td>0.0</td>\n",
       "      <td>0.0</td>\n",
       "      <td>0.0</td>\n",
       "      <td>0.0</td>\n",
       "      <td>0.0</td>\n",
       "      <td>0.0</td>\n",
       "      <td>0.0</td>\n",
       "      <td>0.0</td>\n",
       "      <td>0.0</td>\n",
       "      <td>0.0</td>\n",
       "      <td>0.0</td>\n",
       "      <td>0.0</td>\n",
       "      <td>0.0</td>\n",
       "      <td>0.0</td>\n",
       "      <td>0.0</td>\n",
       "      <td>0.0</td>\n",
       "      <td>0.0</td>\n",
       "    </tr>\n",
       "    <tr>\n",
       "      <th>secondary_market</th>\n",
       "      <td>0.0</td>\n",
       "      <td>0.0</td>\n",
       "      <td>0.0</td>\n",
       "      <td>0.0</td>\n",
       "      <td>0.0</td>\n",
       "      <td>0.0</td>\n",
       "      <td>0.0</td>\n",
       "      <td>0.0</td>\n",
       "      <td>0.0</td>\n",
       "      <td>0.0</td>\n",
       "      <td>0.0</td>\n",
       "      <td>0.0</td>\n",
       "      <td>0.0</td>\n",
       "      <td>0.0</td>\n",
       "      <td>0.0</td>\n",
       "      <td>0.0</td>\n",
       "      <td>0.0</td>\n",
       "      <td>0.0</td>\n",
       "      <td>0.0</td>\n",
       "      <td>0.0</td>\n",
       "    </tr>\n",
       "    <tr>\n",
       "      <th>product_crowdfunding</th>\n",
       "      <td>0.0</td>\n",
       "      <td>0.0</td>\n",
       "      <td>0.0</td>\n",
       "      <td>0.0</td>\n",
       "      <td>0.0</td>\n",
       "      <td>0.0</td>\n",
       "      <td>0.0</td>\n",
       "      <td>0.0</td>\n",
       "      <td>0.0</td>\n",
       "      <td>0.0</td>\n",
       "      <td>0.0</td>\n",
       "      <td>0.0</td>\n",
       "      <td>0.0</td>\n",
       "      <td>0.0</td>\n",
       "      <td>0.0</td>\n",
       "      <td>0.0</td>\n",
       "      <td>0.0</td>\n",
       "      <td>0.0</td>\n",
       "      <td>0.0</td>\n",
       "      <td>0.0</td>\n",
       "    </tr>\n",
       "    <tr>\n",
       "      <th>round_A</th>\n",
       "      <td>0.0</td>\n",
       "      <td>0.0</td>\n",
       "      <td>0.0</td>\n",
       "      <td>0.0</td>\n",
       "      <td>0.0</td>\n",
       "      <td>0.0</td>\n",
       "      <td>0.0</td>\n",
       "      <td>0.0</td>\n",
       "      <td>0.0</td>\n",
       "      <td>0.0</td>\n",
       "      <td>0.0</td>\n",
       "      <td>12400000.0</td>\n",
       "      <td>0.0</td>\n",
       "      <td>0.0</td>\n",
       "      <td>3000000.0</td>\n",
       "      <td>0.0</td>\n",
       "      <td>4500000.0</td>\n",
       "      <td>0.0</td>\n",
       "      <td>0.0</td>\n",
       "      <td>0.0</td>\n",
       "    </tr>\n",
       "    <tr>\n",
       "      <th>round_B</th>\n",
       "      <td>0.0</td>\n",
       "      <td>0.0</td>\n",
       "      <td>0.0</td>\n",
       "      <td>0.0</td>\n",
       "      <td>0.0</td>\n",
       "      <td>0.0</td>\n",
       "      <td>0.0</td>\n",
       "      <td>0.0</td>\n",
       "      <td>0.0</td>\n",
       "      <td>0.0</td>\n",
       "      <td>0.0</td>\n",
       "      <td>28400000.0</td>\n",
       "      <td>0.0</td>\n",
       "      <td>0.0</td>\n",
       "      <td>2500000.0</td>\n",
       "      <td>0.0</td>\n",
       "      <td>1704822.0</td>\n",
       "      <td>0.0</td>\n",
       "      <td>0.0</td>\n",
       "      <td>0.0</td>\n",
       "    </tr>\n",
       "    <tr>\n",
       "      <th>round_C</th>\n",
       "      <td>0.0</td>\n",
       "      <td>0.0</td>\n",
       "      <td>0.0</td>\n",
       "      <td>0.0</td>\n",
       "      <td>0.0</td>\n",
       "      <td>0.0</td>\n",
       "      <td>0.0</td>\n",
       "      <td>0.0</td>\n",
       "      <td>0.0</td>\n",
       "      <td>0.0</td>\n",
       "      <td>0.0</td>\n",
       "      <td>17500000.0</td>\n",
       "      <td>0.0</td>\n",
       "      <td>0.0</td>\n",
       "      <td>0.0</td>\n",
       "      <td>0.0</td>\n",
       "      <td>0.0</td>\n",
       "      <td>0.0</td>\n",
       "      <td>0.0</td>\n",
       "      <td>0.0</td>\n",
       "    </tr>\n",
       "    <tr>\n",
       "      <th>round_D</th>\n",
       "      <td>0.0</td>\n",
       "      <td>0.0</td>\n",
       "      <td>0.0</td>\n",
       "      <td>0.0</td>\n",
       "      <td>0.0</td>\n",
       "      <td>0.0</td>\n",
       "      <td>0.0</td>\n",
       "      <td>0.0</td>\n",
       "      <td>0.0</td>\n",
       "      <td>0.0</td>\n",
       "      <td>0.0</td>\n",
       "      <td>0.0</td>\n",
       "      <td>0.0</td>\n",
       "      <td>0.0</td>\n",
       "      <td>0.0</td>\n",
       "      <td>0.0</td>\n",
       "      <td>0.0</td>\n",
       "      <td>0.0</td>\n",
       "      <td>0.0</td>\n",
       "      <td>0.0</td>\n",
       "    </tr>\n",
       "    <tr>\n",
       "      <th>round_E</th>\n",
       "      <td>0.0</td>\n",
       "      <td>0.0</td>\n",
       "      <td>0.0</td>\n",
       "      <td>0.0</td>\n",
       "      <td>0.0</td>\n",
       "      <td>0.0</td>\n",
       "      <td>0.0</td>\n",
       "      <td>0.0</td>\n",
       "      <td>0.0</td>\n",
       "      <td>0.0</td>\n",
       "      <td>0.0</td>\n",
       "      <td>0.0</td>\n",
       "      <td>0.0</td>\n",
       "      <td>0.0</td>\n",
       "      <td>0.0</td>\n",
       "      <td>0.0</td>\n",
       "      <td>0.0</td>\n",
       "      <td>0.0</td>\n",
       "      <td>0.0</td>\n",
       "      <td>0.0</td>\n",
       "    </tr>\n",
       "    <tr>\n",
       "      <th>round_F</th>\n",
       "      <td>0.0</td>\n",
       "      <td>0.0</td>\n",
       "      <td>0.0</td>\n",
       "      <td>0.0</td>\n",
       "      <td>0.0</td>\n",
       "      <td>0.0</td>\n",
       "      <td>0.0</td>\n",
       "      <td>0.0</td>\n",
       "      <td>0.0</td>\n",
       "      <td>0.0</td>\n",
       "      <td>0.0</td>\n",
       "      <td>0.0</td>\n",
       "      <td>0.0</td>\n",
       "      <td>0.0</td>\n",
       "      <td>0.0</td>\n",
       "      <td>0.0</td>\n",
       "      <td>0.0</td>\n",
       "      <td>0.0</td>\n",
       "      <td>0.0</td>\n",
       "      <td>0.0</td>\n",
       "    </tr>\n",
       "    <tr>\n",
       "      <th>round_G</th>\n",
       "      <td>0.0</td>\n",
       "      <td>0.0</td>\n",
       "      <td>0.0</td>\n",
       "      <td>0.0</td>\n",
       "      <td>0.0</td>\n",
       "      <td>0.0</td>\n",
       "      <td>0.0</td>\n",
       "      <td>0.0</td>\n",
       "      <td>0.0</td>\n",
       "      <td>0.0</td>\n",
       "      <td>0.0</td>\n",
       "      <td>0.0</td>\n",
       "      <td>0.0</td>\n",
       "      <td>0.0</td>\n",
       "      <td>0.0</td>\n",
       "      <td>0.0</td>\n",
       "      <td>0.0</td>\n",
       "      <td>0.0</td>\n",
       "      <td>0.0</td>\n",
       "      <td>0.0</td>\n",
       "    </tr>\n",
       "    <tr>\n",
       "      <th>round_H</th>\n",
       "      <td>0.0</td>\n",
       "      <td>0.0</td>\n",
       "      <td>0.0</td>\n",
       "      <td>0.0</td>\n",
       "      <td>0.0</td>\n",
       "      <td>0.0</td>\n",
       "      <td>0.0</td>\n",
       "      <td>0.0</td>\n",
       "      <td>0.0</td>\n",
       "      <td>0.0</td>\n",
       "      <td>0.0</td>\n",
       "      <td>0.0</td>\n",
       "      <td>0.0</td>\n",
       "      <td>0.0</td>\n",
       "      <td>0.0</td>\n",
       "      <td>0.0</td>\n",
       "      <td>0.0</td>\n",
       "      <td>0.0</td>\n",
       "      <td>0.0</td>\n",
       "      <td>0.0</td>\n",
       "    </tr>\n",
       "  </tbody>\n",
       "</table>\n",
       "</div>"
      ],
      "text/plain": [
       "                       40   41   42        43        44        45   46  \\\n",
       "seed                  0.0  0.0  0.0  250000.0   69000.0  500000.0  0.0   \n",
       "venture               0.0  0.0  0.0       0.0       0.0  150267.0  0.0   \n",
       "equity_crowdfunding   0.0  0.0  0.0       0.0       0.0       0.0  0.0   \n",
       "undisclosed           0.0  0.0  0.0       0.0       0.0       0.0  0.0   \n",
       "convertible_note      0.0  0.0  0.0       0.0       0.0       0.0  0.0   \n",
       "debt_financing        0.0  0.0  0.0       0.0       0.0       0.0  0.0   \n",
       "angel                 0.0  0.0  0.0       0.0  500000.0       0.0  0.0   \n",
       "grant                 0.0  0.0  0.0   20000.0  225000.0       0.0  0.0   \n",
       "private_equity        0.0  0.0  0.0       0.0       0.0       0.0  0.0   \n",
       "post_ipo_equity       0.0  0.0  0.0       0.0       0.0       0.0  0.0   \n",
       "post_ipo_debt         0.0  0.0  0.0       0.0       0.0       0.0  0.0   \n",
       "secondary_market      0.0  0.0  0.0       0.0       0.0       0.0  0.0   \n",
       "product_crowdfunding  0.0  0.0  0.0       0.0       0.0       0.0  0.0   \n",
       "round_A               0.0  0.0  0.0       0.0       0.0       0.0  0.0   \n",
       "round_B               0.0  0.0  0.0       0.0       0.0       0.0  0.0   \n",
       "round_C               0.0  0.0  0.0       0.0       0.0       0.0  0.0   \n",
       "round_D               0.0  0.0  0.0       0.0       0.0       0.0  0.0   \n",
       "round_E               0.0  0.0  0.0       0.0       0.0       0.0  0.0   \n",
       "round_F               0.0  0.0  0.0       0.0       0.0       0.0  0.0   \n",
       "round_G               0.0  0.0  0.0       0.0       0.0       0.0  0.0   \n",
       "round_H               0.0  0.0  0.0       0.0       0.0       0.0  0.0   \n",
       "\n",
       "                            47        48        49   50          51   52  \\\n",
       "seed                  378812.0  130636.0       0.0  0.0         0.0  0.0   \n",
       "venture                    0.0       0.0       0.0  0.0  63450000.0  0.0   \n",
       "equity_crowdfunding        0.0       0.0       0.0  0.0         0.0  0.0   \n",
       "undisclosed                0.0       0.0       0.0  0.0         0.0  0.0   \n",
       "convertible_note           0.0       0.0       0.0  0.0         0.0  0.0   \n",
       "debt_financing             0.0       0.0       0.0  0.0         0.0  0.0   \n",
       "angel                      0.0       0.0  619494.0  0.0         0.0  0.0   \n",
       "grant                      0.0       0.0       0.0  0.0   3000000.0  0.0   \n",
       "private_equity             0.0       0.0       0.0  0.0         0.0  0.0   \n",
       "post_ipo_equity            0.0       0.0       0.0  0.0         0.0  0.0   \n",
       "post_ipo_debt              0.0       0.0       0.0  0.0         0.0  0.0   \n",
       "secondary_market           0.0       0.0       0.0  0.0         0.0  0.0   \n",
       "product_crowdfunding       0.0       0.0       0.0  0.0         0.0  0.0   \n",
       "round_A                    0.0       0.0       0.0  0.0  12400000.0  0.0   \n",
       "round_B                    0.0       0.0       0.0  0.0  28400000.0  0.0   \n",
       "round_C                    0.0       0.0       0.0  0.0  17500000.0  0.0   \n",
       "round_D                    0.0       0.0       0.0  0.0         0.0  0.0   \n",
       "round_E                    0.0       0.0       0.0  0.0         0.0  0.0   \n",
       "round_F                    0.0       0.0       0.0  0.0         0.0  0.0   \n",
       "round_G                    0.0       0.0       0.0  0.0         0.0  0.0   \n",
       "round_H                    0.0       0.0       0.0  0.0         0.0  0.0   \n",
       "\n",
       "                            53         54        55         56         57  \\\n",
       "seed                  700000.0        0.0  500000.0        0.0  2200000.0   \n",
       "venture                    0.0  5500000.0       0.0  6204822.0        0.0   \n",
       "equity_crowdfunding        0.0        0.0       0.0        0.0        0.0   \n",
       "undisclosed                0.0        0.0       0.0        0.0        0.0   \n",
       "convertible_note           0.0        0.0       0.0        0.0        0.0   \n",
       "debt_financing             0.0        0.0       0.0        0.0        0.0   \n",
       "angel                      0.0        0.0       0.0        0.0  1200000.0   \n",
       "grant                      0.0        0.0       0.0        0.0        0.0   \n",
       "private_equity             0.0        0.0       0.0        0.0        0.0   \n",
       "post_ipo_equity            0.0        0.0       0.0        0.0        0.0   \n",
       "post_ipo_debt              0.0        0.0       0.0        0.0        0.0   \n",
       "secondary_market           0.0        0.0       0.0        0.0        0.0   \n",
       "product_crowdfunding       0.0        0.0       0.0        0.0        0.0   \n",
       "round_A                    0.0  3000000.0       0.0  4500000.0        0.0   \n",
       "round_B                    0.0  2500000.0       0.0  1704822.0        0.0   \n",
       "round_C                    0.0        0.0       0.0        0.0        0.0   \n",
       "round_D                    0.0        0.0       0.0        0.0        0.0   \n",
       "round_E                    0.0        0.0       0.0        0.0        0.0   \n",
       "round_F                    0.0        0.0       0.0        0.0        0.0   \n",
       "round_G                    0.0        0.0       0.0        0.0        0.0   \n",
       "round_H                    0.0        0.0       0.0        0.0        0.0   \n",
       "\n",
       "                            58        59  \n",
       "seed                  200000.0       0.0  \n",
       "venture                    0.0  199957.0  \n",
       "equity_crowdfunding        0.0       0.0  \n",
       "undisclosed                0.0       0.0  \n",
       "convertible_note           0.0       0.0  \n",
       "debt_financing             0.0       0.0  \n",
       "angel                      0.0       0.0  \n",
       "grant                      0.0       0.0  \n",
       "private_equity             0.0       0.0  \n",
       "post_ipo_equity            0.0       0.0  \n",
       "post_ipo_debt              0.0       0.0  \n",
       "secondary_market           0.0       0.0  \n",
       "product_crowdfunding       0.0       0.0  \n",
       "round_A                    0.0       0.0  \n",
       "round_B                    0.0       0.0  \n",
       "round_C                    0.0       0.0  \n",
       "round_D                    0.0       0.0  \n",
       "round_E                    0.0       0.0  \n",
       "round_F                    0.0       0.0  \n",
       "round_G                    0.0       0.0  \n",
       "round_H                    0.0       0.0  "
      ]
     },
     "execution_count": 18,
     "metadata": {},
     "output_type": "execute_result"
    }
   ],
   "source": [
    "df.iloc[40:60,18:40].T"
   ]
  },
  {
   "cell_type": "code",
   "execution_count": 19,
   "metadata": {
    "ExecuteTime": {
     "end_time": "2020-03-20T18:55:46.032413Z",
     "start_time": "2020-03-20T18:55:45.992172Z"
    }
   },
   "outputs": [],
   "source": [
    "tot_round = df.iloc[:,31:40].T.sum()"
   ]
  },
  {
   "cell_type": "code",
   "execution_count": 20,
   "metadata": {
    "ExecuteTime": {
     "end_time": "2020-03-20T18:55:46.213632Z",
     "start_time": "2020-03-20T18:55:46.193249Z"
    }
   },
   "outputs": [],
   "source": [
    "tot_funds = df.iloc[:,18:31].T.sum()"
   ]
  },
  {
   "cell_type": "code",
   "execution_count": 21,
   "metadata": {
    "ExecuteTime": {
     "end_time": "2020-03-20T18:55:46.344232Z",
     "start_time": "2020-03-20T18:55:46.335392Z"
    }
   },
   "outputs": [
    {
     "name": "stdout",
     "output_type": "stream",
     "text": [
      "There are 0 instances of larger sums of round funding than other financing data\n"
     ]
    }
   ],
   "source": [
    "print('There are {} instances of larger sums of round funding than other financing data'.format((tot_round>tot_funds).sum()))"
   ]
  },
  {
   "cell_type": "markdown",
   "metadata": {},
   "source": [
    "It seems that some funding round info is missing. Lets treat it as a categorical binary variable instead."
   ]
  },
  {
   "cell_type": "code",
   "execution_count": 22,
   "metadata": {
    "ExecuteTime": {
     "end_time": "2020-03-20T18:55:46.688698Z",
     "start_time": "2020-03-20T18:55:46.456457Z"
    }
   },
   "outputs": [],
   "source": [
    "df.iloc[:,31:40] = df.iloc[:,31:40].applymap(lambda x: 1 if x>0 else 0)"
   ]
  },
  {
   "cell_type": "code",
   "execution_count": 23,
   "metadata": {
    "ExecuteTime": {
     "end_time": "2020-03-20T18:55:47.048146Z",
     "start_time": "2020-03-20T18:55:46.827008Z"
    }
   },
   "outputs": [
    {
     "data": {
      "image/png": "[encoded data removed]",
      "text/plain": [
       "<Figure size 432x288 with 1 Axes>"
      ]
     },
     "metadata": {
      "needs_background": "light"
     },
     "output_type": "display_data"
    }
   ],
   "source": [
    "df.iloc[:,31:40].sum().plot(kind = 'barh');"
   ]
  },
  {
   "cell_type": "code",
   "execution_count": 24,
   "metadata": {
    "ExecuteTime": {
     "end_time": "2020-03-20T18:55:47.208832Z",
     "start_time": "2020-03-20T18:55:47.202543Z"
    }
   },
   "outputs": [],
   "source": [
    "def transform_data(df, how, output):\n",
    "    \n",
    "    if how == 'minmax':\n",
    "        scaler = MinMaxScaler()\n",
    "    elif how == 'standard':\n",
    "        scaler = StandardScaler()\n",
    "    else:\n",
    "        scaler = PowerTransformer()\n",
    "    \n",
    "    if output == 'df':\n",
    "        return pd.DataFrame(scaler.fit_transform(df), columns = df.columns)\n",
    "    else:\n",
    "        return scaler.fit_transform(df)"
   ]
  },
  {
   "cell_type": "markdown",
   "metadata": {},
   "source": [
    "Our data looks to be massively skewed."
   ]
  },
  {
   "cell_type": "code",
   "execution_count": 25,
   "metadata": {
    "ExecuteTime": {
     "end_time": "2020-03-20T18:55:47.747349Z",
     "start_time": "2020-03-20T18:55:47.383778Z"
    }
   },
   "outputs": [
    {
     "data": {
      "image/png": "[encoded data removed]",
      "text/plain": [
       "<Figure size 576x360 with 1 Axes>"
      ]
     },
     "metadata": {
      "needs_background": "light"
     },
     "output_type": "display_data"
    }
   ],
   "source": [
    "fig, ax = plt.subplots(figsize = (8,5))\n",
    "sns.distplot(tot_funds[(tot_funds>0)&(tot_funds<10**9)]);"
   ]
  },
  {
   "cell_type": "code",
   "execution_count": 26,
   "metadata": {
    "ExecuteTime": {
     "end_time": "2020-03-20T18:55:48.857510Z",
     "start_time": "2020-03-20T18:55:47.929276Z"
    }
   },
   "outputs": [
    {
     "data": {
      "image/png": "[encoded data removed]",
      "text/plain": [
       "<Figure size 864x576 with 1 Axes>"
      ]
     },
     "metadata": {
      "needs_background": "light"
     },
     "output_type": "display_data"
    }
   ],
   "source": [
    "temp_df = df[df['seed']<10**9]\n",
    "fig, ax = plt.subplots(figsize = (12,8))\n",
    "sns.violinplot(x = 'funding_rounds', y = 'seed', hue = 'status', data = temp_df);\n",
    "plt.show()"
   ]
  },
  {
   "cell_type": "markdown",
   "metadata": {},
   "source": [
    "### Key findings:\n",
    "\n",
    "- There is skew all over the dataset. We have some companies who've received enormous amounts of funding and others with almost nothing.\n",
    "- We see countries in "
   ]
  },
  {
   "cell_type": "markdown",
   "metadata": {},
   "source": [
    "# Feature Engineering"
   ]
  },
  {
   "cell_type": "markdown",
   "metadata": {},
   "source": [
    "#### There is much to do:\n",
    "\n",
    "- We need to sort out categories that businesses fall into\n",
    "- Names to manipulate\n",
    "- Various times to turn into useful features\n",
    "- We have many locations to minimise"
   ]
  },
  {
   "cell_type": "markdown",
   "metadata": {},
   "source": [
    "#### Create dummies for popular categories"
   ]
  },
  {
   "cell_type": "code",
   "execution_count": 27,
   "metadata": {
    "ExecuteTime": {
     "end_time": "2020-03-20T18:55:49.176096Z",
     "start_time": "2020-03-20T18:55:49.073215Z"
    }
   },
   "outputs": [],
   "source": [
    "df.category_list = df.category_list.str.replace(' ','').str.replace('|', ' ')"
   ]
  },
  {
   "cell_type": "code",
   "execution_count": 28,
   "metadata": {
    "ExecuteTime": {
     "end_time": "2020-03-20T18:55:49.392519Z",
     "start_time": "2020-03-20T18:55:49.380572Z"
    }
   },
   "outputs": [],
   "source": [
    "df.category_list = df.category_list.fillna(' ')"
   ]
  },
  {
   "cell_type": "code",
   "execution_count": 29,
   "metadata": {
    "ExecuteTime": {
     "end_time": "2020-03-20T18:55:49.596974Z",
     "start_time": "2020-03-20T18:55:49.588485Z"
    }
   },
   "outputs": [
    {
     "data": {
      "text/plain": [
       "0             Entertainment Politics SocialMedia News \n",
       "1                                               Games \n",
       "2                                Publishing Education \n",
       "3     Electronics Guides Coffee Restaurants Music i...\n",
       "4                         Tourism Entertainment Games \n",
       "Name: category_list, dtype: object"
      ]
     },
     "execution_count": 29,
     "metadata": {},
     "output_type": "execute_result"
    }
   ],
   "source": [
    "df.category_list.head()"
   ]
  },
  {
   "cell_type": "code",
   "execution_count": 30,
   "metadata": {
    "ExecuteTime": {
     "end_time": "2020-03-20T18:55:49.997990Z",
     "start_time": "2020-03-20T18:55:49.629378Z"
    }
   },
   "outputs": [],
   "source": [
    "vectoriser = CountVectorizer()\n",
    "sparse_cats = vectoriser.fit_transform(df.category_list)"
   ]
  },
  {
   "cell_type": "code",
   "execution_count": 31,
   "metadata": {
    "ExecuteTime": {
     "end_time": "2020-03-20T18:55:50.429030Z",
     "start_time": "2020-03-20T18:55:50.222239Z"
    }
   },
   "outputs": [],
   "source": [
    "cats_df = pd.DataFrame(sparse_cats.todense(), columns=vectoriser.get_feature_names())"
   ]
  },
  {
   "cell_type": "markdown",
   "metadata": {},
   "source": [
    "Control for how many categories we want to maintain"
   ]
  },
  {
   "cell_type": "code",
   "execution_count": 32,
   "metadata": {
    "ExecuteTime": {
     "end_time": "2020-03-20T18:55:51.258455Z",
     "start_time": "2020-03-20T18:55:51.190060Z"
    }
   },
   "outputs": [],
   "source": [
    "num = 60\n",
    "top_cats = list(cats_df.sum().sort_values(ascending = False)[0:num].index)"
   ]
  },
  {
   "cell_type": "code",
   "execution_count": 33,
   "metadata": {
    "ExecuteTime": {
     "end_time": "2020-03-20T18:55:51.767478Z",
     "start_time": "2020-03-20T18:55:51.594508Z"
    }
   },
   "outputs": [],
   "source": [
    "df = pd.concat([cats_df[top_cats], df], axis = 1)"
   ]
  },
  {
   "cell_type": "code",
   "execution_count": 34,
   "metadata": {
    "ExecuteTime": {
     "end_time": "2020-03-20T18:55:52.272586Z",
     "start_time": "2020-03-20T18:55:52.127692Z"
    }
   },
   "outputs": [],
   "source": [
    "df.drop(['category_list', 'market'], axis = 1, inplace = True)"
   ]
  },
  {
   "cell_type": "markdown",
   "metadata": {},
   "source": [
    "#### Permalink and Name"
   ]
  },
  {
   "cell_type": "code",
   "execution_count": 35,
   "metadata": {
    "ExecuteTime": {
     "end_time": "2020-03-20T18:55:52.741545Z",
     "start_time": "2020-03-20T18:55:52.664202Z"
    }
   },
   "outputs": [
    {
     "data": {
      "text/plain": [
       "organization    49438\n",
       "Name: permalink, dtype: int64"
      ]
     },
     "execution_count": 35,
     "metadata": {},
     "output_type": "execute_result"
    }
   ],
   "source": [
    "df.permalink.apply(lambda x: x.split('/')[1] if x == str(x) else x).value_counts()"
   ]
  },
  {
   "cell_type": "code",
   "execution_count": 36,
   "metadata": {
    "ExecuteTime": {
     "end_time": "2020-03-20T18:55:53.234381Z",
     "start_time": "2020-03-20T18:55:53.128044Z"
    }
   },
   "outputs": [
    {
     "data": {
      "text/plain": [
       "prysm                               2\n",
       "treasure-valley-urology-services    2\n",
       "northeast-wireless-networks         1\n",
       "wegreek                             1\n",
       "carevature-medical-north-america    1\n",
       "corporateworld                      1\n",
       "hunch                               1\n",
       "boosted-boards                      1\n",
       "spraingo                            1\n",
       "idle-free-systems                   1\n",
       "Name: permalink, dtype: int64"
      ]
     },
     "execution_count": 36,
     "metadata": {},
     "output_type": "execute_result"
    }
   ],
   "source": [
    "df.permalink.apply(lambda x: x.split('/')[2] if x == str(x) else x).value_counts()[0:10]"
   ]
  },
  {
   "cell_type": "code",
   "execution_count": 37,
   "metadata": {
    "ExecuteTime": {
     "end_time": "2020-03-20T18:55:53.688416Z",
     "start_time": "2020-03-20T18:55:53.618789Z"
    }
   },
   "outputs": [
    {
     "data": {
      "text/plain": [
       "Roost              4\n",
       "Spire              4\n",
       "Shift              3\n",
       "Peach              3\n",
       "Roadmap            3\n",
       "Compass            3\n",
       "Hubbub             3\n",
       "Cue                3\n",
       "TickTickTickets    2\n",
       "Tiempo             2\n",
       "Name: name, dtype: int64"
      ]
     },
     "execution_count": 37,
     "metadata": {},
     "output_type": "execute_result"
    }
   ],
   "source": [
    "df.name.value_counts()[0:10]"
   ]
  },
  {
   "cell_type": "markdown",
   "metadata": {},
   "source": [
    "Permalink and name carry slightly different information. But permalink doesn't appear to carry any unique information over the url so we will drop it."
   ]
  },
  {
   "cell_type": "code",
   "execution_count": 38,
   "metadata": {
    "ExecuteTime": {
     "end_time": "2020-03-20T18:55:55.799847Z",
     "start_time": "2020-03-20T18:55:55.761179Z"
    }
   },
   "outputs": [],
   "source": [
    "df.drop('permalink', axis = 1, inplace = True)"
   ]
  },
  {
   "cell_type": "markdown",
   "metadata": {},
   "source": [
    "Phil Knight of Nike spoke of how certain letters in a companies name and its length make it stickier. Lets create features for each."
   ]
  },
  {
   "cell_type": "code",
   "execution_count": 39,
   "metadata": {
    "ExecuteTime": {
     "end_time": "2020-03-20T18:55:56.195681Z",
     "start_time": "2020-03-20T18:55:56.188213Z"
    }
   },
   "outputs": [
    {
     "data": {
      "text/plain": [
       "0              #waywire\n",
       "1    &TV Communications\n",
       "2     'Rock' Your Paper\n",
       "3     (In)Touch Network\n",
       "4    -R- Ranch and Mine\n",
       "Name: name, dtype: object"
      ]
     },
     "execution_count": 39,
     "metadata": {},
     "output_type": "execute_result"
    }
   ],
   "source": [
    "df.name.head()"
   ]
  },
  {
   "cell_type": "markdown",
   "metadata": {},
   "source": [
    "Get name length."
   ]
  },
  {
   "cell_type": "code",
   "execution_count": 40,
   "metadata": {
    "ExecuteTime": {
     "end_time": "2020-03-20T18:55:57.533559Z",
     "start_time": "2020-03-20T18:55:57.408844Z"
    }
   },
   "outputs": [],
   "source": [
    "df['name_len'] = df.name.apply(lambda x: len(re.sub(\"[^0-9A-Za-z]\", \"\", x)) if str(x)==x else 0)"
   ]
  },
  {
   "cell_type": "markdown",
   "metadata": {},
   "source": [
    "Sticky letters count."
   ]
  },
  {
   "cell_type": "code",
   "execution_count": 41,
   "metadata": {
    "ExecuteTime": {
     "end_time": "2020-03-20T18:55:58.281715Z",
     "start_time": "2020-03-20T18:55:58.065259Z"
    }
   },
   "outputs": [],
   "source": [
    "df['sticky_letter_count'] = df.name.\\\n",
    "                                apply(lambda x: (len(re.sub(\"[^kKyYzZxX]\", \"\", x))) if str(x)==x else 0).\\\n",
    "                                apply(lambda x: 1 if x>0 else 0)"
   ]
  },
  {
   "cell_type": "markdown",
   "metadata": {},
   "source": [
    "Count the syllables."
   ]
  },
  {
   "cell_type": "code",
   "execution_count": 42,
   "metadata": {
    "ExecuteTime": {
     "end_time": "2020-03-20T18:55:59.298169Z",
     "start_time": "2020-03-20T18:55:59.291289Z"
    }
   },
   "outputs": [],
   "source": [
    "def syllable_count(word):\n",
    "    try:\n",
    "        word = word.lower()\n",
    "        count = 0\n",
    "        vowels = \"aeiouy\"\n",
    "        if word[0] in vowels:\n",
    "            count += 1\n",
    "        for index in range(1, len(word)):\n",
    "            if word[index] in vowels and word[index - 1] not in vowels:\n",
    "                count += 1\n",
    "        if word.endswith(\"e\"):\n",
    "            count -= 1\n",
    "        if count == 0:\n",
    "            count += 1\n",
    "        return count\n",
    "    except:\n",
    "        return 0"
   ]
  },
  {
   "cell_type": "code",
   "execution_count": 43,
   "metadata": {
    "ExecuteTime": {
     "end_time": "2020-03-20T18:56:00.133325Z",
     "start_time": "2020-03-20T18:55:59.779889Z"
    }
   },
   "outputs": [],
   "source": [
    "df['syllable_count'] = df.name.apply(lambda x: syllable_count(re.sub(\"[^A-Za-z]\", \"\", x)) if str(x)==x else 0)"
   ]
  },
  {
   "cell_type": "code",
   "execution_count": 44,
   "metadata": {
    "ExecuteTime": {
     "end_time": "2020-03-20T18:56:00.759999Z",
     "start_time": "2020-03-20T18:56:00.628335Z"
    }
   },
   "outputs": [],
   "source": [
    "df.drop('name', axis = 1, inplace = True)"
   ]
  },
  {
   "cell_type": "markdown",
   "metadata": {},
   "source": [
    "We're done with names, lets now look at url."
   ]
  },
  {
   "cell_type": "code",
   "execution_count": 45,
   "metadata": {
    "ExecuteTime": {
     "end_time": "2020-03-20T18:56:01.345152Z",
     "start_time": "2020-03-20T18:56:01.108935Z"
    }
   },
   "outputs": [
    {
     "data": {
      "text/plain": [
       "com          37722\n",
       "undefined     3450\n",
       "net            927\n",
       "co             626\n",
       "org            485\n",
       "Name: homepage_url, dtype: int64"
      ]
     },
     "execution_count": 45,
     "metadata": {},
     "output_type": "execute_result"
    }
   ],
   "source": [
    "df.homepage_url.apply(lambda x: re.sub(\"[^A-Za-z.]\", \"\", x).split('.')[-1] if str(x)==x else 'undefined').value_counts().head()"
   ]
  },
  {
   "cell_type": "markdown",
   "metadata": {},
   "source": [
    "Given the quantity of .com's, its probably not worth creating a feature out of it. We don't need anything with URL so we can drop it."
   ]
  },
  {
   "cell_type": "code",
   "execution_count": 46,
   "metadata": {
    "ExecuteTime": {
     "end_time": "2020-03-20T18:56:01.743827Z",
     "start_time": "2020-03-20T18:56:01.705432Z"
    }
   },
   "outputs": [],
   "source": [
    "df.drop('homepage_url', axis = 1, inplace = True)"
   ]
  },
  {
   "cell_type": "markdown",
   "metadata": {},
   "source": [
    "#### Locations"
   ]
  },
  {
   "cell_type": "code",
   "execution_count": 47,
   "metadata": {
    "ExecuteTime": {
     "end_time": "2020-03-20T18:56:02.229381Z",
     "start_time": "2020-03-20T18:56:02.199721Z"
    }
   },
   "outputs": [],
   "source": [
    "num_cities = 20\n",
    "city_list = list(df.city.value_counts()[:num_cities].index)"
   ]
  },
  {
   "cell_type": "code",
   "execution_count": 48,
   "metadata": {
    "ExecuteTime": {
     "end_time": "2020-03-20T18:56:02.686576Z",
     "start_time": "2020-03-20T18:56:02.644627Z"
    }
   },
   "outputs": [],
   "source": [
    "df.city = df.city.apply(lambda x: x.lower() if x in city_list else 'other_location')"
   ]
  },
  {
   "cell_type": "code",
   "execution_count": 49,
   "metadata": {
    "ExecuteTime": {
     "end_time": "2020-03-20T18:56:03.058735Z",
     "start_time": "2020-03-20T18:56:02.984931Z"
    }
   },
   "outputs": [],
   "source": [
    "df = pd.concat([pd.get_dummies(df.city, drop_first = True), df], axis = 1)"
   ]
  },
  {
   "cell_type": "code",
   "execution_count": 50,
   "metadata": {
    "ExecuteTime": {
     "end_time": "2020-03-20T18:56:03.576300Z",
     "start_time": "2020-03-20T18:56:03.490525Z"
    }
   },
   "outputs": [],
   "source": [
    "df.drop(['state_code', 'region', 'city', 'country_code'], axis = 1, inplace = True)"
   ]
  },
  {
   "cell_type": "markdown",
   "metadata": {},
   "source": [
    "#### Date"
   ]
  },
  {
   "cell_type": "code",
   "execution_count": 51,
   "metadata": {
    "ExecuteTime": {
     "end_time": "2020-03-20T18:56:04.614025Z",
     "start_time": "2020-03-20T18:56:04.572914Z"
    }
   },
   "outputs": [
    {
     "data": {
      "text/plain": [
       "founded_month      10957\n",
       "founded_quarter    10957\n",
       "founded_year       10957\n",
       "dtype: int64"
      ]
     },
     "execution_count": 51,
     "metadata": {},
     "output_type": "execute_result"
    }
   ],
   "source": [
    "df[['founded_month', 'founded_quarter', 'founded_year']].isnull().sum()"
   ]
  },
  {
   "cell_type": "code",
   "execution_count": 52,
   "metadata": {
    "ExecuteTime": {
     "end_time": "2020-03-20T18:56:05.102356Z",
     "start_time": "2020-03-20T18:56:05.053808Z"
    }
   },
   "outputs": [],
   "source": [
    "df.drop(['founded_month', 'founded_quarter', 'founded_year'], axis = 1, inplace = True)"
   ]
  },
  {
   "cell_type": "code",
   "execution_count": 53,
   "metadata": {
    "ExecuteTime": {
     "end_time": "2020-03-20T18:56:05.474513Z",
     "start_time": "2020-03-20T18:56:05.426795Z"
    }
   },
   "outputs": [],
   "source": [
    "df['datetime'] = pd.to_datetime(df.founded_at, errors='coerce')"
   ]
  },
  {
   "cell_type": "code",
   "execution_count": 54,
   "metadata": {
    "ExecuteTime": {
     "end_time": "2020-03-20T18:56:05.831324Z",
     "start_time": "2020-03-20T18:56:05.809763Z"
    }
   },
   "outputs": [],
   "source": [
    "df['year_founded'] = df['datetime'].dt.year"
   ]
  },
  {
   "cell_type": "code",
   "execution_count": 55,
   "metadata": {
    "ExecuteTime": {
     "end_time": "2020-03-20T18:56:06.230171Z",
     "start_time": "2020-03-20T18:56:06.217617Z"
    }
   },
   "outputs": [],
   "source": [
    "df['month_founded'] = df['datetime'].dt.month"
   ]
  },
  {
   "cell_type": "code",
   "execution_count": 56,
   "metadata": {
    "ExecuteTime": {
     "end_time": "2020-03-20T18:56:06.603898Z",
     "start_time": "2020-03-20T18:56:06.568362Z"
    }
   },
   "outputs": [],
   "source": [
    "df['first_funding_year'] = pd.to_datetime(df['first_funding_at'], errors='coerce').dt.year\n",
    "df['first_funding_month'] = pd.to_datetime(df['first_funding_at'], errors='coerce').dt.month"
   ]
  },
  {
   "cell_type": "code",
   "execution_count": 57,
   "metadata": {
    "ExecuteTime": {
     "end_time": "2020-03-20T18:56:07.336714Z",
     "start_time": "2020-03-20T18:56:06.887362Z"
    }
   },
   "outputs": [
    {
     "data": {
      "image/png": "[encoded data removed]",
      "text/plain": [
       "<Figure size 432x288 with 1 Axes>"
      ]
     },
     "metadata": {
      "needs_background": "light"
     },
     "output_type": "display_data"
    }
   ],
   "source": [
    "(pd.to_datetime(df['first_funding_at'], errors='coerce') - df['datetime']).dropna().dt.days.hist(bins = 100);"
   ]
  },
  {
   "cell_type": "code",
   "execution_count": 58,
   "metadata": {
    "ExecuteTime": {
     "end_time": "2020-03-20T18:56:07.767450Z",
     "start_time": "2020-03-20T18:56:07.732688Z"
    }
   },
   "outputs": [],
   "source": [
    "df['days_to_funded'] = (pd.to_datetime(df['first_funding_at'], errors='coerce') - df['datetime']).dt.days"
   ]
  },
  {
   "cell_type": "code",
   "execution_count": 59,
   "metadata": {
    "ExecuteTime": {
     "end_time": "2020-03-20T18:56:08.176984Z",
     "start_time": "2020-03-20T18:56:08.113421Z"
    }
   },
   "outputs": [],
   "source": [
    "df.drop(['founded_at', 'first_funding_at', 'last_funding_at', 'datetime'], axis = 1, inplace = True)"
   ]
  },
  {
   "cell_type": "code",
   "execution_count": 60,
   "metadata": {
    "ExecuteTime": {
     "end_time": "2020-03-20T18:56:08.571705Z",
     "start_time": "2020-03-20T18:56:08.535084Z"
    }
   },
   "outputs": [],
   "source": [
    "df['days_to_funded'] = df['days_to_funded'].apply(lambda x: np.nan if x<0 else x)"
   ]
  },
  {
   "cell_type": "markdown",
   "metadata": {},
   "source": [
    "# Data imputation"
   ]
  },
  {
   "cell_type": "code",
   "execution_count": 61,
   "metadata": {
    "ExecuteTime": {
     "end_time": "2020-03-20T18:56:10.096332Z",
     "start_time": "2020-03-20T18:56:10.057301Z"
    }
   },
   "outputs": [
    {
     "data": {
      "text/plain": [
       "days_to_funded         13631\n",
       "month_founded          10886\n",
       "year_founded           10886\n",
       "funding_total_usd       8532\n",
       "status                  1315\n",
       "first_funding_year        11\n",
       "first_funding_month       11\n",
       "convertible_note           1\n",
       "private_equity             1\n",
       "angel                      1\n",
       "debt_financing             1\n",
       "venture                    1\n",
       "undisclosed                1\n",
       "equity_crowdfunding        1\n",
       "post_ipo_debt              1\n",
       "seed                       1\n",
       "funding_rounds             1\n",
       "post_ipo_equity            1\n",
       "grant                      1\n",
       "secondary_market           1\n",
       "dtype: int64"
      ]
     },
     "execution_count": 61,
     "metadata": {},
     "output_type": "execute_result"
    }
   ],
   "source": [
    "df.isnull().sum().sort_values(ascending = False).head(20)"
   ]
  },
  {
   "cell_type": "markdown",
   "metadata": {},
   "source": [
    "We will need to reverse days_to_funded to penalise the nulls we will be imputing."
   ]
  },
  {
   "cell_type": "code",
   "execution_count": 62,
   "metadata": {
    "ExecuteTime": {
     "end_time": "2020-03-20T18:56:11.494781Z",
     "start_time": "2020-03-20T18:56:11.482867Z"
    }
   },
   "outputs": [],
   "source": [
    "df['days_to_funded'] = transform_data(df[['days_to_funded']], 'minmax', 'df')['days_to_funded'].fillna(1)"
   ]
  },
  {
   "cell_type": "code",
   "execution_count": 63,
   "metadata": {
    "ExecuteTime": {
     "end_time": "2020-03-20T18:56:11.892783Z",
     "start_time": "2020-03-20T18:56:11.886212Z"
    }
   },
   "outputs": [],
   "source": [
    "df['funding_total_usd'] = df['funding_total_usd'].fillna(0)"
   ]
  },
  {
   "cell_type": "code",
   "execution_count": 64,
   "metadata": {
    "ExecuteTime": {
     "end_time": "2020-03-20T18:56:13.306538Z",
     "start_time": "2020-03-20T18:56:12.225629Z"
    }
   },
   "outputs": [],
   "source": [
    "df.fillna(df.median(), inplace = True)"
   ]
  },
  {
   "cell_type": "code",
   "execution_count": 65,
   "metadata": {
    "ExecuteTime": {
     "end_time": "2020-03-20T18:56:13.711982Z",
     "start_time": "2020-03-20T18:56:13.662029Z"
    }
   },
   "outputs": [
    {
     "data": {
      "text/plain": [
       "healthcare           0\n",
       "hardware             0\n",
       "entertainment        0\n",
       "days_to_funded       0\n",
       "status            1315\n",
       "dtype: int64"
      ]
     },
     "execution_count": 65,
     "metadata": {},
     "output_type": "execute_result"
    }
   ],
   "source": [
    "df.isnull().sum().sort_values().tail()"
   ]
  },
  {
   "cell_type": "code",
   "execution_count": 66,
   "metadata": {
    "ExecuteTime": {
     "end_time": "2020-03-20T18:56:14.339163Z",
     "start_time": "2020-03-20T18:56:14.095974Z"
    }
   },
   "outputs": [],
   "source": [
    "df.drop_duplicates(inplace = True)\n",
    "df.dropna(inplace = True)"
   ]
  },
  {
   "cell_type": "markdown",
   "metadata": {},
   "source": [
    "Lets now dummify month_founded, year_founded, first_funding_year, first_funding_month."
   ]
  },
  {
   "cell_type": "code",
   "execution_count": 67,
   "metadata": {
    "ExecuteTime": {
     "end_time": "2020-03-20T18:56:15.007249Z",
     "start_time": "2020-03-20T18:56:14.719402Z"
    }
   },
   "outputs": [],
   "source": [
    "dates_cols = ['month_founded', 'year_founded', 'first_funding_year', 'first_funding_month']\n",
    "\n",
    "df = pd.concat([df.drop(dates_cols, axis = 1),\n",
    "                pd.get_dummies(df[dates_cols].astype(str))],\n",
    "                axis = 1, sort = True)"
   ]
  },
  {
   "cell_type": "markdown",
   "metadata": {},
   "source": [
    "# Modelling"
   ]
  },
  {
   "cell_type": "code",
   "execution_count": 68,
   "metadata": {
    "ExecuteTime": {
     "end_time": "2020-03-20T18:56:16.697996Z",
     "start_time": "2020-03-20T18:56:16.681403Z"
    }
   },
   "outputs": [
    {
     "data": {
      "text/plain": [
       "operating    41771\n",
       "acquired      3692\n",
       "closed        2603\n",
       "Name: status, dtype: int64"
      ]
     },
     "execution_count": 68,
     "metadata": {},
     "output_type": "execute_result"
    }
   ],
   "source": [
    "df['status'].value_counts()"
   ]
  },
  {
   "cell_type": "code",
   "execution_count": 69,
   "metadata": {
    "ExecuteTime": {
     "end_time": "2020-03-20T18:56:18.025501Z",
     "start_time": "2020-03-20T18:56:17.993479Z"
    }
   },
   "outputs": [
    {
     "name": "stdout",
     "output_type": "stream",
     "text": [
      "0.869\n"
     ]
    }
   ],
   "source": [
    "print(round(df.status.value_counts(normalize = True),3).max())"
   ]
  },
  {
   "cell_type": "code",
   "execution_count": 70,
   "metadata": {
    "ExecuteTime": {
     "end_time": "2020-03-20T18:56:19.378078Z",
     "start_time": "2020-03-20T18:56:19.282269Z"
    }
   },
   "outputs": [],
   "source": [
    "X = df.drop('status', axis = 1)\n",
    "        \n",
    "y = df[['status']]"
   ]
  },
  {
   "cell_type": "code",
   "execution_count": 71,
   "metadata": {
    "ExecuteTime": {
     "end_time": "2020-03-20T18:56:20.489996Z",
     "start_time": "2020-03-20T18:56:19.855271Z"
    }
   },
   "outputs": [],
   "source": [
    "scaler = StandardScaler()\n",
    "Xs = pd.DataFrame(scaler.fit_transform(X), columns = X.columns)"
   ]
  },
  {
   "cell_type": "code",
   "execution_count": 72,
   "metadata": {
    "ExecuteTime": {
     "end_time": "2020-03-20T18:56:22.321343Z",
     "start_time": "2020-03-20T18:56:22.274217Z"
    }
   },
   "outputs": [],
   "source": [
    "y = y.replace({'closed':0,\n",
    "               'operating':1,\n",
    "               'acquired': 2})"
   ]
  },
  {
   "cell_type": "markdown",
   "metadata": {},
   "source": [
    "# Model 1 - undersampling"
   ]
  },
  {
   "cell_type": "code",
   "execution_count": 108,
   "metadata": {
    "ExecuteTime": {
     "end_time": "2020-03-20T19:53:06.071704Z",
     "start_time": "2020-03-20T19:53:05.592928Z"
    }
   },
   "outputs": [],
   "source": [
    "X_train, X_test, y_train, y_test = train_test_split(Xs, y,\n",
    "                                                    test_size = 0.1,\n",
    "                                                    random_state = 1,\n",
    "                                                    stratify = y,\n",
    "                                                    shuffle = True)"
   ]
  },
  {
   "cell_type": "code",
   "execution_count": 109,
   "metadata": {
    "ExecuteTime": {
     "end_time": "2020-03-20T19:53:07.264331Z",
     "start_time": "2020-03-20T19:53:07.172650Z"
    }
   },
   "outputs": [],
   "source": [
    "rus = RandomUnderSampler(replacement = True)\n",
    "X_train_u, y_train_u = rus.fit_resample(X_train, y_train)\n",
    "X_train_u = pd.DataFrame(X_train_u, columns = Xs.columns)"
   ]
  },
  {
   "cell_type": "code",
   "execution_count": 90,
   "metadata": {
    "ExecuteTime": {
     "end_time": "2020-03-20T19:02:07.177706Z",
     "start_time": "2020-03-20T19:02:07.168769Z"
    }
   },
   "outputs": [
    {
     "data": {
      "text/plain": [
       "2603"
      ]
     },
     "execution_count": 90,
     "metadata": {},
     "output_type": "execute_result"
    }
   ],
   "source": [
    "pd.DataFrame(y_train_u)[0].value_counts().max()"
   ]
  },
  {
   "cell_type": "code",
   "execution_count": 91,
   "metadata": {
    "ExecuteTime": {
     "end_time": "2020-03-20T19:02:07.930192Z",
     "start_time": "2020-03-20T19:02:07.918986Z"
    }
   },
   "outputs": [
    {
     "data": {
      "text/plain": [
       "0.333"
      ]
     },
     "execution_count": 91,
     "metadata": {},
     "output_type": "execute_result"
    }
   ],
   "source": [
    "round(pd.DataFrame(y_train_u)[0].value_counts(normalize = True).max(),3)"
   ]
  },
  {
   "cell_type": "markdown",
   "metadata": {
    "ExecuteTime": {
     "end_time": "2020-03-18T18:54:21.212948Z",
     "start_time": "2020-03-18T18:54:21.206497Z"
    }
   },
   "source": [
    "#### Logistic Regression"
   ]
  },
  {
   "cell_type": "code",
   "execution_count": 111,
   "metadata": {
    "ExecuteTime": {
     "end_time": "2020-03-20T20:12:03.567041Z",
     "start_time": "2020-03-20T19:53:31.058440Z"
    }
   },
   "outputs": [],
   "source": [
    "param_grid_lr = {\n",
    "    \n",
    "    'C': np.logspace(-4,4,10),\n",
    "    'penalty': ['l1', 'l2'],\n",
    "    \n",
    "}\n",
    "\n",
    "grid_lr = GridSearchCV(LogisticRegression(random_state = 1, max_iter = 500, solver = 'saga'),\n",
    "                       param_grid_lr,\n",
    "                       cv = 5,\n",
    "                       n_jobs = 2).fit(X_train_u, y_train_u)"
   ]
  },
  {
   "cell_type": "code",
   "execution_count": 112,
   "metadata": {
    "ExecuteTime": {
     "end_time": "2020-03-20T20:12:04.353199Z",
     "start_time": "2020-03-20T20:12:04.311433Z"
    }
   },
   "outputs": [
    {
     "data": {
      "text/plain": [
       "0.6211426372992209"
      ]
     },
     "execution_count": 112,
     "metadata": {},
     "output_type": "execute_result"
    }
   ],
   "source": [
    "grid_lr.best_score_"
   ]
  },
  {
   "cell_type": "code",
   "execution_count": 118,
   "metadata": {
    "ExecuteTime": {
     "end_time": "2020-03-20T20:19:14.041154Z",
     "start_time": "2020-03-20T20:19:14.035239Z"
    }
   },
   "outputs": [
    {
     "name": "stdout",
     "output_type": "stream",
     "text": [
      "{'C': 0.046415888336127774, 'penalty': 'l2'}\n"
     ]
    }
   ],
   "source": [
    "print(grid_lr.best_params_)"
   ]
  },
  {
   "cell_type": "code",
   "execution_count": 114,
   "metadata": {
    "ExecuteTime": {
     "end_time": "2020-03-20T20:15:34.603562Z",
     "start_time": "2020-03-20T20:12:05.376200Z"
    }
   },
   "outputs": [],
   "source": [
    "logreg = LogisticRegression(random_state = 1,\n",
    "                   max_iter = 500,\n",
    "                   C = grid_lr.best_params_['C'],\n",
    "                   penalty = grid_lr.best_params_['penalty'],\n",
    "                   solver = 'saga').fit(X_train, y_train)"
   ]
  },
  {
   "cell_type": "code",
   "execution_count": 115,
   "metadata": {
    "ExecuteTime": {
     "end_time": "2020-03-20T20:15:44.636338Z",
     "start_time": "2020-03-20T20:15:44.624757Z"
    }
   },
   "outputs": [],
   "source": [
    "coefs = pd.DataFrame({'coefs_closed':logreg.coef_[0],\n",
    "                      'coefs_open':logreg.coef_[1],\n",
    "                      'coefs_acquired':logreg.coef_[2],\n",
    "                      'feature':X_train.columns})"
   ]
  },
  {
   "cell_type": "code",
   "execution_count": 116,
   "metadata": {
    "ExecuteTime": {
     "end_time": "2020-03-20T20:15:46.450199Z",
     "start_time": "2020-03-20T20:15:45.730940Z"
    }
   },
   "outputs": [
    {
     "data": {
      "image/png": "[encoded data removed]",
      "text/plain": [
       "<Figure size 720x864 with 3 Axes>"
      ]
     },
     "metadata": {
      "needs_background": "light"
     },
     "output_type": "display_data"
    }
   ],
   "source": [
    "fig, ax = plt.subplots(nrows = 3, figsize = (10,12))\n",
    "\n",
    "for i, v in enumerate(['coefs_closed', 'coefs_open', 'coefs_acquired']):\n",
    "    coefs_to_plot = coefs[abs(coefs[v])>0.1].sort_values(v)\n",
    "    coefs_to_plot.sort_values(v)[v].plot(kind = 'barh', ax = ax[i]);\n",
    "    plt.sca(ax[i])\n",
    "    plt.yticks(np.arange(len(coefs_to_plot['feature'].values)),\n",
    "               (coefs_to_plot['feature'].values));\n",
    "    plt.title(v)\n"
   ]
  },
  {
   "cell_type": "code",
   "execution_count": 119,
   "metadata": {
    "ExecuteTime": {
     "end_time": "2020-03-20T20:22:14.524708Z",
     "start_time": "2020-03-20T20:20:03.222521Z"
    }
   },
   "outputs": [
    {
     "name": "stdout",
     "output_type": "stream",
     "text": [
      "0.6211426372992209\n",
      "[0.6116643  0.6230441  0.63086771 0.60739687 0.63274021]\n",
      "0.8668608279592261\n"
     ]
    }
   ],
   "source": [
    "cross_val_scores = cross_val_score(logreg, X_train_u, y_train_u, cv = 5)\n",
    "print(cross_val_scores.mean())\n",
    "print(cross_val_scores)\n",
    "print(logreg.score(X_test, y_test))"
   ]
  },
  {
   "cell_type": "code",
   "execution_count": 120,
   "metadata": {
    "ExecuteTime": {
     "end_time": "2020-03-20T20:22:30.035162Z",
     "start_time": "2020-03-20T20:22:30.027352Z"
    }
   },
   "outputs": [],
   "source": [
    "def plot_confusion(cm):\n",
    "    plt.figure(figsize=(6,6))\n",
    "    ax = sns.heatmap(cm, annot=True, fmt=\".0f\", linewidths=.5, square = True,  cmap = 'coolwarm')\n",
    "    bottom, top = ax.get_ylim()\n",
    "    ax.set_ylim(bottom + 0.5, top - 0.5)\n",
    "    plt.ylabel('Actual label');\n",
    "    plt.xlabel('Predicted label');\n",
    "    plt.xticks([i-0.5 for i in range(1,4)], ['closed', 'open', 'acquired'])\n",
    "    plt.yticks([i-0.5 for i in range(1,4)], ['closed', 'open', 'acquired'])"
   ]
  },
  {
   "cell_type": "code",
   "execution_count": 121,
   "metadata": {
    "ExecuteTime": {
     "end_time": "2020-03-20T20:22:33.274844Z",
     "start_time": "2020-03-20T20:22:33.250203Z"
    }
   },
   "outputs": [],
   "source": [
    "preds = logreg.predict(X_test)\n",
    "cm_lr = confusion_matrix(y_test, preds)"
   ]
  },
  {
   "cell_type": "code",
   "execution_count": 122,
   "metadata": {
    "ExecuteTime": {
     "end_time": "2020-03-20T20:22:34.428783Z",
     "start_time": "2020-03-20T20:22:34.220046Z"
    }
   },
   "outputs": [
    {
     "data": {
      "image/png": "[encoded data removed]",
      "text/plain": [
       "<Figure size 432x432 with 2 Axes>"
      ]
     },
     "metadata": {
      "needs_background": "light"
     },
     "output_type": "display_data"
    }
   ],
   "source": [
    "plot_confusion(cm_lr)"
   ]
  },
  {
   "cell_type": "markdown",
   "metadata": {},
   "source": [
    "#### Random Forest "
   ]
  },
  {
   "cell_type": "code",
   "execution_count": 123,
   "metadata": {
    "ExecuteTime": {
     "end_time": "2020-03-20T20:23:42.368249Z",
     "start_time": "2020-03-20T20:23:42.364351Z"
    }
   },
   "outputs": [],
   "source": [
    "param_grid = {\n",
    "    \n",
    "    'n_estimators':[150,300,400,500,600,700],\n",
    "    'max_depth':[5,7,10,15,20,25,None],\n",
    "    \n",
    "}"
   ]
  },
  {
   "cell_type": "code",
   "execution_count": 124,
   "metadata": {
    "ExecuteTime": {
     "end_time": "2020-03-20T20:33:50.657274Z",
     "start_time": "2020-03-20T20:23:43.271824Z"
    }
   },
   "outputs": [],
   "source": [
    "grid = GridSearchCV(RandomForestClassifier(random_state = 1),\n",
    "                    param_grid,\n",
    "                    cv = 5,\n",
    "                    n_jobs = 2).fit(X_train_u, y_train_u)"
   ]
  },
  {
   "cell_type": "code",
   "execution_count": 107,
   "metadata": {
    "ExecuteTime": {
     "end_time": "2020-03-18T17:54:18.288548Z",
     "start_time": "2020-03-18T17:54:18.282583Z"
    }
   },
   "outputs": [
    {
     "data": {
      "text/plain": [
       "0.6718396156925541"
      ]
     },
     "execution_count": 107,
     "metadata": {},
     "output_type": "execute_result"
    }
   ],
   "source": [
    "grid.best_score_"
   ]
  },
  {
   "cell_type": "code",
   "execution_count": 108,
   "metadata": {
    "ExecuteTime": {
     "end_time": "2020-03-18T18:00:00.010403Z",
     "start_time": "2020-03-18T18:00:00.004352Z"
    }
   },
   "outputs": [
    {
     "data": {
      "text/plain": [
       "{'max_depth': None, 'n_estimators': 600}"
      ]
     },
     "execution_count": 108,
     "metadata": {},
     "output_type": "execute_result"
    }
   ],
   "source": [
    "print(grid.best_params_)"
   ]
  },
  {
   "cell_type": "code",
   "execution_count": 97,
   "metadata": {
    "ExecuteTime": {
     "end_time": "2020-03-20T19:03:49.947327Z",
     "start_time": "2020-03-20T19:03:40.575562Z"
    }
   },
   "outputs": [],
   "source": [
    "clf = RandomForestClassifier(random_state = 1, max_depth =  None, n_estimators = 600).fit(X_train_u, y_train_u)"
   ]
  },
  {
   "cell_type": "code",
   "execution_count": 98,
   "metadata": {
    "ExecuteTime": {
     "end_time": "2020-03-20T19:03:51.011244Z",
     "start_time": "2020-03-20T19:03:50.910342Z"
    }
   },
   "outputs": [],
   "source": [
    "imps = pd.DataFrame({'importance':clf.feature_importances_,\n",
    "                     'feature':X_train.columns})"
   ]
  },
  {
   "cell_type": "code",
   "execution_count": 99,
   "metadata": {
    "ExecuteTime": {
     "end_time": "2020-03-20T19:03:52.326106Z",
     "start_time": "2020-03-20T19:03:52.312628Z"
    }
   },
   "outputs": [
    {
     "data": {
      "text/html": [
       "<div>\n",
       "<style scoped>\n",
       "    .dataframe tbody tr th:only-of-type {\n",
       "        vertical-align: middle;\n",
       "    }\n",
       "\n",
       "    .dataframe tbody tr th {\n",
       "        vertical-align: top;\n",
       "    }\n",
       "\n",
       "    .dataframe thead th {\n",
       "        text-align: right;\n",
       "    }\n",
       "</style>\n",
       "<table border=\"1\" class=\"dataframe\">\n",
       "  <thead>\n",
       "    <tr style=\"text-align: right;\">\n",
       "      <th></th>\n",
       "      <th>importance</th>\n",
       "      <th>feature</th>\n",
       "    </tr>\n",
       "  </thead>\n",
       "  <tbody>\n",
       "    <tr>\n",
       "      <th>104</th>\n",
       "      <td>0.016258</td>\n",
       "      <td>sticky_letter_count</td>\n",
       "    </tr>\n",
       "    <tr>\n",
       "      <th>82</th>\n",
       "      <td>0.023376</td>\n",
       "      <td>seed</td>\n",
       "    </tr>\n",
       "    <tr>\n",
       "      <th>81</th>\n",
       "      <td>0.025782</td>\n",
       "      <td>funding_rounds</td>\n",
       "    </tr>\n",
       "    <tr>\n",
       "      <th>300</th>\n",
       "      <td>0.027640</td>\n",
       "      <td>first_funding_year_2013.0</td>\n",
       "    </tr>\n",
       "    <tr>\n",
       "      <th>105</th>\n",
       "      <td>0.037571</td>\n",
       "      <td>syllable_count</td>\n",
       "    </tr>\n",
       "    <tr>\n",
       "      <th>301</th>\n",
       "      <td>0.039736</td>\n",
       "      <td>first_funding_year_2014.0</td>\n",
       "    </tr>\n",
       "    <tr>\n",
       "      <th>103</th>\n",
       "      <td>0.050902</td>\n",
       "      <td>name_len</td>\n",
       "    </tr>\n",
       "    <tr>\n",
       "      <th>83</th>\n",
       "      <td>0.053242</td>\n",
       "      <td>venture</td>\n",
       "    </tr>\n",
       "    <tr>\n",
       "      <th>106</th>\n",
       "      <td>0.053572</td>\n",
       "      <td>days_to_funded</td>\n",
       "    </tr>\n",
       "    <tr>\n",
       "      <th>80</th>\n",
       "      <td>0.074768</td>\n",
       "      <td>funding_total_usd</td>\n",
       "    </tr>\n",
       "  </tbody>\n",
       "</table>\n",
       "</div>"
      ],
      "text/plain": [
       "     importance                    feature\n",
       "104    0.016258        sticky_letter_count\n",
       "82     0.023376                       seed\n",
       "81     0.025782             funding_rounds\n",
       "300    0.027640  first_funding_year_2013.0\n",
       "105    0.037571             syllable_count\n",
       "301    0.039736  first_funding_year_2014.0\n",
       "103    0.050902                   name_len\n",
       "83     0.053242                    venture\n",
       "106    0.053572             days_to_funded\n",
       "80     0.074768          funding_total_usd"
      ]
     },
     "execution_count": 99,
     "metadata": {},
     "output_type": "execute_result"
    }
   ],
   "source": [
    "imps.sort_values(by = 'importance').tail(10)"
   ]
  },
  {
   "cell_type": "code",
   "execution_count": 101,
   "metadata": {
    "ExecuteTime": {
     "end_time": "2020-03-20T19:04:49.524670Z",
     "start_time": "2020-03-20T19:04:11.351459Z"
    }
   },
   "outputs": [
    {
     "name": "stdout",
     "output_type": "stream",
     "text": [
      "0.6868381104883907\n",
      "[0.696      0.68054444 0.70216173 0.6797438  0.67574059]\n"
     ]
    }
   ],
   "source": [
    "cross_val_scores = cross_val_score(clf, X_train_u, y_train_u, cv = 5)\n",
    "print(cross_val_scores.mean())\n",
    "print(cross_val_scores)"
   ]
  },
  {
   "cell_type": "code",
   "execution_count": 105,
   "metadata": {
    "ExecuteTime": {
     "end_time": "2020-03-20T19:06:37.688177Z",
     "start_time": "2020-03-20T19:06:35.771910Z"
    }
   },
   "outputs": [
    {
     "data": {
      "image/png": "[encoded data removed]",
      "text/plain": [
       "<Figure size 432x432 with 2 Axes>"
      ]
     },
     "metadata": {
      "needs_background": "light"
     },
     "output_type": "display_data"
    }
   ],
   "source": [
    "preds = clf.predict(X_test)\n",
    "cm_rf = confusion_matrix(y_test, preds)\n",
    "plot_confusion(cm_rf)"
   ]
  },
  {
   "cell_type": "code",
   "execution_count": 106,
   "metadata": {
    "ExecuteTime": {
     "end_time": "2020-03-20T19:06:41.470448Z",
     "start_time": "2020-03-20T19:06:39.499430Z"
    }
   },
   "outputs": [
    {
     "data": {
      "text/plain": [
       "0.5931974204285417"
      ]
     },
     "execution_count": 106,
     "metadata": {},
     "output_type": "execute_result"
    }
   ],
   "source": [
    "clf.score(X_test, y_test)"
   ]
  },
  {
   "cell_type": "markdown",
   "metadata": {},
   "source": [
    "#### Analysis"
   ]
  },
  {
   "cell_type": "markdown",
   "metadata": {},
   "source": [
    "Our models aren't particularly good. We score 69% on testing at best and 67% in cross validated training.\n",
    "\n",
    "They both over predict closed and underpredict open.\n",
    "\n",
    "Our strongest coefficient per class tends to be the year founded and the year of first funding.\n",
    "\n",
    "Many of our newly constructed features were considered important by the random forest. The name can be a predictor of success it seems!"
   ]
  },
  {
   "cell_type": "markdown",
   "metadata": {},
   "source": [
    "# Model 2 - SMOTE"
   ]
  },
  {
   "cell_type": "code",
   "execution_count": 74,
   "metadata": {
    "ExecuteTime": {
     "end_time": "2020-03-20T18:57:07.967722Z",
     "start_time": "2020-03-20T18:57:07.952686Z"
    }
   },
   "outputs": [],
   "source": [
    "from imblearn.over_sampling import SMOTE"
   ]
  },
  {
   "cell_type": "code",
   "execution_count": 75,
   "metadata": {
    "ExecuteTime": {
     "end_time": "2020-03-20T18:57:09.071452Z",
     "start_time": "2020-03-20T18:57:08.685899Z"
    }
   },
   "outputs": [],
   "source": [
    "X_train, X_test, y_train, y_test = train_test_split(Xs, y,\n",
    "                                                    test_size = 0.2,\n",
    "                                                    random_state = 1,\n",
    "                                                    stratify = y,\n",
    "                                                    shuffle = True)"
   ]
  },
  {
   "cell_type": "code",
   "execution_count": 77,
   "metadata": {
    "ExecuteTime": {
     "end_time": "2020-03-20T18:57:50.052422Z",
     "start_time": "2020-03-20T18:57:50.049071Z"
    }
   },
   "outputs": [],
   "source": [
    "sm = SMOTE(random_state=0)"
   ]
  },
  {
   "cell_type": "code",
   "execution_count": 78,
   "metadata": {
    "ExecuteTime": {
     "end_time": "2020-03-20T18:57:57.911000Z",
     "start_time": "2020-03-20T18:57:50.665173Z"
    }
   },
   "outputs": [],
   "source": [
    "X_train_s, y_train_s = sm.fit_resample(X_train, y_train)"
   ]
  },
  {
   "cell_type": "code",
   "execution_count": 81,
   "metadata": {
    "ExecuteTime": {
     "end_time": "2020-03-20T18:58:20.867490Z",
     "start_time": "2020-03-20T18:58:20.858307Z"
    }
   },
   "outputs": [
    {
     "data": {
      "text/plain": [
       "2    33416\n",
       "1    33416\n",
       "0    33416\n",
       "Name: 0, dtype: int64"
      ]
     },
     "execution_count": 81,
     "metadata": {},
     "output_type": "execute_result"
    }
   ],
   "source": [
    "pd.DataFrame(y_train_s)[0].value_counts()"
   ]
  },
  {
   "cell_type": "code",
   "execution_count": 205,
   "metadata": {
    "ExecuteTime": {
     "end_time": "2020-03-18T21:31:07.298438Z",
     "start_time": "2020-03-18T21:31:07.293339Z"
    }
   },
   "outputs": [
    {
     "data": {
      "text/plain": [
       "(100248, 314)"
      ]
     },
     "execution_count": 205,
     "metadata": {},
     "output_type": "execute_result"
    }
   ],
   "source": [
    "X_train_s.shape"
   ]
  },
  {
   "cell_type": "code",
   "execution_count": 207,
   "metadata": {
    "ExecuteTime": {
     "end_time": "2020-03-18T22:56:16.680262Z",
     "start_time": "2020-03-18T21:33:06.988319Z"
    }
   },
   "outputs": [],
   "source": [
    "param_grid = {\n",
    "    \n",
    "    'n_estimators':[150,300,450,600],\n",
    "    'max_depth':[10,15,25,None],\n",
    "    \n",
    "}\n",
    "\n",
    "grid = GridSearchCV(RandomForestClassifier(random_state = 1),\n",
    "                    param_grid,\n",
    "                    cv = 5,\n",
    "                    n_jobs = 2).fit(X_train_s, y_train_s)"
   ]
  },
  {
   "cell_type": "code",
   "execution_count": 208,
   "metadata": {
    "ExecuteTime": {
     "end_time": "2020-03-18T22:58:50.809642Z",
     "start_time": "2020-03-18T22:58:50.803854Z"
    }
   },
   "outputs": [
    {
     "name": "stdout",
     "output_type": "stream",
     "text": [
      "0.9444285371164834\n",
      "{'max_depth': None, 'n_estimators': 600}\n"
     ]
    }
   ],
   "source": [
    "print(grid.best_score_)\n",
    "\n",
    "print(grid.best_params_)"
   ]
  },
  {
   "cell_type": "code",
   "execution_count": 209,
   "metadata": {
    "ExecuteTime": {
     "end_time": "2020-03-18T23:04:30.518468Z",
     "start_time": "2020-03-18T22:59:55.593127Z"
    }
   },
   "outputs": [
    {
     "name": "stdout",
     "output_type": "stream",
     "text": [
      "0.8646765134179322\n"
     ]
    }
   ],
   "source": [
    "final_rf = RandomForestClassifier(random_state = 1, n_estimators = 600).fit(X_train_s, y_train_s)\n",
    "print(final_rf.score(X_test, y_test))"
   ]
  },
  {
   "cell_type": "code",
   "execution_count": 210,
   "metadata": {
    "ExecuteTime": {
     "end_time": "2020-03-18T23:08:40.803568Z",
     "start_time": "2020-03-18T23:08:38.288921Z"
    }
   },
   "outputs": [
    {
     "data": {
      "image/png": "[encoded data removed]",
      "text/plain": [
       "<Figure size 432x432 with 2 Axes>"
      ]
     },
     "metadata": {
      "needs_background": "light"
     },
     "output_type": "display_data"
    }
   ],
   "source": [
    "preds = final_rf.predict(X_test)\n",
    "cm_rf = confusion_matrix(y_test, preds)\n",
    "plot_confusion(cm_rf)"
   ]
  },
  {
   "cell_type": "code",
   "execution_count": 218,
   "metadata": {
    "ExecuteTime": {
     "end_time": "2020-03-19T09:25:41.327845Z",
     "start_time": "2020-03-19T09:25:41.317276Z"
    }
   },
   "outputs": [
    {
     "name": "stdout",
     "output_type": "stream",
     "text": [
      "But our baseline is 0.869.\n"
     ]
    }
   ],
   "source": [
    "print('But our baseline is {}.'.format(round(y_test['status'].value_counts(normalize = True).max(),3)))"
   ]
  },
  {
   "cell_type": "markdown",
   "metadata": {},
   "source": [
    "# Changing the challenge"
   ]
  },
  {
   "cell_type": "markdown",
   "metadata": {},
   "source": [
    "The majority of the companies we've been dealing with have been still operating. Let's strip these away and just try to predict whether they close or get acquired."
   ]
  },
  {
   "cell_type": "code",
   "execution_count": 131,
   "metadata": {
    "ExecuteTime": {
     "end_time": "2020-03-21T12:29:03.883843Z",
     "start_time": "2020-03-21T12:29:03.864231Z"
    }
   },
   "outputs": [],
   "source": [
    "df_new = df[(df['status']=='acquired')|(df['status']=='closed')]"
   ]
  },
  {
   "cell_type": "code",
   "execution_count": 137,
   "metadata": {
    "ExecuteTime": {
     "end_time": "2020-03-21T12:31:10.941471Z",
     "start_time": "2020-03-21T12:31:10.927096Z"
    }
   },
   "outputs": [],
   "source": [
    "X = df_new.drop('status', axis = 1)\n",
    "        \n",
    "y = df_new[['status']]"
   ]
  },
  {
   "cell_type": "code",
   "execution_count": 138,
   "metadata": {
    "ExecuteTime": {
     "end_time": "2020-03-21T12:31:12.374576Z",
     "start_time": "2020-03-21T12:31:12.300248Z"
    }
   },
   "outputs": [],
   "source": [
    "scaler = StandardScaler()\n",
    "Xs = pd.DataFrame(scaler.fit_transform(X), columns = X.columns)"
   ]
  },
  {
   "cell_type": "code",
   "execution_count": 139,
   "metadata": {
    "ExecuteTime": {
     "end_time": "2020-03-21T12:31:13.677157Z",
     "start_time": "2020-03-21T12:31:13.669330Z"
    }
   },
   "outputs": [],
   "source": [
    "y = y.replace({'closed':0,\n",
    "               'acquired': 1})"
   ]
  },
  {
   "cell_type": "code",
   "execution_count": 173,
   "metadata": {
    "ExecuteTime": {
     "end_time": "2020-03-21T13:49:51.976059Z",
     "start_time": "2020-03-21T13:49:51.957626Z"
    }
   },
   "outputs": [
    {
     "data": {
      "text/plain": [
       "status    0.586497\n",
       "dtype: float64"
      ]
     },
     "execution_count": 173,
     "metadata": {},
     "output_type": "execute_result"
    }
   ],
   "source": [
    "y.mean()"
   ]
  },
  {
   "cell_type": "code",
   "execution_count": 140,
   "metadata": {
    "ExecuteTime": {
     "end_time": "2020-03-21T12:31:18.160405Z",
     "start_time": "2020-03-21T12:31:18.098206Z"
    }
   },
   "outputs": [],
   "source": [
    "X_train, X_test, y_train, y_test = train_test_split(Xs, y,\n",
    "                                                    test_size = 0.2,\n",
    "                                                    random_state = 1,\n",
    "                                                    stratify = y,\n",
    "                                                    shuffle = True)"
   ]
  },
  {
   "cell_type": "code",
   "execution_count": 166,
   "metadata": {
    "ExecuteTime": {
     "end_time": "2020-03-21T13:48:50.675451Z",
     "start_time": "2020-03-21T12:58:05.494637Z"
    }
   },
   "outputs": [],
   "source": [
    "param_grid = {\n",
    "    \n",
    "    'n_estimators':[150,225,300,375,450,600],\n",
    "    'max_depth':[5,7,10,12,15,25,None],\n",
    "    'min_samples_leaf': [1,2,5],\n",
    "    'ccp_alpha': [0.0001, 0.015, 0.02, 0.03]\n",
    "    \n",
    "}\n",
    "\n",
    "grid = GridSearchCV(RandomForestClassifier(random_state = 1),\n",
    "                    param_grid,\n",
    "                    cv = 5,\n",
    "                    n_jobs = 2).fit(X_train, y_train)"
   ]
  },
  {
   "cell_type": "code",
   "execution_count": 167,
   "metadata": {
    "ExecuteTime": {
     "end_time": "2020-03-21T13:49:10.875123Z",
     "start_time": "2020-03-21T13:49:10.870614Z"
    }
   },
   "outputs": [
    {
     "name": "stdout",
     "output_type": "stream",
     "text": [
      "0.7374899512933276\n",
      "{'ccp_alpha': 0.0001, 'max_depth': 25, 'min_samples_leaf': 1, 'n_estimators': 225}\n"
     ]
    }
   ],
   "source": [
    "print(grid.best_score_)\n",
    "\n",
    "print(grid.best_params_)"
   ]
  },
  {
   "cell_type": "code",
   "execution_count": 168,
   "metadata": {
    "ExecuteTime": {
     "end_time": "2020-03-21T13:49:19.876603Z",
     "start_time": "2020-03-21T13:49:16.210274Z"
    }
   },
   "outputs": [
    {
     "name": "stdout",
     "output_type": "stream",
     "text": [
      "0.7458300238284352\n"
     ]
    }
   ],
   "source": [
    "rf_new = RandomForestClassifier(random_state = 1,\n",
    "                                n_estimators = 300,\n",
    "                                max_depth = 25\n",
    "                               ).fit(X_train, y_train)\n",
    "\n",
    "print(rf_new.score(X_test, y_test))"
   ]
  },
  {
   "cell_type": "code",
   "execution_count": 169,
   "metadata": {
    "ExecuteTime": {
     "end_time": "2020-03-21T13:49:24.731671Z",
     "start_time": "2020-03-21T13:49:24.723281Z"
    }
   },
   "outputs": [],
   "source": [
    "def plot_confusion(cm):\n",
    "    plt.figure(figsize=(6,6))\n",
    "    ax = sns.heatmap(cm, annot=True, fmt=\".0f\", linewidths=.5, square = True,  cmap = 'coolwarm')\n",
    "    bottom, top = ax.get_ylim()\n",
    "    ax.set_ylim(bottom + 0.5, top - 0.5)\n",
    "    plt.ylabel('Actual label');\n",
    "    plt.xlabel('Predicted label');\n",
    "    plt.xticks([i-0.5 for i in range(1,3)], ['closed', 'acquired'])\n",
    "    plt.yticks([i-0.5 for i in range(1,3)], ['closed', 'acquired'])"
   ]
  },
  {
   "cell_type": "code",
   "execution_count": 170,
   "metadata": {
    "ExecuteTime": {
     "end_time": "2020-03-21T13:49:26.492025Z",
     "start_time": "2020-03-21T13:49:26.182643Z"
    }
   },
   "outputs": [
    {
     "data": {
      "image/png": "[encoded data removed]",
      "text/plain": [
       "<Figure size 432x432 with 2 Axes>"
      ]
     },
     "metadata": {
      "needs_background": "light"
     },
     "output_type": "display_data"
    }
   ],
   "source": [
    "preds = rf_new.predict(X_test)\n",
    "cm_rf = confusion_matrix(y_test, preds)\n",
    "plot_confusion(cm_rf)"
   ]
  },
  {
   "cell_type": "code",
   "execution_count": 171,
   "metadata": {
    "ExecuteTime": {
     "end_time": "2020-03-21T13:49:38.727874Z",
     "start_time": "2020-03-21T13:49:38.685651Z"
    }
   },
   "outputs": [],
   "source": [
    "imps_new = pd.DataFrame({'importance':rf_new.feature_importances_,\n",
    "                     'feature':X_train.columns})"
   ]
  },
  {
   "cell_type": "code",
   "execution_count": 172,
   "metadata": {
    "ExecuteTime": {
     "end_time": "2020-03-21T13:49:40.595215Z",
     "start_time": "2020-03-21T13:49:40.255142Z"
    }
   },
   "outputs": [
    {
     "data": {
      "image/png": "[encoded data removed]",
      "text/plain": [
       "<Figure size 432x288 with 1 Axes>"
      ]
     },
     "metadata": {
      "needs_background": "light"
     },
     "output_type": "display_data"
    }
   ],
   "source": [
    "imps_to_plot = imps_new[imps_new['importance']>0.01].sort_values(by = 'importance')\n",
    "\n",
    "sns.barplot(x = imps_to_plot['importance'],\n",
    "            y = imps_to_plot['feature']);"
   ]
  },
  {
   "cell_type": "markdown",
   "metadata": {},
   "source": [
    "Now we see quite different coefficients. Lets check logistic regression."
   ]
  },
  {
   "cell_type": "code",
   "execution_count": 174,
   "metadata": {
    "ExecuteTime": {
     "end_time": "2020-03-21T15:09:49.070737Z",
     "start_time": "2020-03-21T14:57:09.843262Z"
    }
   },
   "outputs": [],
   "source": [
    "param_grid_lr = {\n",
    "    \n",
    "    'C': np.logspace(-4,4,25),\n",
    "    'penalty': ['l1', 'l2'],\n",
    "    \n",
    "}\n",
    "\n",
    "grid_lr_new = GridSearchCV(LogisticRegression(random_state = 1, max_iter = 500, solver = 'saga'),\n",
    "                       param_grid_lr,\n",
    "                       cv = 5,\n",
    "                       n_jobs = 2).fit(X_train, y_train)"
   ]
  },
  {
   "cell_type": "code",
   "execution_count": 175,
   "metadata": {
    "ExecuteTime": {
     "end_time": "2020-03-21T15:38:25.123240Z",
     "start_time": "2020-03-21T15:38:25.118715Z"
    }
   },
   "outputs": [
    {
     "name": "stdout",
     "output_type": "stream",
     "text": [
      "0.714060110969247\n",
      "{'C': 0.046415888336127774, 'penalty': 'l1'}\n"
     ]
    }
   ],
   "source": [
    "print(grid_lr_new.best_score_)\n",
    "\n",
    "print(grid_lr_new.best_params_)"
   ]
  },
  {
   "cell_type": "code",
   "execution_count": 176,
   "metadata": {
    "ExecuteTime": {
     "end_time": "2020-03-21T15:58:01.185287Z",
     "start_time": "2020-03-21T15:57:53.932985Z"
    }
   },
   "outputs": [],
   "source": [
    "logreg_new = LogisticRegression(random_state = 1,\n",
    "                   max_iter = 500,\n",
    "                   C = grid_lr_new.best_params_['C'],\n",
    "                   penalty = grid_lr_new.best_params_['penalty'],\n",
    "                   solver = 'saga').fit(X_train, y_train)"
   ]
  },
  {
   "cell_type": "code",
   "execution_count": 185,
   "metadata": {
    "ExecuteTime": {
     "end_time": "2020-03-21T15:59:32.124841Z",
     "start_time": "2020-03-21T15:59:32.109709Z"
    }
   },
   "outputs": [],
   "source": [
    "coefs_new = pd.DataFrame({'coef': logreg_new.coef_[0],\n",
    "                          'abs_coef': abs(logreg_new.coef_[0]),\n",
    "                          'feature': X_train.columns})"
   ]
  },
  {
   "cell_type": "code",
   "execution_count": 187,
   "metadata": {
    "ExecuteTime": {
     "end_time": "2020-03-21T16:00:04.880267Z",
     "start_time": "2020-03-21T16:00:04.869003Z"
    }
   },
   "outputs": [
    {
     "data": {
      "text/html": [
       "<div>\n",
       "<style scoped>\n",
       "    .dataframe tbody tr th:only-of-type {\n",
       "        vertical-align: middle;\n",
       "    }\n",
       "\n",
       "    .dataframe tbody tr th {\n",
       "        vertical-align: top;\n",
       "    }\n",
       "\n",
       "    .dataframe thead th {\n",
       "        text-align: right;\n",
       "    }\n",
       "</style>\n",
       "<table border=\"1\" class=\"dataframe\">\n",
       "  <thead>\n",
       "    <tr style=\"text-align: right;\">\n",
       "      <th></th>\n",
       "      <th>coef</th>\n",
       "      <th>abs_coef</th>\n",
       "      <th>feature</th>\n",
       "    </tr>\n",
       "  </thead>\n",
       "  <tbody>\n",
       "    <tr>\n",
       "      <th>10</th>\n",
       "      <td>-0.243371</td>\n",
       "      <td>0.243371</td>\n",
       "      <td>other_location</td>\n",
       "    </tr>\n",
       "    <tr>\n",
       "      <th>95</th>\n",
       "      <td>0.203895</td>\n",
       "      <td>0.203895</td>\n",
       "      <td>round_A</td>\n",
       "    </tr>\n",
       "    <tr>\n",
       "      <th>107</th>\n",
       "      <td>0.170823</td>\n",
       "      <td>0.170823</td>\n",
       "      <td>month_founded_1.0</td>\n",
       "    </tr>\n",
       "    <tr>\n",
       "      <th>81</th>\n",
       "      <td>0.169337</td>\n",
       "      <td>0.169337</td>\n",
       "      <td>funding_rounds</td>\n",
       "    </tr>\n",
       "    <tr>\n",
       "      <th>34</th>\n",
       "      <td>0.168138</td>\n",
       "      <td>0.168138</td>\n",
       "      <td>analytics</td>\n",
       "    </tr>\n",
       "    <tr>\n",
       "      <th>97</th>\n",
       "      <td>0.161328</td>\n",
       "      <td>0.161328</td>\n",
       "      <td>round_C</td>\n",
       "    </tr>\n",
       "    <tr>\n",
       "      <th>295</th>\n",
       "      <td>-0.156303</td>\n",
       "      <td>0.156303</td>\n",
       "      <td>first_funding_year_2008.0</td>\n",
       "    </tr>\n",
       "    <tr>\n",
       "      <th>301</th>\n",
       "      <td>0.156140</td>\n",
       "      <td>0.156140</td>\n",
       "      <td>first_funding_year_2014.0</td>\n",
       "    </tr>\n",
       "    <tr>\n",
       "      <th>26</th>\n",
       "      <td>0.153102</td>\n",
       "      <td>0.153102</td>\n",
       "      <td>enterprisesoftware</td>\n",
       "    </tr>\n",
       "    <tr>\n",
       "      <th>83</th>\n",
       "      <td>0.146870</td>\n",
       "      <td>0.146870</td>\n",
       "      <td>venture</td>\n",
       "    </tr>\n",
       "  </tbody>\n",
       "</table>\n",
       "</div>"
      ],
      "text/plain": [
       "         coef  abs_coef                    feature\n",
       "10  -0.243371  0.243371             other_location\n",
       "95   0.203895  0.203895                    round_A\n",
       "107  0.170823  0.170823          month_founded_1.0\n",
       "81   0.169337  0.169337             funding_rounds\n",
       "34   0.168138  0.168138                  analytics\n",
       "97   0.161328  0.161328                    round_C\n",
       "295 -0.156303  0.156303  first_funding_year_2008.0\n",
       "301  0.156140  0.156140  first_funding_year_2014.0\n",
       "26   0.153102  0.153102         enterprisesoftware\n",
       "83   0.146870  0.146870                    venture"
      ]
     },
     "execution_count": 187,
     "metadata": {},
     "output_type": "execute_result"
    }
   ],
   "source": [
    "coefs_new.sort_values('abs_coef', ascending = False).head(10)"
   ]
  },
  {
   "cell_type": "markdown",
   "metadata": {},
   "source": [
    "We can now do much better, our random forest hit almost 75% accuracy, which is much better than the ~50% benchline for this model."
   ]
  },
  {
   "cell_type": "code",
   "execution_count": null,
   "metadata": {},
   "outputs": [],
   "source": []
  }
 ],
 "metadata": {
  "kernelspec": {
   "display_name": "Python 3",
   "language": "python",
   "name": "python3"
  },
  "language_info": {
   "codemirror_mode": {
    "name": "ipython",
    "version": 3
   },
   "file_extension": ".py",
   "mimetype": "text/x-python",
   "name": "python",
   "nbconvert_exporter": "python",
   "pygments_lexer": "ipython3",
   "version": "3.7.3"
  },
  "varInspector": {
   "cols": {
    "lenName": 16,
    "lenType": 16,
    "lenVar": 40
   },
   "kernels_config": {
    "python": {
     "delete_cmd_postfix": "",
     "delete_cmd_prefix": "del ",
     "library": "var_list.py",
     "varRefreshCmd": "print(var_dic_list())"
    },
    "r": {
     "delete_cmd_postfix": ") ",
     "delete_cmd_prefix": "rm(",
     "library": "var_list.r",
     "varRefreshCmd": "cat(var_dic_list()) "
    }
   },
   "types_to_exclude": [
    "module",
    "function",
    "builtin_function_or_method",
    "instance",
    "_Feature"
   ],
   "window_display": false
  }
 },
 "nbformat": 4,
 "nbformat_minor": 2
}
