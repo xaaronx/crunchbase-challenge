{
 "cells": [
  {
   "cell_type": "markdown",
   "metadata": {},
   "source": [
    "# Predicting company acquisition"
   ]
  },
  {
   "cell_type": "markdown",
   "metadata": {},
   "source": [
    "### Kaggle crunchbase challenge\n",
    "\n",
    "Link: https://www.kaggle.com/arindam235/startup-investments-crunchbase\n",
    "\n",
    "--- \n",
    "\n",
    "We have a dataset with thousands of companies across the world and across a range of sectors.\n",
    "\n",
    "We will be trying to predict whether companies closed, were acquired or whether they are still running.\n",
    "\n",
    "Key challenges:\n",
    "- Classes are severely imbalanced\n",
    "- Features needs significant engineering"
   ]
  },
  {
   "cell_type": "code",
   "execution_count": 1,
   "metadata": {
    "ExecuteTime": {
     "end_time": "2020-03-21T21:42:45.479947Z",
     "start_time": "2020-03-21T21:42:45.471161Z"
    }
   },
   "outputs": [],
   "source": [
    "import warnings\n",
    "warnings.filterwarnings('ignore')"
   ]
  },
  {
   "cell_type": "code",
   "execution_count": 2,
   "metadata": {
    "ExecuteTime": {
     "end_time": "2020-03-21T21:42:48.384147Z",
     "start_time": "2020-03-21T21:42:45.978284Z"
    }
   },
   "outputs": [],
   "source": [
    "# Basics\n",
    "import pandas as pd\n",
    "import numpy as np\n",
    "import re\n",
    "\n",
    "#Plotting\n",
    "import seaborn as sns\n",
    "import matplotlib.pyplot as plt\n",
    "\n",
    "# Feature work\n",
    "from sklearn.feature_extraction.text import CountVectorizer\n",
    "\n",
    "# PreProcessing\n",
    "from imblearn.under_sampling import RandomUnderSampler\n",
    "from sklearn.preprocessing import StandardScaler, MinMaxScaler, PowerTransformer\n",
    "from sklearn.model_selection import StratifiedKFold\n",
    "from sklearn.utils import class_weight\n",
    "\n",
    "# Modelling\n",
    "from sklearn.ensemble import RandomForestClassifier\n",
    "from sklearn.linear_model import LogisticRegression, LogisticRegressionCV\n",
    "\n",
    "#Scoring\n",
    "from sklearn.model_selection import train_test_split, GridSearchCV, cross_val_score\n",
    "from sklearn.metrics import confusion_matrix, classification_report"
   ]
  },
  {
   "cell_type": "markdown",
   "metadata": {},
   "source": [
    "# EDA"
   ]
  },
  {
   "cell_type": "code",
   "execution_count": 3,
   "metadata": {
    "ExecuteTime": {
     "end_time": "2020-03-21T21:42:49.072133Z",
     "start_time": "2020-03-21T21:42:48.404802Z"
    }
   },
   "outputs": [],
   "source": [
    "df = pd.read_csv('investments_VC.csv', encoding = 'latin1')"
   ]
  },
  {
   "cell_type": "code",
   "execution_count": 4,
   "metadata": {
    "ExecuteTime": {
     "end_time": "2020-03-21T21:42:49.235005Z",
     "start_time": "2020-03-21T21:42:49.228811Z"
    }
   },
   "outputs": [
    {
     "data": {
      "text/plain": [
       "(54294, 39)"
      ]
     },
     "execution_count": 4,
     "metadata": {},
     "output_type": "execute_result"
    }
   ],
   "source": [
    "df.shape"
   ]
  },
  {
   "cell_type": "code",
   "execution_count": 5,
   "metadata": {
    "ExecuteTime": {
     "end_time": "2020-03-21T21:42:49.325863Z",
     "start_time": "2020-03-21T21:42:49.319856Z"
    }
   },
   "outputs": [
    {
     "name": "stdout",
     "output_type": "stream",
     "text": [
      "['permalink', 'name', 'homepage_url', 'category_list', ' market ', ' funding_total_usd ', 'status', 'country_code', 'state_code', 'region', 'city', 'funding_rounds', 'founded_at', 'founded_month', 'founded_quarter', 'founded_year', 'first_funding_at', 'last_funding_at', 'seed', 'venture', 'equity_crowdfunding', 'undisclosed', 'convertible_note', 'debt_financing', 'angel', 'grant', 'private_equity', 'post_ipo_equity', 'post_ipo_debt', 'secondary_market', 'product_crowdfunding', 'round_A', 'round_B', 'round_C', 'round_D', 'round_E', 'round_F', 'round_G', 'round_H']\n"
     ]
    }
   ],
   "source": [
    "print(list(df.columns))"
   ]
  },
  {
   "cell_type": "code",
   "execution_count": 6,
   "metadata": {
    "ExecuteTime": {
     "end_time": "2020-03-21T21:42:49.750256Z",
     "start_time": "2020-03-21T21:42:49.525175Z"
    }
   },
   "outputs": [
    {
     "data": {
      "text/plain": [
       "4855"
      ]
     },
     "execution_count": 6,
     "metadata": {},
     "output_type": "execute_result"
    }
   ],
   "source": [
    "df.duplicated().sum()"
   ]
  },
  {
   "cell_type": "code",
   "execution_count": 7,
   "metadata": {
    "ExecuteTime": {
     "end_time": "2020-03-21T21:42:49.995481Z",
     "start_time": "2020-03-21T21:42:49.766840Z"
    }
   },
   "outputs": [],
   "source": [
    "df = df.drop_duplicates()"
   ]
  },
  {
   "cell_type": "code",
   "execution_count": 8,
   "metadata": {
    "ExecuteTime": {
     "end_time": "2020-03-21T21:42:50.002934Z",
     "start_time": "2020-03-21T21:42:49.997028Z"
    }
   },
   "outputs": [],
   "source": [
    "# Remove unwanted periods\n",
    "df.columns = [i.strip() for i in df.columns]"
   ]
  },
  {
   "cell_type": "code",
   "execution_count": 9,
   "metadata": {
    "ExecuteTime": {
     "end_time": "2020-03-21T21:42:50.024573Z",
     "start_time": "2020-03-21T21:42:50.005349Z"
    }
   },
   "outputs": [
    {
     "data": {
      "text/html": [
       "<div>\n",
       "<style scoped>\n",
       "    .dataframe tbody tr th:only-of-type {\n",
       "        vertical-align: middle;\n",
       "    }\n",
       "\n",
       "    .dataframe tbody tr th {\n",
       "        vertical-align: top;\n",
       "    }\n",
       "\n",
       "    .dataframe thead th {\n",
       "        text-align: right;\n",
       "    }\n",
       "</style>\n",
       "<table border=\"1\" class=\"dataframe\">\n",
       "  <thead>\n",
       "    <tr style=\"text-align: right;\">\n",
       "      <th></th>\n",
       "      <th>permalink</th>\n",
       "      <th>name</th>\n",
       "      <th>homepage_url</th>\n",
       "      <th>category_list</th>\n",
       "      <th>market</th>\n",
       "      <th>funding_total_usd</th>\n",
       "      <th>status</th>\n",
       "      <th>country_code</th>\n",
       "      <th>state_code</th>\n",
       "      <th>region</th>\n",
       "    </tr>\n",
       "  </thead>\n",
       "  <tbody>\n",
       "    <tr>\n",
       "      <th>0</th>\n",
       "      <td>/organization/waywire</td>\n",
       "      <td>#waywire</td>\n",
       "      <td>http://www.waywire.com</td>\n",
       "      <td>|Entertainment|Politics|Social Media|News|</td>\n",
       "      <td>News</td>\n",
       "      <td>17,50,000</td>\n",
       "      <td>acquired</td>\n",
       "      <td>USA</td>\n",
       "      <td>NY</td>\n",
       "      <td>New York City</td>\n",
       "    </tr>\n",
       "    <tr>\n",
       "      <th>1</th>\n",
       "      <td>/organization/tv-communications</td>\n",
       "      <td>&amp;TV Communications</td>\n",
       "      <td>http://enjoyandtv.com</td>\n",
       "      <td>|Games|</td>\n",
       "      <td>Games</td>\n",
       "      <td>40,00,000</td>\n",
       "      <td>operating</td>\n",
       "      <td>USA</td>\n",
       "      <td>CA</td>\n",
       "      <td>Los Angeles</td>\n",
       "    </tr>\n",
       "    <tr>\n",
       "      <th>2</th>\n",
       "      <td>/organization/rock-your-paper</td>\n",
       "      <td>'Rock' Your Paper</td>\n",
       "      <td>http://www.rockyourpaper.org</td>\n",
       "      <td>|Publishing|Education|</td>\n",
       "      <td>Publishing</td>\n",
       "      <td>40,000</td>\n",
       "      <td>operating</td>\n",
       "      <td>EST</td>\n",
       "      <td>NaN</td>\n",
       "      <td>Tallinn</td>\n",
       "    </tr>\n",
       "    <tr>\n",
       "      <th>3</th>\n",
       "      <td>/organization/in-touch-network</td>\n",
       "      <td>(In)Touch Network</td>\n",
       "      <td>http://www.InTouchNetwork.com</td>\n",
       "      <td>|Electronics|Guides|Coffee|Restaurants|Music|i...</td>\n",
       "      <td>Electronics</td>\n",
       "      <td>15,00,000</td>\n",
       "      <td>operating</td>\n",
       "      <td>GBR</td>\n",
       "      <td>NaN</td>\n",
       "      <td>London</td>\n",
       "    </tr>\n",
       "    <tr>\n",
       "      <th>4</th>\n",
       "      <td>/organization/r-ranch-and-mine</td>\n",
       "      <td>-R- Ranch and Mine</td>\n",
       "      <td>NaN</td>\n",
       "      <td>|Tourism|Entertainment|Games|</td>\n",
       "      <td>Tourism</td>\n",
       "      <td>60,000</td>\n",
       "      <td>operating</td>\n",
       "      <td>USA</td>\n",
       "      <td>TX</td>\n",
       "      <td>Dallas</td>\n",
       "    </tr>\n",
       "  </tbody>\n",
       "</table>\n",
       "</div>"
      ],
      "text/plain": [
       "                         permalink                name  \\\n",
       "0            /organization/waywire            #waywire   \n",
       "1  /organization/tv-communications  &TV Communications   \n",
       "2    /organization/rock-your-paper   'Rock' Your Paper   \n",
       "3   /organization/in-touch-network   (In)Touch Network   \n",
       "4   /organization/r-ranch-and-mine  -R- Ranch and Mine   \n",
       "\n",
       "                    homepage_url  \\\n",
       "0         http://www.waywire.com   \n",
       "1          http://enjoyandtv.com   \n",
       "2   http://www.rockyourpaper.org   \n",
       "3  http://www.InTouchNetwork.com   \n",
       "4                            NaN   \n",
       "\n",
       "                                       category_list         market  \\\n",
       "0         |Entertainment|Politics|Social Media|News|          News    \n",
       "1                                            |Games|         Games    \n",
       "2                             |Publishing|Education|    Publishing    \n",
       "3  |Electronics|Guides|Coffee|Restaurants|Music|i...   Electronics    \n",
       "4                      |Tourism|Entertainment|Games|       Tourism    \n",
       "\n",
       "  funding_total_usd     status country_code state_code         region  \n",
       "0        17,50,000    acquired          USA         NY  New York City  \n",
       "1        40,00,000   operating          USA         CA    Los Angeles  \n",
       "2           40,000   operating          EST        NaN        Tallinn  \n",
       "3        15,00,000   operating          GBR        NaN         London  \n",
       "4           60,000   operating          USA         TX         Dallas  "
      ]
     },
     "execution_count": 9,
     "metadata": {},
     "output_type": "execute_result"
    }
   ],
   "source": [
    "df.iloc[:5,:10]"
   ]
  },
  {
   "cell_type": "code",
   "execution_count": 10,
   "metadata": {
    "ExecuteTime": {
     "end_time": "2020-03-21T21:42:51.982792Z",
     "start_time": "2020-03-21T21:42:51.830564Z"
    }
   },
   "outputs": [],
   "source": [
    "df['funding_total_usd'] = df['funding_total_usd']\\\n",
    "        .apply(lambda x: ''.join(str(x).split(',')))\\\n",
    "        .apply(lambda x: re.sub('[^0-9]','', x))"
   ]
  },
  {
   "cell_type": "code",
   "execution_count": 11,
   "metadata": {
    "ExecuteTime": {
     "end_time": "2020-03-21T21:42:52.115968Z",
     "start_time": "2020-03-21T21:42:52.098392Z"
    }
   },
   "outputs": [],
   "source": [
    "df['funding_total_usd'].replace('', np.nan, inplace=True)"
   ]
  },
  {
   "cell_type": "code",
   "execution_count": 12,
   "metadata": {
    "ExecuteTime": {
     "end_time": "2020-03-21T21:42:52.215456Z",
     "start_time": "2020-03-21T21:42:52.180914Z"
    }
   },
   "outputs": [],
   "source": [
    "df['funding_total_usd'] = df['funding_total_usd'].astype(float)"
   ]
  },
  {
   "cell_type": "code",
   "execution_count": 13,
   "metadata": {
    "ExecuteTime": {
     "end_time": "2020-03-21T21:42:52.401656Z",
     "start_time": "2020-03-21T21:42:52.384316Z"
    }
   },
   "outputs": [
    {
     "data": {
      "text/plain": [
       "15315    3.500000e+09\n",
       "7977     5.162513e+09\n",
       "8664     5.700000e+09\n",
       "36911    5.800000e+09\n",
       "45815    3.007950e+10\n",
       "Name: funding_total_usd, dtype: float64"
      ]
     },
     "execution_count": 13,
     "metadata": {},
     "output_type": "execute_result"
    }
   ],
   "source": [
    "df['funding_total_usd'].dropna().sort_values().tail()"
   ]
  },
  {
   "cell_type": "code",
   "execution_count": 14,
   "metadata": {
    "ExecuteTime": {
     "end_time": "2020-03-21T21:42:52.601924Z",
     "start_time": "2020-03-21T21:42:52.567230Z"
    }
   },
   "outputs": [
    {
     "data": {
      "text/plain": [
       " Software          4620\n",
       " Biotechnology     3688\n",
       " Mobile            1983\n",
       " E-Commerce        1805\n",
       " Curated Web       1655\n",
       "Name: market, dtype: int64"
      ]
     },
     "execution_count": 14,
     "metadata": {},
     "output_type": "execute_result"
    }
   ],
   "source": [
    "df.market.value_counts().head()"
   ]
  },
  {
   "cell_type": "code",
   "execution_count": 15,
   "metadata": {
    "ExecuteTime": {
     "end_time": "2020-03-21T21:42:52.691217Z",
     "start_time": "2020-03-21T21:42:52.672508Z"
    }
   },
   "outputs": [
    {
     "data": {
      "text/plain": [
       "USA    28793\n",
       "GBR     2642\n",
       "CAN     1405\n",
       "CHN     1239\n",
       "DEU      968\n",
       "Name: country_code, dtype: int64"
      ]
     },
     "execution_count": 15,
     "metadata": {},
     "output_type": "execute_result"
    }
   ],
   "source": [
    "df.country_code.value_counts().head()"
   ]
  },
  {
   "cell_type": "code",
   "execution_count": 16,
   "metadata": {
    "ExecuteTime": {
     "end_time": "2020-03-21T21:42:53.969904Z",
     "start_time": "2020-03-21T21:42:53.622359Z"
    }
   },
   "outputs": [
    {
     "data": {
      "image/png": "[encoded data removed]",
      "text/plain": [
       "<Figure size 432x288 with 1 Axes>"
      ]
     },
     "metadata": {
      "needs_background": "light"
     },
     "output_type": "display_data"
    }
   ],
   "source": [
    "df.funding_rounds.value_counts().plot(kind = 'barh');"
   ]
  },
  {
   "cell_type": "code",
   "execution_count": 17,
   "metadata": {
    "ExecuteTime": {
     "end_time": "2020-03-21T21:42:56.469101Z",
     "start_time": "2020-03-21T21:42:53.973157Z"
    }
   },
   "outputs": [
    {
     "data": {
      "image/png": "[encoded data removed]",
      "text/plain": [
       "<Figure size 1080x360 with 3 Axes>"
      ]
     },
     "metadata": {
      "needs_background": "light"
     },
     "output_type": "display_data"
    }
   ],
   "source": [
    "fig, ax = plt.subplots(ncols = 3, figsize = (15,5))\n",
    "df[df['seed']>0].seed.hist(bins = 100, ax = ax[0]);\n",
    "df[df['venture']>0].venture.hist(bins = 100, ax = ax[1]);\n",
    "df[df['equity_crowdfunding']>0].equity_crowdfunding.hist(bins = 100, ax = ax[2]);\n",
    "ax[0].set_yscale(\"log\")\n",
    "ax[1].set_yscale(\"log\")\n",
    "ax[2].set_yscale(\"log\")\n",
    "ax[0].set_title(\"Seed funding quantities (100mns $)\")\n",
    "ax[1].set_title(\"Venture funding quantities (Bns $)\")\n",
    "ax[2].set_title(\"Equity Crowd funding quantities (10mns $)\")\n",
    "plt.show()"
   ]
  },
  {
   "cell_type": "markdown",
   "metadata": {},
   "source": [
    "Lets check that all the rounds of funding are equal to the funding quantities."
   ]
  },
  {
   "cell_type": "code",
   "execution_count": 18,
   "metadata": {
    "ExecuteTime": {
     "end_time": "2020-03-21T21:42:56.722501Z",
     "start_time": "2020-03-21T21:42:56.672965Z"
    }
   },
   "outputs": [
    {
     "data": {
      "text/html": [
       "<div>\n",
       "<style scoped>\n",
       "    .dataframe tbody tr th:only-of-type {\n",
       "        vertical-align: middle;\n",
       "    }\n",
       "\n",
       "    .dataframe tbody tr th {\n",
       "        vertical-align: top;\n",
       "    }\n",
       "\n",
       "    .dataframe thead th {\n",
       "        text-align: right;\n",
       "    }\n",
       "</style>\n",
       "<table border=\"1\" class=\"dataframe\">\n",
       "  <thead>\n",
       "    <tr style=\"text-align: right;\">\n",
       "      <th></th>\n",
       "      <th>40</th>\n",
       "      <th>41</th>\n",
       "      <th>42</th>\n",
       "      <th>43</th>\n",
       "      <th>44</th>\n",
       "      <th>45</th>\n",
       "      <th>46</th>\n",
       "      <th>47</th>\n",
       "      <th>48</th>\n",
       "      <th>49</th>\n",
       "      <th>50</th>\n",
       "      <th>51</th>\n",
       "      <th>52</th>\n",
       "      <th>53</th>\n",
       "      <th>54</th>\n",
       "      <th>55</th>\n",
       "      <th>56</th>\n",
       "      <th>57</th>\n",
       "      <th>58</th>\n",
       "      <th>59</th>\n",
       "    </tr>\n",
       "  </thead>\n",
       "  <tbody>\n",
       "    <tr>\n",
       "      <th>seed</th>\n",
       "      <td>0.0</td>\n",
       "      <td>0.0</td>\n",
       "      <td>0.0</td>\n",
       "      <td>250000.0</td>\n",
       "      <td>69000.0</td>\n",
       "      <td>500000.0</td>\n",
       "      <td>0.0</td>\n",
       "      <td>378812.0</td>\n",
       "      <td>130636.0</td>\n",
       "      <td>0.0</td>\n",
       "      <td>0.0</td>\n",
       "      <td>0.0</td>\n",
       "      <td>0.0</td>\n",
       "      <td>700000.0</td>\n",
       "      <td>0.0</td>\n",
       "      <td>500000.0</td>\n",
       "      <td>0.0</td>\n",
       "      <td>2200000.0</td>\n",
       "      <td>200000.0</td>\n",
       "      <td>0.0</td>\n",
       "    </tr>\n",
       "    <tr>\n",
       "      <th>venture</th>\n",
       "      <td>0.0</td>\n",
       "      <td>0.0</td>\n",
       "      <td>0.0</td>\n",
       "      <td>0.0</td>\n",
       "      <td>0.0</td>\n",
       "      <td>150267.0</td>\n",
       "      <td>0.0</td>\n",
       "      <td>0.0</td>\n",
       "      <td>0.0</td>\n",
       "      <td>0.0</td>\n",
       "      <td>0.0</td>\n",
       "      <td>63450000.0</td>\n",
       "      <td>0.0</td>\n",
       "      <td>0.0</td>\n",
       "      <td>5500000.0</td>\n",
       "      <td>0.0</td>\n",
       "      <td>6204822.0</td>\n",
       "      <td>0.0</td>\n",
       "      <td>0.0</td>\n",
       "      <td>199957.0</td>\n",
       "    </tr>\n",
       "    <tr>\n",
       "      <th>equity_crowdfunding</th>\n",
       "      <td>0.0</td>\n",
       "      <td>0.0</td>\n",
       "      <td>0.0</td>\n",
       "      <td>0.0</td>\n",
       "      <td>0.0</td>\n",
       "      <td>0.0</td>\n",
       "      <td>0.0</td>\n",
       "      <td>0.0</td>\n",
       "      <td>0.0</td>\n",
       "      <td>0.0</td>\n",
       "      <td>0.0</td>\n",
       "      <td>0.0</td>\n",
       "      <td>0.0</td>\n",
       "      <td>0.0</td>\n",
       "      <td>0.0</td>\n",
       "      <td>0.0</td>\n",
       "      <td>0.0</td>\n",
       "      <td>0.0</td>\n",
       "      <td>0.0</td>\n",
       "      <td>0.0</td>\n",
       "    </tr>\n",
       "    <tr>\n",
       "      <th>undisclosed</th>\n",
       "      <td>0.0</td>\n",
       "      <td>0.0</td>\n",
       "      <td>0.0</td>\n",
       "      <td>0.0</td>\n",
       "      <td>0.0</td>\n",
       "      <td>0.0</td>\n",
       "      <td>0.0</td>\n",
       "      <td>0.0</td>\n",
       "      <td>0.0</td>\n",
       "      <td>0.0</td>\n",
       "      <td>0.0</td>\n",
       "      <td>0.0</td>\n",
       "      <td>0.0</td>\n",
       "      <td>0.0</td>\n",
       "      <td>0.0</td>\n",
       "      <td>0.0</td>\n",
       "      <td>0.0</td>\n",
       "      <td>0.0</td>\n",
       "      <td>0.0</td>\n",
       "      <td>0.0</td>\n",
       "    </tr>\n",
       "    <tr>\n",
       "      <th>convertible_note</th>\n",
       "      <td>0.0</td>\n",
       "      <td>0.0</td>\n",
       "      <td>0.0</td>\n",
       "      <td>0.0</td>\n",
       "      <td>0.0</td>\n",
       "      <td>0.0</td>\n",
       "      <td>0.0</td>\n",
       "      <td>0.0</td>\n",
       "      <td>0.0</td>\n",
       "      <td>0.0</td>\n",
       "      <td>0.0</td>\n",
       "      <td>0.0</td>\n",
       "      <td>0.0</td>\n",
       "      <td>0.0</td>\n",
       "      <td>0.0</td>\n",
       "      <td>0.0</td>\n",
       "      <td>0.0</td>\n",
       "      <td>0.0</td>\n",
       "      <td>0.0</td>\n",
       "      <td>0.0</td>\n",
       "    </tr>\n",
       "    <tr>\n",
       "      <th>debt_financing</th>\n",
       "      <td>0.0</td>\n",
       "      <td>0.0</td>\n",
       "      <td>0.0</td>\n",
       "      <td>0.0</td>\n",
       "      <td>0.0</td>\n",
       "      <td>0.0</td>\n",
       "      <td>0.0</td>\n",
       "      <td>0.0</td>\n",
       "      <td>0.0</td>\n",
       "      <td>0.0</td>\n",
       "      <td>0.0</td>\n",
       "      <td>0.0</td>\n",
       "      <td>0.0</td>\n",
       "      <td>0.0</td>\n",
       "      <td>0.0</td>\n",
       "      <td>0.0</td>\n",
       "      <td>0.0</td>\n",
       "      <td>0.0</td>\n",
       "      <td>0.0</td>\n",
       "      <td>0.0</td>\n",
       "    </tr>\n",
       "    <tr>\n",
       "      <th>angel</th>\n",
       "      <td>0.0</td>\n",
       "      <td>0.0</td>\n",
       "      <td>0.0</td>\n",
       "      <td>0.0</td>\n",
       "      <td>500000.0</td>\n",
       "      <td>0.0</td>\n",
       "      <td>0.0</td>\n",
       "      <td>0.0</td>\n",
       "      <td>0.0</td>\n",
       "      <td>619494.0</td>\n",
       "      <td>0.0</td>\n",
       "      <td>0.0</td>\n",
       "      <td>0.0</td>\n",
       "      <td>0.0</td>\n",
       "      <td>0.0</td>\n",
       "      <td>0.0</td>\n",
       "      <td>0.0</td>\n",
       "      <td>1200000.0</td>\n",
       "      <td>0.0</td>\n",
       "      <td>0.0</td>\n",
       "    </tr>\n",
       "    <tr>\n",
       "      <th>grant</th>\n",
       "      <td>0.0</td>\n",
       "      <td>0.0</td>\n",
       "      <td>0.0</td>\n",
       "      <td>20000.0</td>\n",
       "      <td>225000.0</td>\n",
       "      <td>0.0</td>\n",
       "      <td>0.0</td>\n",
       "      <td>0.0</td>\n",
       "      <td>0.0</td>\n",
       "      <td>0.0</td>\n",
       "      <td>0.0</td>\n",
       "      <td>3000000.0</td>\n",
       "      <td>0.0</td>\n",
       "      <td>0.0</td>\n",
       "      <td>0.0</td>\n",
       "      <td>0.0</td>\n",
       "      <td>0.0</td>\n",
       "      <td>0.0</td>\n",
       "      <td>0.0</td>\n",
       "      <td>0.0</td>\n",
       "    </tr>\n",
       "    <tr>\n",
       "      <th>private_equity</th>\n",
       "      <td>0.0</td>\n",
       "      <td>0.0</td>\n",
       "      <td>0.0</td>\n",
       "      <td>0.0</td>\n",
       "      <td>0.0</td>\n",
       "      <td>0.0</td>\n",
       "      <td>0.0</td>\n",
       "      <td>0.0</td>\n",
       "      <td>0.0</td>\n",
       "      <td>0.0</td>\n",
       "      <td>0.0</td>\n",
       "      <td>0.0</td>\n",
       "      <td>0.0</td>\n",
       "      <td>0.0</td>\n",
       "      <td>0.0</td>\n",
       "      <td>0.0</td>\n",
       "      <td>0.0</td>\n",
       "      <td>0.0</td>\n",
       "      <td>0.0</td>\n",
       "      <td>0.0</td>\n",
       "    </tr>\n",
       "    <tr>\n",
       "      <th>post_ipo_equity</th>\n",
       "      <td>0.0</td>\n",
       "      <td>0.0</td>\n",
       "      <td>0.0</td>\n",
       "      <td>0.0</td>\n",
       "      <td>0.0</td>\n",
       "      <td>0.0</td>\n",
       "      <td>0.0</td>\n",
       "      <td>0.0</td>\n",
       "      <td>0.0</td>\n",
       "      <td>0.0</td>\n",
       "      <td>0.0</td>\n",
       "      <td>0.0</td>\n",
       "      <td>0.0</td>\n",
       "      <td>0.0</td>\n",
       "      <td>0.0</td>\n",
       "      <td>0.0</td>\n",
       "      <td>0.0</td>\n",
       "      <td>0.0</td>\n",
       "      <td>0.0</td>\n",
       "      <td>0.0</td>\n",
       "    </tr>\n",
       "    <tr>\n",
       "      <th>post_ipo_debt</th>\n",
       "      <td>0.0</td>\n",
       "      <td>0.0</td>\n",
       "      <td>0.0</td>\n",
       "      <td>0.0</td>\n",
       "      <td>0.0</td>\n",
       "      <td>0.0</td>\n",
       "      <td>0.0</td>\n",
       "      <td>0.0</td>\n",
       "      <td>0.0</td>\n",
       "      <td>0.0</td>\n",
       "      <td>0.0</td>\n",
       "      <td>0.0</td>\n",
       "      <td>0.0</td>\n",
       "      <td>0.0</td>\n",
       "      <td>0.0</td>\n",
       "      <td>0.0</td>\n",
       "      <td>0.0</td>\n",
       "      <td>0.0</td>\n",
       "      <td>0.0</td>\n",
       "      <td>0.0</td>\n",
       "    </tr>\n",
       "    <tr>\n",
       "      <th>secondary_market</th>\n",
       "      <td>0.0</td>\n",
       "      <td>0.0</td>\n",
       "      <td>0.0</td>\n",
       "      <td>0.0</td>\n",
       "      <td>0.0</td>\n",
       "      <td>0.0</td>\n",
       "      <td>0.0</td>\n",
       "      <td>0.0</td>\n",
       "      <td>0.0</td>\n",
       "      <td>0.0</td>\n",
       "      <td>0.0</td>\n",
       "      <td>0.0</td>\n",
       "      <td>0.0</td>\n",
       "      <td>0.0</td>\n",
       "      <td>0.0</td>\n",
       "      <td>0.0</td>\n",
       "      <td>0.0</td>\n",
       "      <td>0.0</td>\n",
       "      <td>0.0</td>\n",
       "      <td>0.0</td>\n",
       "    </tr>\n",
       "    <tr>\n",
       "      <th>product_crowdfunding</th>\n",
       "      <td>0.0</td>\n",
       "      <td>0.0</td>\n",
       "      <td>0.0</td>\n",
       "      <td>0.0</td>\n",
       "      <td>0.0</td>\n",
       "      <td>0.0</td>\n",
       "      <td>0.0</td>\n",
       "      <td>0.0</td>\n",
       "      <td>0.0</td>\n",
       "      <td>0.0</td>\n",
       "      <td>0.0</td>\n",
       "      <td>0.0</td>\n",
       "      <td>0.0</td>\n",
       "      <td>0.0</td>\n",
       "      <td>0.0</td>\n",
       "      <td>0.0</td>\n",
       "      <td>0.0</td>\n",
       "      <td>0.0</td>\n",
       "      <td>0.0</td>\n",
       "      <td>0.0</td>\n",
       "    </tr>\n",
       "    <tr>\n",
       "      <th>round_A</th>\n",
       "      <td>0.0</td>\n",
       "      <td>0.0</td>\n",
       "      <td>0.0</td>\n",
       "      <td>0.0</td>\n",
       "      <td>0.0</td>\n",
       "      <td>0.0</td>\n",
       "      <td>0.0</td>\n",
       "      <td>0.0</td>\n",
       "      <td>0.0</td>\n",
       "      <td>0.0</td>\n",
       "      <td>0.0</td>\n",
       "      <td>12400000.0</td>\n",
       "      <td>0.0</td>\n",
       "      <td>0.0</td>\n",
       "      <td>3000000.0</td>\n",
       "      <td>0.0</td>\n",
       "      <td>4500000.0</td>\n",
       "      <td>0.0</td>\n",
       "      <td>0.0</td>\n",
       "      <td>0.0</td>\n",
       "    </tr>\n",
       "    <tr>\n",
       "      <th>round_B</th>\n",
       "      <td>0.0</td>\n",
       "      <td>0.0</td>\n",
       "      <td>0.0</td>\n",
       "      <td>0.0</td>\n",
       "      <td>0.0</td>\n",
       "      <td>0.0</td>\n",
       "      <td>0.0</td>\n",
       "      <td>0.0</td>\n",
       "      <td>0.0</td>\n",
       "      <td>0.0</td>\n",
       "      <td>0.0</td>\n",
       "      <td>28400000.0</td>\n",
       "      <td>0.0</td>\n",
       "      <td>0.0</td>\n",
       "      <td>2500000.0</td>\n",
       "      <td>0.0</td>\n",
       "      <td>1704822.0</td>\n",
       "      <td>0.0</td>\n",
       "      <td>0.0</td>\n",
       "      <td>0.0</td>\n",
       "    </tr>\n",
       "    <tr>\n",
       "      <th>round_C</th>\n",
       "      <td>0.0</td>\n",
       "      <td>0.0</td>\n",
       "      <td>0.0</td>\n",
       "      <td>0.0</td>\n",
       "      <td>0.0</td>\n",
       "      <td>0.0</td>\n",
       "      <td>0.0</td>\n",
       "      <td>0.0</td>\n",
       "      <td>0.0</td>\n",
       "      <td>0.0</td>\n",
       "      <td>0.0</td>\n",
       "      <td>17500000.0</td>\n",
       "      <td>0.0</td>\n",
       "      <td>0.0</td>\n",
       "      <td>0.0</td>\n",
       "      <td>0.0</td>\n",
       "      <td>0.0</td>\n",
       "      <td>0.0</td>\n",
       "      <td>0.0</td>\n",
       "      <td>0.0</td>\n",
       "    </tr>\n",
       "    <tr>\n",
       "      <th>round_D</th>\n",
       "      <td>0.0</td>\n",
       "      <td>0.0</td>\n",
       "      <td>0.0</td>\n",
       "      <td>0.0</td>\n",
       "      <td>0.0</td>\n",
       "      <td>0.0</td>\n",
       "      <td>0.0</td>\n",
       "      <td>0.0</td>\n",
       "      <td>0.0</td>\n",
       "      <td>0.0</td>\n",
       "      <td>0.0</td>\n",
       "      <td>0.0</td>\n",
       "      <td>0.0</td>\n",
       "      <td>0.0</td>\n",
       "      <td>0.0</td>\n",
       "      <td>0.0</td>\n",
       "      <td>0.0</td>\n",
       "      <td>0.0</td>\n",
       "      <td>0.0</td>\n",
       "      <td>0.0</td>\n",
       "    </tr>\n",
       "    <tr>\n",
       "      <th>round_E</th>\n",
       "      <td>0.0</td>\n",
       "      <td>0.0</td>\n",
       "      <td>0.0</td>\n",
       "      <td>0.0</td>\n",
       "      <td>0.0</td>\n",
       "      <td>0.0</td>\n",
       "      <td>0.0</td>\n",
       "      <td>0.0</td>\n",
       "      <td>0.0</td>\n",
       "      <td>0.0</td>\n",
       "      <td>0.0</td>\n",
       "      <td>0.0</td>\n",
       "      <td>0.0</td>\n",
       "      <td>0.0</td>\n",
       "      <td>0.0</td>\n",
       "      <td>0.0</td>\n",
       "      <td>0.0</td>\n",
       "      <td>0.0</td>\n",
       "      <td>0.0</td>\n",
       "      <td>0.0</td>\n",
       "    </tr>\n",
       "    <tr>\n",
       "      <th>round_F</th>\n",
       "      <td>0.0</td>\n",
       "      <td>0.0</td>\n",
       "      <td>0.0</td>\n",
       "      <td>0.0</td>\n",
       "      <td>0.0</td>\n",
       "      <td>0.0</td>\n",
       "      <td>0.0</td>\n",
       "      <td>0.0</td>\n",
       "      <td>0.0</td>\n",
       "      <td>0.0</td>\n",
       "      <td>0.0</td>\n",
       "      <td>0.0</td>\n",
       "      <td>0.0</td>\n",
       "      <td>0.0</td>\n",
       "      <td>0.0</td>\n",
       "      <td>0.0</td>\n",
       "      <td>0.0</td>\n",
       "      <td>0.0</td>\n",
       "      <td>0.0</td>\n",
       "      <td>0.0</td>\n",
       "    </tr>\n",
       "    <tr>\n",
       "      <th>round_G</th>\n",
       "      <td>0.0</td>\n",
       "      <td>0.0</td>\n",
       "      <td>0.0</td>\n",
       "      <td>0.0</td>\n",
       "      <td>0.0</td>\n",
       "      <td>0.0</td>\n",
       "      <td>0.0</td>\n",
       "      <td>0.0</td>\n",
       "      <td>0.0</td>\n",
       "      <td>0.0</td>\n",
       "      <td>0.0</td>\n",
       "      <td>0.0</td>\n",
       "      <td>0.0</td>\n",
       "      <td>0.0</td>\n",
       "      <td>0.0</td>\n",
       "      <td>0.0</td>\n",
       "      <td>0.0</td>\n",
       "      <td>0.0</td>\n",
       "      <td>0.0</td>\n",
       "      <td>0.0</td>\n",
       "    </tr>\n",
       "    <tr>\n",
       "      <th>round_H</th>\n",
       "      <td>0.0</td>\n",
       "      <td>0.0</td>\n",
       "      <td>0.0</td>\n",
       "      <td>0.0</td>\n",
       "      <td>0.0</td>\n",
       "      <td>0.0</td>\n",
       "      <td>0.0</td>\n",
       "      <td>0.0</td>\n",
       "      <td>0.0</td>\n",
       "      <td>0.0</td>\n",
       "      <td>0.0</td>\n",
       "      <td>0.0</td>\n",
       "      <td>0.0</td>\n",
       "      <td>0.0</td>\n",
       "      <td>0.0</td>\n",
       "      <td>0.0</td>\n",
       "      <td>0.0</td>\n",
       "      <td>0.0</td>\n",
       "      <td>0.0</td>\n",
       "      <td>0.0</td>\n",
       "    </tr>\n",
       "  </tbody>\n",
       "</table>\n",
       "</div>"
      ],
      "text/plain": [
       "                       40   41   42        43        44        45   46  \\\n",
       "seed                  0.0  0.0  0.0  250000.0   69000.0  500000.0  0.0   \n",
       "venture               0.0  0.0  0.0       0.0       0.0  150267.0  0.0   \n",
       "equity_crowdfunding   0.0  0.0  0.0       0.0       0.0       0.0  0.0   \n",
       "undisclosed           0.0  0.0  0.0       0.0       0.0       0.0  0.0   \n",
       "convertible_note      0.0  0.0  0.0       0.0       0.0       0.0  0.0   \n",
       "debt_financing        0.0  0.0  0.0       0.0       0.0       0.0  0.0   \n",
       "angel                 0.0  0.0  0.0       0.0  500000.0       0.0  0.0   \n",
       "grant                 0.0  0.0  0.0   20000.0  225000.0       0.0  0.0   \n",
       "private_equity        0.0  0.0  0.0       0.0       0.0       0.0  0.0   \n",
       "post_ipo_equity       0.0  0.0  0.0       0.0       0.0       0.0  0.0   \n",
       "post_ipo_debt         0.0  0.0  0.0       0.0       0.0       0.0  0.0   \n",
       "secondary_market      0.0  0.0  0.0       0.0       0.0       0.0  0.0   \n",
       "product_crowdfunding  0.0  0.0  0.0       0.0       0.0       0.0  0.0   \n",
       "round_A               0.0  0.0  0.0       0.0       0.0       0.0  0.0   \n",
       "round_B               0.0  0.0  0.0       0.0       0.0       0.0  0.0   \n",
       "round_C               0.0  0.0  0.0       0.0       0.0       0.0  0.0   \n",
       "round_D               0.0  0.0  0.0       0.0       0.0       0.0  0.0   \n",
       "round_E               0.0  0.0  0.0       0.0       0.0       0.0  0.0   \n",
       "round_F               0.0  0.0  0.0       0.0       0.0       0.0  0.0   \n",
       "round_G               0.0  0.0  0.0       0.0       0.0       0.0  0.0   \n",
       "round_H               0.0  0.0  0.0       0.0       0.0       0.0  0.0   \n",
       "\n",
       "                            47        48        49   50          51   52  \\\n",
       "seed                  378812.0  130636.0       0.0  0.0         0.0  0.0   \n",
       "venture                    0.0       0.0       0.0  0.0  63450000.0  0.0   \n",
       "equity_crowdfunding        0.0       0.0       0.0  0.0         0.0  0.0   \n",
       "undisclosed                0.0       0.0       0.0  0.0         0.0  0.0   \n",
       "convertible_note           0.0       0.0       0.0  0.0         0.0  0.0   \n",
       "debt_financing             0.0       0.0       0.0  0.0         0.0  0.0   \n",
       "angel                      0.0       0.0  619494.0  0.0         0.0  0.0   \n",
       "grant                      0.0       0.0       0.0  0.0   3000000.0  0.0   \n",
       "private_equity             0.0       0.0       0.0  0.0         0.0  0.0   \n",
       "post_ipo_equity            0.0       0.0       0.0  0.0         0.0  0.0   \n",
       "post_ipo_debt              0.0       0.0       0.0  0.0         0.0  0.0   \n",
       "secondary_market           0.0       0.0       0.0  0.0         0.0  0.0   \n",
       "product_crowdfunding       0.0       0.0       0.0  0.0         0.0  0.0   \n",
       "round_A                    0.0       0.0       0.0  0.0  12400000.0  0.0   \n",
       "round_B                    0.0       0.0       0.0  0.0  28400000.0  0.0   \n",
       "round_C                    0.0       0.0       0.0  0.0  17500000.0  0.0   \n",
       "round_D                    0.0       0.0       0.0  0.0         0.0  0.0   \n",
       "round_E                    0.0       0.0       0.0  0.0         0.0  0.0   \n",
       "round_F                    0.0       0.0       0.0  0.0         0.0  0.0   \n",
       "round_G                    0.0       0.0       0.0  0.0         0.0  0.0   \n",
       "round_H                    0.0       0.0       0.0  0.0         0.0  0.0   \n",
       "\n",
       "                            53         54        55         56         57  \\\n",
       "seed                  700000.0        0.0  500000.0        0.0  2200000.0   \n",
       "venture                    0.0  5500000.0       0.0  6204822.0        0.0   \n",
       "equity_crowdfunding        0.0        0.0       0.0        0.0        0.0   \n",
       "undisclosed                0.0        0.0       0.0        0.0        0.0   \n",
       "convertible_note           0.0        0.0       0.0        0.0        0.0   \n",
       "debt_financing             0.0        0.0       0.0        0.0        0.0   \n",
       "angel                      0.0        0.0       0.0        0.0  1200000.0   \n",
       "grant                      0.0        0.0       0.0        0.0        0.0   \n",
       "private_equity             0.0        0.0       0.0        0.0        0.0   \n",
       "post_ipo_equity            0.0        0.0       0.0        0.0        0.0   \n",
       "post_ipo_debt              0.0        0.0       0.0        0.0        0.0   \n",
       "secondary_market           0.0        0.0       0.0        0.0        0.0   \n",
       "product_crowdfunding       0.0        0.0       0.0        0.0        0.0   \n",
       "round_A                    0.0  3000000.0       0.0  4500000.0        0.0   \n",
       "round_B                    0.0  2500000.0       0.0  1704822.0        0.0   \n",
       "round_C                    0.0        0.0       0.0        0.0        0.0   \n",
       "round_D                    0.0        0.0       0.0        0.0        0.0   \n",
       "round_E                    0.0        0.0       0.0        0.0        0.0   \n",
       "round_F                    0.0        0.0       0.0        0.0        0.0   \n",
       "round_G                    0.0        0.0       0.0        0.0        0.0   \n",
       "round_H                    0.0        0.0       0.0        0.0        0.0   \n",
       "\n",
       "                            58        59  \n",
       "seed                  200000.0       0.0  \n",
       "venture                    0.0  199957.0  \n",
       "equity_crowdfunding        0.0       0.0  \n",
       "undisclosed                0.0       0.0  \n",
       "convertible_note           0.0       0.0  \n",
       "debt_financing             0.0       0.0  \n",
       "angel                      0.0       0.0  \n",
       "grant                      0.0       0.0  \n",
       "private_equity             0.0       0.0  \n",
       "post_ipo_equity            0.0       0.0  \n",
       "post_ipo_debt              0.0       0.0  \n",
       "secondary_market           0.0       0.0  \n",
       "product_crowdfunding       0.0       0.0  \n",
       "round_A                    0.0       0.0  \n",
       "round_B                    0.0       0.0  \n",
       "round_C                    0.0       0.0  \n",
       "round_D                    0.0       0.0  \n",
       "round_E                    0.0       0.0  \n",
       "round_F                    0.0       0.0  \n",
       "round_G                    0.0       0.0  \n",
       "round_H                    0.0       0.0  "
      ]
     },
     "execution_count": 18,
     "metadata": {},
     "output_type": "execute_result"
    }
   ],
   "source": [
    "df.iloc[40:60,18:40].T"
   ]
  },
  {
   "cell_type": "code",
   "execution_count": 19,
   "metadata": {
    "ExecuteTime": {
     "end_time": "2020-03-21T21:42:56.744865Z",
     "start_time": "2020-03-21T21:42:56.726134Z"
    }
   },
   "outputs": [],
   "source": [
    "tot_round = df.iloc[:,31:40].T.sum()"
   ]
  },
  {
   "cell_type": "code",
   "execution_count": 20,
   "metadata": {
    "ExecuteTime": {
     "end_time": "2020-03-21T21:42:56.973189Z",
     "start_time": "2020-03-21T21:42:56.928881Z"
    }
   },
   "outputs": [],
   "source": [
    "tot_funds = df.iloc[:,18:31].T.sum()"
   ]
  },
  {
   "cell_type": "code",
   "execution_count": 21,
   "metadata": {
    "ExecuteTime": {
     "end_time": "2020-03-21T21:42:57.087924Z",
     "start_time": "2020-03-21T21:42:57.080946Z"
    }
   },
   "outputs": [
    {
     "name": "stdout",
     "output_type": "stream",
     "text": [
      "There are 0 instances of larger sums of round funding than other financing data\n"
     ]
    }
   ],
   "source": [
    "print('There are {} instances of larger sums of round funding than other financing data'.format((tot_round>tot_funds).sum()))"
   ]
  },
  {
   "cell_type": "markdown",
   "metadata": {},
   "source": [
    "It seems that some funding round info is missing. Lets treat it as a categorical binary variable instead."
   ]
  },
  {
   "cell_type": "code",
   "execution_count": 22,
   "metadata": {
    "ExecuteTime": {
     "end_time": "2020-03-21T21:42:57.504599Z",
     "start_time": "2020-03-21T21:42:57.186195Z"
    }
   },
   "outputs": [],
   "source": [
    "df.iloc[:,31:40] = df.iloc[:,31:40].applymap(lambda x: 1 if x>0 else 0)"
   ]
  },
  {
   "cell_type": "code",
   "execution_count": 23,
   "metadata": {
    "ExecuteTime": {
     "end_time": "2020-03-21T21:42:57.796710Z",
     "start_time": "2020-03-21T21:42:57.514420Z"
    }
   },
   "outputs": [
    {
     "data": {
      "image/png": "[encoded data removed]",
      "text/plain": [
       "<Figure size 432x288 with 1 Axes>"
      ]
     },
     "metadata": {
      "needs_background": "light"
     },
     "output_type": "display_data"
    }
   ],
   "source": [
    "df.iloc[:,31:40].sum().plot(kind = 'barh');"
   ]
  },
  {
   "cell_type": "code",
   "execution_count": 24,
   "metadata": {
    "ExecuteTime": {
     "end_time": "2020-03-21T21:42:57.806724Z",
     "start_time": "2020-03-21T21:42:57.800177Z"
    }
   },
   "outputs": [],
   "source": [
    "def transform_data(df, how, output):\n",
    "    \n",
    "    if how == 'minmax':\n",
    "        scaler = MinMaxScaler()\n",
    "    elif how == 'standard':\n",
    "        scaler = StandardScaler()\n",
    "    else:\n",
    "        scaler = PowerTransformer()\n",
    "    \n",
    "    if output == 'df':\n",
    "        return pd.DataFrame(scaler.fit_transform(df), columns = df.columns)\n",
    "    else:\n",
    "        return scaler.fit_transform(df)"
   ]
  },
  {
   "cell_type": "markdown",
   "metadata": {},
   "source": [
    "Our data looks to be massively skewed."
   ]
  },
  {
   "cell_type": "code",
   "execution_count": 25,
   "metadata": {
    "ExecuteTime": {
     "end_time": "2020-03-21T21:42:59.204358Z",
     "start_time": "2020-03-21T21:42:58.860725Z"
    }
   },
   "outputs": [
    {
     "data": {
      "image/png": "[encoded data removed]",
      "text/plain": [
       "<Figure size 576x360 with 1 Axes>"
      ]
     },
     "metadata": {
      "needs_background": "light"
     },
     "output_type": "display_data"
    }
   ],
   "source": [
    "fig, ax = plt.subplots(figsize = (8,5))\n",
    "sns.distplot(tot_funds[(tot_funds>0)&(tot_funds<10**9)]);"
   ]
  },
  {
   "cell_type": "code",
   "execution_count": 26,
   "metadata": {
    "ExecuteTime": {
     "end_time": "2020-03-21T21:43:00.200981Z",
     "start_time": "2020-03-21T21:42:59.206228Z"
    }
   },
   "outputs": [
    {
     "data": {
      "image/png": "[encoded data removed]",
      "text/plain": [
       "<Figure size 864x576 with 1 Axes>"
      ]
     },
     "metadata": {
      "needs_background": "light"
     },
     "output_type": "display_data"
    }
   ],
   "source": [
    "temp_df = df[df['seed']<10**9]\n",
    "fig, ax = plt.subplots(figsize = (12,8))\n",
    "sns.violinplot(x = 'funding_rounds', y = 'seed', hue = 'status', data = temp_df);\n",
    "plt.show()"
   ]
  },
  {
   "cell_type": "markdown",
   "metadata": {},
   "source": [
    "### Key findings:\n",
    "\n",
    "- There is skew all over the dataset. We have some companies who've received enormous amounts of funding and others with almost nothing.\n",
    "- We see countries in "
   ]
  },
  {
   "cell_type": "markdown",
   "metadata": {},
   "source": [
    "# Feature Engineering"
   ]
  },
  {
   "cell_type": "markdown",
   "metadata": {},
   "source": [
    "#### There is much to do:\n",
    "\n",
    "- We need to sort out categories that businesses fall into\n",
    "- Names to manipulate\n",
    "- Various times to turn into useful features\n",
    "- We have many locations to minimise"
   ]
  },
  {
   "cell_type": "markdown",
   "metadata": {},
   "source": [
    "#### Create dummies for popular categories"
   ]
  },
  {
   "cell_type": "code",
   "execution_count": 27,
   "metadata": {
    "ExecuteTime": {
     "end_time": "2020-03-21T21:43:01.942964Z",
     "start_time": "2020-03-21T21:43:01.876833Z"
    }
   },
   "outputs": [],
   "source": [
    "df.category_list = df.category_list.str.replace(' ','').str.replace('|', ' ')"
   ]
  },
  {
   "cell_type": "code",
   "execution_count": 28,
   "metadata": {
    "ExecuteTime": {
     "end_time": "2020-03-21T21:43:02.201568Z",
     "start_time": "2020-03-21T21:43:02.190577Z"
    }
   },
   "outputs": [],
   "source": [
    "df.category_list = df.category_list.fillna(' ')"
   ]
  },
  {
   "cell_type": "code",
   "execution_count": 29,
   "metadata": {
    "ExecuteTime": {
     "end_time": "2020-03-21T21:43:02.269213Z",
     "start_time": "2020-03-21T21:43:02.258884Z"
    }
   },
   "outputs": [
    {
     "data": {
      "text/plain": [
       "0             Entertainment Politics SocialMedia News \n",
       "1                                               Games \n",
       "2                                Publishing Education \n",
       "3     Electronics Guides Coffee Restaurants Music i...\n",
       "4                         Tourism Entertainment Games \n",
       "Name: category_list, dtype: object"
      ]
     },
     "execution_count": 29,
     "metadata": {},
     "output_type": "execute_result"
    }
   ],
   "source": [
    "df.category_list.head()"
   ]
  },
  {
   "cell_type": "code",
   "execution_count": 30,
   "metadata": {
    "ExecuteTime": {
     "end_time": "2020-03-21T21:43:04.340957Z",
     "start_time": "2020-03-21T21:43:04.061307Z"
    }
   },
   "outputs": [],
   "source": [
    "vectoriser = CountVectorizer()\n",
    "sparse_cats = vectoriser.fit_transform(df.category_list)"
   ]
  },
  {
   "cell_type": "code",
   "execution_count": 31,
   "metadata": {
    "ExecuteTime": {
     "end_time": "2020-03-21T21:43:04.783731Z",
     "start_time": "2020-03-21T21:43:04.564763Z"
    }
   },
   "outputs": [],
   "source": [
    "cats_df = pd.DataFrame(sparse_cats.todense(), columns=vectoriser.get_feature_names())"
   ]
  },
  {
   "cell_type": "code",
   "execution_count": 32,
   "metadata": {
    "ExecuteTime": {
     "end_time": "2020-03-21T21:43:06.149431Z",
     "start_time": "2020-03-21T21:43:06.142964Z"
    }
   },
   "outputs": [
    {
     "name": "stdout",
     "output_type": "stream",
     "text": [
      "We have 831 categories. We will have to try reduce this!\n"
     ]
    }
   ],
   "source": [
    "print('We have {} categories. We will have to try reduce this!'.format(cats_df.shape[1]))"
   ]
  },
  {
   "cell_type": "code",
   "execution_count": 36,
   "metadata": {
    "ExecuteTime": {
     "end_time": "2020-03-21T16:05:52.310494Z",
     "start_time": "2020-03-21T16:05:51.050674Z"
    }
   },
   "outputs": [],
   "source": [
    "X = cats_df.copy()\n",
    "X['status'] = df.status"
   ]
  },
  {
   "cell_type": "code",
   "execution_count": 37,
   "metadata": {
    "ExecuteTime": {
     "end_time": "2020-03-21T16:06:15.034115Z",
     "start_time": "2020-03-21T16:06:13.693971Z"
    }
   },
   "outputs": [],
   "source": [
    "X.drop_duplicates(inplace = True)\n",
    "X.dropna(inplace = True)"
   ]
  },
  {
   "cell_type": "code",
   "execution_count": 38,
   "metadata": {
    "ExecuteTime": {
     "end_time": "2020-03-21T16:06:50.276074Z",
     "start_time": "2020-03-21T16:06:49.998771Z"
    }
   },
   "outputs": [],
   "source": [
    "y = X['status']\n",
    "X = X.drop(['status'], axis = 1)"
   ]
  },
  {
   "cell_type": "code",
   "execution_count": 39,
   "metadata": {
    "ExecuteTime": {
     "end_time": "2020-03-21T16:07:36.803863Z",
     "start_time": "2020-03-21T16:07:36.385806Z"
    }
   },
   "outputs": [],
   "source": [
    "scaler = StandardScaler()\n",
    "Xs = pd.DataFrame(scaler.fit_transform(X), columns = X.columns)"
   ]
  },
  {
   "cell_type": "code",
   "execution_count": 40,
   "metadata": {
    "ExecuteTime": {
     "end_time": "2020-03-21T16:24:49.522459Z",
     "start_time": "2020-03-21T16:08:56.672777Z"
    }
   },
   "outputs": [
    {
     "name": "stdout",
     "output_type": "stream",
     "text": [
      "0.8375438404278727\n",
      "{'max_depth': 10, 'n_estimators': 150}\n"
     ]
    }
   ],
   "source": [
    "param_grid = {\n",
    "    \n",
    "    'n_estimators':[150,300,450,600],\n",
    "    'max_depth':[10,15,25,None],\n",
    "    \n",
    "}\n",
    "\n",
    "grid = GridSearchCV(RandomForestClassifier(random_state = 1),\n",
    "                    param_grid,\n",
    "                    cv = 5,\n",
    "                    n_jobs = 2).fit(Xs, y)\n",
    "\n",
    "print(grid.best_score_)\n",
    "\n",
    "print(grid.best_params_)"
   ]
  },
  {
   "cell_type": "code",
   "execution_count": 43,
   "metadata": {
    "ExecuteTime": {
     "end_time": "2020-03-21T19:00:50.043623Z",
     "start_time": "2020-03-21T19:00:48.359913Z"
    }
   },
   "outputs": [],
   "source": [
    "rf_cats = RandomForestClassifier(random_state = 1,\n",
    "                    max_depth = 10,\n",
    "                    n_estimators = 150,\n",
    "                    n_jobs = 2).fit(Xs, y)"
   ]
  },
  {
   "cell_type": "code",
   "execution_count": 44,
   "metadata": {
    "ExecuteTime": {
     "end_time": "2020-03-21T19:00:52.113517Z",
     "start_time": "2020-03-21T19:00:51.997252Z"
    }
   },
   "outputs": [],
   "source": [
    "cats_imps = pd.DataFrame({'importance':rf_cats.feature_importances_,\n",
    "                     'feature':Xs.columns}).sort_values(by = 'importance')"
   ]
  },
  {
   "cell_type": "code",
   "execution_count": 53,
   "metadata": {
    "ExecuteTime": {
     "end_time": "2020-03-21T19:02:43.908505Z",
     "start_time": "2020-03-21T19:02:43.758023Z"
    },
    "scrolled": true
   },
   "outputs": [
    {
     "data": {
      "image/png": "[encoded data removed]",
      "text/plain": [
       "<Figure size 432x288 with 1 Axes>"
      ]
     },
     "metadata": {
      "needs_background": "light"
     },
     "output_type": "display_data"
    }
   ],
   "source": [
    "plt.plot(cats_imps['importance'].cumsum().values);"
   ]
  },
  {
   "cell_type": "markdown",
   "metadata": {},
   "source": [
    "At around 400 categories, they cease to maintain any importance in the model."
   ]
  },
  {
   "cell_type": "markdown",
   "metadata": {},
   "source": [
    "Lets only keep 400 for our model."
   ]
  },
  {
   "cell_type": "code",
   "execution_count": 33,
   "metadata": {
    "ExecuteTime": {
     "end_time": "2020-03-21T21:43:19.281936Z",
     "start_time": "2020-03-21T21:43:19.214389Z"
    }
   },
   "outputs": [],
   "source": [
    "num = 400\n",
    "top_cats = list(cats_df.sum().sort_values(ascending = False)[0:num].index)"
   ]
  },
  {
   "cell_type": "code",
   "execution_count": 34,
   "metadata": {
    "ExecuteTime": {
     "end_time": "2020-03-21T21:43:20.444135Z",
     "start_time": "2020-03-21T21:43:19.721021Z"
    }
   },
   "outputs": [],
   "source": [
    "df = pd.concat([cats_df[top_cats], df], axis = 1)"
   ]
  },
  {
   "cell_type": "code",
   "execution_count": 35,
   "metadata": {
    "ExecuteTime": {
     "end_time": "2020-03-21T21:43:21.465618Z",
     "start_time": "2020-03-21T21:43:21.022265Z"
    }
   },
   "outputs": [],
   "source": [
    "df.drop(['category_list', 'market'], axis = 1, inplace = True)"
   ]
  },
  {
   "cell_type": "markdown",
   "metadata": {},
   "source": [
    "#### Permalink and Name"
   ]
  },
  {
   "cell_type": "code",
   "execution_count": 36,
   "metadata": {
    "ExecuteTime": {
     "end_time": "2020-03-21T21:43:22.255257Z",
     "start_time": "2020-03-21T21:43:22.205425Z"
    }
   },
   "outputs": [
    {
     "data": {
      "text/plain": [
       "organization    49438\n",
       "Name: permalink, dtype: int64"
      ]
     },
     "execution_count": 36,
     "metadata": {},
     "output_type": "execute_result"
    }
   ],
   "source": [
    "df.permalink.apply(lambda x: x.split('/')[1] if x == str(x) else x).value_counts()"
   ]
  },
  {
   "cell_type": "code",
   "execution_count": 37,
   "metadata": {
    "ExecuteTime": {
     "end_time": "2020-03-21T21:43:22.522163Z",
     "start_time": "2020-03-21T21:43:22.412205Z"
    }
   },
   "outputs": [
    {
     "data": {
      "text/plain": [
       "treasure-valley-urology-services    2\n",
       "prysm                               2\n",
       "lagrange-systems                    1\n",
       "mashery                             1\n",
       "intimate-bridge-2-conception        1\n",
       "rocketoz                            1\n",
       "infima-technologies                 1\n",
       "netconstat                          1\n",
       "otelz-com                           1\n",
       "gezlong                             1\n",
       "Name: permalink, dtype: int64"
      ]
     },
     "execution_count": 37,
     "metadata": {},
     "output_type": "execute_result"
    }
   ],
   "source": [
    "df.permalink.apply(lambda x: x.split('/')[2] if x == str(x) else x).value_counts()[0:10]"
   ]
  },
  {
   "cell_type": "code",
   "execution_count": 38,
   "metadata": {
    "ExecuteTime": {
     "end_time": "2020-03-21T21:43:24.127364Z",
     "start_time": "2020-03-21T21:43:24.086127Z"
    }
   },
   "outputs": [
    {
     "data": {
      "text/plain": [
       "Roost       4\n",
       "Spire       4\n",
       "Hubbub      3\n",
       "Cue         3\n",
       "Shift       3\n",
       "Roadmap     3\n",
       "Compass     3\n",
       "Peach       3\n",
       "Splash      2\n",
       "Kickserv    2\n",
       "Name: name, dtype: int64"
      ]
     },
     "execution_count": 38,
     "metadata": {},
     "output_type": "execute_result"
    }
   ],
   "source": [
    "df.name.value_counts()[0:10]"
   ]
  },
  {
   "cell_type": "markdown",
   "metadata": {},
   "source": [
    "Permalink and name carry slightly different information. But permalink doesn't appear to carry any unique information over the url so we will drop it."
   ]
  },
  {
   "cell_type": "code",
   "execution_count": 39,
   "metadata": {
    "ExecuteTime": {
     "end_time": "2020-03-21T21:43:26.018027Z",
     "start_time": "2020-03-21T21:43:25.868905Z"
    }
   },
   "outputs": [],
   "source": [
    "df.drop('permalink', axis = 1, inplace = True)"
   ]
  },
  {
   "cell_type": "markdown",
   "metadata": {},
   "source": [
    "Phil Knight of Nike spoke of how certain letters in a companies name and its length make it stickier. Lets create features for each."
   ]
  },
  {
   "cell_type": "code",
   "execution_count": 40,
   "metadata": {
    "ExecuteTime": {
     "end_time": "2020-03-21T21:43:27.115134Z",
     "start_time": "2020-03-21T21:43:27.108497Z"
    }
   },
   "outputs": [
    {
     "data": {
      "text/plain": [
       "0              #waywire\n",
       "1    &TV Communications\n",
       "2     'Rock' Your Paper\n",
       "3     (In)Touch Network\n",
       "4    -R- Ranch and Mine\n",
       "Name: name, dtype: object"
      ]
     },
     "execution_count": 40,
     "metadata": {},
     "output_type": "execute_result"
    }
   ],
   "source": [
    "df.name.head()"
   ]
  },
  {
   "cell_type": "markdown",
   "metadata": {},
   "source": [
    "Get name length."
   ]
  },
  {
   "cell_type": "code",
   "execution_count": 41,
   "metadata": {
    "ExecuteTime": {
     "end_time": "2020-03-21T21:43:28.475512Z",
     "start_time": "2020-03-21T21:43:28.358198Z"
    }
   },
   "outputs": [],
   "source": [
    "df['name_len'] = df.name.apply(lambda x: len(re.sub(\"[^0-9A-Za-z]\", \"\", x)) if str(x)==x else 0)"
   ]
  },
  {
   "cell_type": "markdown",
   "metadata": {},
   "source": [
    "Sticky letters count."
   ]
  },
  {
   "cell_type": "code",
   "execution_count": 42,
   "metadata": {
    "ExecuteTime": {
     "end_time": "2020-03-21T21:43:29.044897Z",
     "start_time": "2020-03-21T21:43:28.816448Z"
    }
   },
   "outputs": [],
   "source": [
    "df['sticky_letter_count'] = df.name.\\\n",
    "                                apply(lambda x: (len(re.sub(\"[^kKyYzZxX]\", \"\", x))) if str(x)==x else 0).\\\n",
    "                                apply(lambda x: 1 if x>0 else 0)"
   ]
  },
  {
   "cell_type": "markdown",
   "metadata": {},
   "source": [
    "Count the syllables."
   ]
  },
  {
   "cell_type": "code",
   "execution_count": 43,
   "metadata": {
    "ExecuteTime": {
     "end_time": "2020-03-21T21:43:30.051766Z",
     "start_time": "2020-03-21T21:43:30.036907Z"
    }
   },
   "outputs": [],
   "source": [
    "def syllable_count(word):\n",
    "    try:\n",
    "        word = word.lower()\n",
    "        count = 0\n",
    "        vowels = \"aeiouy\"\n",
    "        if word[0] in vowels:\n",
    "            count += 1\n",
    "        for index in range(1, len(word)):\n",
    "            if word[index] in vowels and word[index - 1] not in vowels:\n",
    "                count += 1\n",
    "        if word.endswith(\"e\"):\n",
    "            count -= 1\n",
    "        if count == 0:\n",
    "            count += 1\n",
    "        return count\n",
    "    except:\n",
    "        return 0"
   ]
  },
  {
   "cell_type": "code",
   "execution_count": 44,
   "metadata": {
    "ExecuteTime": {
     "end_time": "2020-03-21T21:43:31.270901Z",
     "start_time": "2020-03-21T21:43:31.046012Z"
    }
   },
   "outputs": [],
   "source": [
    "df['syllable_count'] = df.name.apply(lambda x: syllable_count(re.sub(\"[^A-Za-z]\", \"\", x)) if str(x)==x else 0)"
   ]
  },
  {
   "cell_type": "code",
   "execution_count": 45,
   "metadata": {
    "ExecuteTime": {
     "end_time": "2020-03-21T21:43:32.167491Z",
     "start_time": "2020-03-21T21:43:31.672699Z"
    }
   },
   "outputs": [],
   "source": [
    "df.drop('name', axis = 1, inplace = True)"
   ]
  },
  {
   "cell_type": "markdown",
   "metadata": {},
   "source": [
    "We're done with names, lets now look at url."
   ]
  },
  {
   "cell_type": "code",
   "execution_count": 46,
   "metadata": {
    "ExecuteTime": {
     "end_time": "2020-03-21T21:43:33.635753Z",
     "start_time": "2020-03-21T21:43:33.461871Z"
    }
   },
   "outputs": [
    {
     "data": {
      "text/plain": [
       "com          37722\n",
       "undefined     3450\n",
       "net            927\n",
       "co             626\n",
       "org            485\n",
       "Name: homepage_url, dtype: int64"
      ]
     },
     "execution_count": 46,
     "metadata": {},
     "output_type": "execute_result"
    }
   ],
   "source": [
    "df.homepage_url.apply(lambda x: re.sub(\"[^A-Za-z.]\", \"\", x).split('.')[-1] if str(x)==x else 'undefined').value_counts().head()"
   ]
  },
  {
   "cell_type": "markdown",
   "metadata": {},
   "source": [
    "Given the quantity of .com's, its probably not worth creating a feature out of it. We don't need anything with URL so we can drop it."
   ]
  },
  {
   "cell_type": "code",
   "execution_count": 47,
   "metadata": {
    "ExecuteTime": {
     "end_time": "2020-03-21T21:43:34.948811Z",
     "start_time": "2020-03-21T21:43:34.791880Z"
    }
   },
   "outputs": [],
   "source": [
    "df.drop('homepage_url', axis = 1, inplace = True)"
   ]
  },
  {
   "cell_type": "markdown",
   "metadata": {},
   "source": [
    "#### Locations"
   ]
  },
  {
   "cell_type": "code",
   "execution_count": 48,
   "metadata": {
    "ExecuteTime": {
     "end_time": "2020-03-21T22:15:55.874203Z",
     "start_time": "2020-03-21T21:43:43.439747Z"
    }
   },
   "outputs": [
    {
     "name": "stdout",
     "output_type": "stream",
     "text": [
      "We have 4187 location. We will have to try reduce this!\n",
      "0.7400709059548483\n",
      "{'max_depth': 10, 'n_estimators': 150}\n"
     ]
    }
   ],
   "source": [
    "locs_df = pd.get_dummies(df.city, drop_first = True)\n",
    "\n",
    "print('We have {} location. We will have to try reduce this!'.format(locs_df.shape[1]))\n",
    "\n",
    "X = locs_df.copy()\n",
    "X['status'] = df.status\n",
    "\n",
    "X.drop_duplicates(inplace = True)\n",
    "X.dropna(inplace = True)\n",
    "\n",
    "y = X['status']\n",
    "X = X.drop(['status'], axis = 1)\n",
    "\n",
    "scaler = StandardScaler()\n",
    "Xs = pd.DataFrame(scaler.fit_transform(X), columns = X.columns)\n",
    "\n",
    "param_grid = {\n",
    "    \n",
    "    'n_estimators':[150,300,450,600],\n",
    "    'max_depth':[10,15,25,None],\n",
    "    \n",
    "}\n",
    "\n",
    "grid = GridSearchCV(RandomForestClassifier(random_state = 1),\n",
    "                    param_grid,\n",
    "                    cv = 5,\n",
    "                    n_jobs = 2).fit(Xs, y)\n",
    "\n",
    "print(grid.best_score_)\n",
    "\n",
    "print(grid.best_params_)"
   ]
  },
  {
   "cell_type": "code",
   "execution_count": 49,
   "metadata": {
    "ExecuteTime": {
     "end_time": "2020-03-21T22:21:09.887058Z",
     "start_time": "2020-03-21T22:21:08.607270Z"
    }
   },
   "outputs": [],
   "source": [
    "rf_locs = RandomForestClassifier(random_state = 1,\n",
    "                    max_depth = 10,\n",
    "                    n_estimators = 150,\n",
    "                    n_jobs = 2).fit(Xs, y)"
   ]
  },
  {
   "cell_type": "code",
   "execution_count": 51,
   "metadata": {
    "ExecuteTime": {
     "end_time": "2020-03-21T22:21:45.027824Z",
     "start_time": "2020-03-21T22:21:44.900856Z"
    }
   },
   "outputs": [],
   "source": [
    "locs_imps = pd.DataFrame({'importance':rf_locs.feature_importances_,\n",
    "                     'feature':Xs.columns}).sort_values(by = 'importance')"
   ]
  },
  {
   "cell_type": "code",
   "execution_count": 52,
   "metadata": {
    "ExecuteTime": {
     "end_time": "2020-03-21T22:21:59.095907Z",
     "start_time": "2020-03-21T22:21:58.942637Z"
    }
   },
   "outputs": [
    {
     "data": {
      "image/png": "[encoded data removed]",
      "text/plain": [
       "<Figure size 432x288 with 1 Axes>"
      ]
     },
     "metadata": {
      "needs_background": "light"
     },
     "output_type": "display_data"
    }
   ],
   "source": [
    "plt.plot(locs_imps['importance'].cumsum().values);"
   ]
  },
  {
   "cell_type": "code",
   "execution_count": 116,
   "metadata": {
    "ExecuteTime": {
     "end_time": "2020-03-22T20:48:58.917492Z",
     "start_time": "2020-03-22T20:48:58.912081Z"
    }
   },
   "outputs": [],
   "source": [
    "locs_imps['cum_importance'] = locs_imps['importance'].cumsum()"
   ]
  },
  {
   "cell_type": "code",
   "execution_count": 120,
   "metadata": {
    "ExecuteTime": {
     "end_time": "2020-03-22T20:50:46.046235Z",
     "start_time": "2020-03-22T20:50:46.038813Z"
    }
   },
   "outputs": [
    {
     "data": {
      "text/plain": [
       "670"
      ]
     },
     "execution_count": 120,
     "metadata": {},
     "output_type": "execute_result"
    }
   ],
   "source": [
    "locs_imps[locs_imps['cum_importance']>0.05].shape[0]"
   ]
  },
  {
   "cell_type": "code",
   "execution_count": 53,
   "metadata": {
    "ExecuteTime": {
     "end_time": "2020-03-21T22:22:50.124075Z",
     "start_time": "2020-03-21T22:22:50.112634Z"
    }
   },
   "outputs": [],
   "source": [
    "num_cities = 700\n",
    "city_list = list(df.city.value_counts()[:num_cities].index)"
   ]
  },
  {
   "cell_type": "code",
   "execution_count": 54,
   "metadata": {
    "ExecuteTime": {
     "end_time": "2020-03-21T22:22:51.986010Z",
     "start_time": "2020-03-21T22:22:51.743777Z"
    }
   },
   "outputs": [],
   "source": [
    "df.city = df.city.apply(lambda x: x.lower() if x in city_list else 'other_location')"
   ]
  },
  {
   "cell_type": "code",
   "execution_count": 55,
   "metadata": {
    "ExecuteTime": {
     "end_time": "2020-03-21T22:22:53.498345Z",
     "start_time": "2020-03-21T22:22:53.076579Z"
    }
   },
   "outputs": [],
   "source": [
    "df = pd.concat([pd.get_dummies(df.city, drop_first = True), df], axis = 1)"
   ]
  },
  {
   "cell_type": "code",
   "execution_count": 56,
   "metadata": {
    "ExecuteTime": {
     "end_time": "2020-03-21T22:22:55.054994Z",
     "start_time": "2020-03-21T22:22:54.671700Z"
    }
   },
   "outputs": [],
   "source": [
    "df.drop(['state_code', 'region', 'city', 'country_code'], axis = 1, inplace = True)"
   ]
  },
  {
   "cell_type": "markdown",
   "metadata": {},
   "source": [
    "#### Date"
   ]
  },
  {
   "cell_type": "code",
   "execution_count": 57,
   "metadata": {
    "ExecuteTime": {
     "end_time": "2020-03-21T22:22:57.173639Z",
     "start_time": "2020-03-21T22:22:57.158318Z"
    }
   },
   "outputs": [
    {
     "data": {
      "text/plain": [
       "founded_month      10957\n",
       "founded_quarter    10957\n",
       "founded_year       10957\n",
       "dtype: int64"
      ]
     },
     "execution_count": 57,
     "metadata": {},
     "output_type": "execute_result"
    }
   ],
   "source": [
    "df[['founded_month', 'founded_quarter', 'founded_year']].isnull().sum()"
   ]
  },
  {
   "cell_type": "code",
   "execution_count": 58,
   "metadata": {
    "ExecuteTime": {
     "end_time": "2020-03-21T22:22:59.209479Z",
     "start_time": "2020-03-21T22:22:59.023071Z"
    }
   },
   "outputs": [],
   "source": [
    "df.drop(['founded_month', 'founded_quarter', 'founded_year'], axis = 1, inplace = True)"
   ]
  },
  {
   "cell_type": "code",
   "execution_count": 59,
   "metadata": {
    "ExecuteTime": {
     "end_time": "2020-03-21T22:23:00.441035Z",
     "start_time": "2020-03-21T22:23:00.407388Z"
    }
   },
   "outputs": [],
   "source": [
    "df['datetime'] = pd.to_datetime(df.founded_at, errors='coerce')"
   ]
  },
  {
   "cell_type": "code",
   "execution_count": 60,
   "metadata": {
    "ExecuteTime": {
     "end_time": "2020-03-21T22:23:01.749072Z",
     "start_time": "2020-03-21T22:23:01.689148Z"
    }
   },
   "outputs": [],
   "source": [
    "df['year_founded'] = df['datetime'].dt.year"
   ]
  },
  {
   "cell_type": "code",
   "execution_count": 61,
   "metadata": {
    "ExecuteTime": {
     "end_time": "2020-03-21T22:23:03.007762Z",
     "start_time": "2020-03-21T22:23:02.996678Z"
    }
   },
   "outputs": [],
   "source": [
    "df['month_founded'] = df['datetime'].dt.month"
   ]
  },
  {
   "cell_type": "code",
   "execution_count": 62,
   "metadata": {
    "ExecuteTime": {
     "end_time": "2020-03-21T22:23:04.552852Z",
     "start_time": "2020-03-21T22:23:04.515606Z"
    }
   },
   "outputs": [],
   "source": [
    "df['first_funding_year'] = pd.to_datetime(df['first_funding_at'], errors='coerce').dt.year\n",
    "df['first_funding_month'] = pd.to_datetime(df['first_funding_at'], errors='coerce').dt.month"
   ]
  },
  {
   "cell_type": "code",
   "execution_count": 63,
   "metadata": {
    "ExecuteTime": {
     "end_time": "2020-03-21T22:23:06.008112Z",
     "start_time": "2020-03-21T22:23:05.662932Z"
    }
   },
   "outputs": [
    {
     "data": {
      "image/png": "[encoded data removed]",
      "text/plain": [
       "<Figure size 432x288 with 1 Axes>"
      ]
     },
     "metadata": {
      "needs_background": "light"
     },
     "output_type": "display_data"
    }
   ],
   "source": [
    "(pd.to_datetime(df['first_funding_at'], errors='coerce') - df['datetime']).dropna().dt.days.hist(bins = 100);"
   ]
  },
  {
   "cell_type": "code",
   "execution_count": 64,
   "metadata": {
    "ExecuteTime": {
     "end_time": "2020-03-21T22:23:07.098985Z",
     "start_time": "2020-03-21T22:23:07.077611Z"
    }
   },
   "outputs": [],
   "source": [
    "df['days_to_funded'] = (pd.to_datetime(df['first_funding_at'], errors='coerce') - df['datetime']).dt.days"
   ]
  },
  {
   "cell_type": "code",
   "execution_count": 65,
   "metadata": {
    "ExecuteTime": {
     "end_time": "2020-03-21T22:23:08.457835Z",
     "start_time": "2020-03-21T22:23:08.277977Z"
    }
   },
   "outputs": [],
   "source": [
    "df.drop(['founded_at', 'first_funding_at', 'last_funding_at', 'datetime'], axis = 1, inplace = True)"
   ]
  },
  {
   "cell_type": "code",
   "execution_count": 66,
   "metadata": {
    "ExecuteTime": {
     "end_time": "2020-03-21T22:23:09.648310Z",
     "start_time": "2020-03-21T22:23:09.628692Z"
    }
   },
   "outputs": [],
   "source": [
    "df['days_to_funded'] = df['days_to_funded'].apply(lambda x: np.nan if x<0 else x)"
   ]
  },
  {
   "cell_type": "markdown",
   "metadata": {},
   "source": [
    "# Data imputation"
   ]
  },
  {
   "cell_type": "code",
   "execution_count": 67,
   "metadata": {
    "ExecuteTime": {
     "end_time": "2020-03-21T22:23:10.930273Z",
     "start_time": "2020-03-21T22:23:10.776302Z"
    }
   },
   "outputs": [
    {
     "data": {
      "text/plain": [
       "days_to_funded         13631\n",
       "month_founded          10886\n",
       "year_founded           10886\n",
       "funding_total_usd       8532\n",
       "status                  1315\n",
       "first_funding_year        11\n",
       "first_funding_month       11\n",
       "debt_financing             1\n",
       "private_equity             1\n",
       "grant                      1\n",
       "angel                      1\n",
       "equity_crowdfunding        1\n",
       "convertible_note           1\n",
       "undisclosed                1\n",
       "post_ipo_debt              1\n",
       "seed                       1\n",
       "funding_rounds             1\n",
       "post_ipo_equity            1\n",
       "venture                    1\n",
       "secondary_market           1\n",
       "dtype: int64"
      ]
     },
     "execution_count": 67,
     "metadata": {},
     "output_type": "execute_result"
    }
   ],
   "source": [
    "df.isnull().sum().sort_values(ascending = False).head(20)"
   ]
  },
  {
   "cell_type": "markdown",
   "metadata": {},
   "source": [
    "We will need to reverse days_to_funded to penalise the nulls we will be imputing."
   ]
  },
  {
   "cell_type": "code",
   "execution_count": 68,
   "metadata": {
    "ExecuteTime": {
     "end_time": "2020-03-21T22:23:12.834942Z",
     "start_time": "2020-03-21T22:23:12.823877Z"
    }
   },
   "outputs": [],
   "source": [
    "df['days_to_funded'] = transform_data(df[['days_to_funded']], 'minmax', 'df')['days_to_funded'].fillna(1)"
   ]
  },
  {
   "cell_type": "code",
   "execution_count": 69,
   "metadata": {
    "ExecuteTime": {
     "end_time": "2020-03-21T22:23:14.183183Z",
     "start_time": "2020-03-21T22:23:14.175015Z"
    }
   },
   "outputs": [],
   "source": [
    "df['funding_total_usd'] = df['funding_total_usd'].fillna(0)"
   ]
  },
  {
   "cell_type": "code",
   "execution_count": 70,
   "metadata": {
    "ExecuteTime": {
     "end_time": "2020-03-21T22:23:30.194734Z",
     "start_time": "2020-03-21T22:23:15.486147Z"
    }
   },
   "outputs": [],
   "source": [
    "df.fillna(df.median(), inplace = True)"
   ]
  },
  {
   "cell_type": "code",
   "execution_count": 71,
   "metadata": {
    "ExecuteTime": {
     "end_time": "2020-03-21T22:23:31.431340Z",
     "start_time": "2020-03-21T22:23:31.278660Z"
    }
   },
   "outputs": [
    {
     "data": {
      "text/plain": [
       "malvern              0\n",
       "malmö                0\n",
       "maplewood            0\n",
       "days_to_funded       0\n",
       "status            1315\n",
       "dtype: int64"
      ]
     },
     "execution_count": 71,
     "metadata": {},
     "output_type": "execute_result"
    }
   ],
   "source": [
    "df.isnull().sum().sort_values().tail()"
   ]
  },
  {
   "cell_type": "code",
   "execution_count": 72,
   "metadata": {
    "ExecuteTime": {
     "end_time": "2020-03-21T22:23:34.356837Z",
     "start_time": "2020-03-21T22:23:32.614400Z"
    }
   },
   "outputs": [],
   "source": [
    "df.drop_duplicates(inplace = True)\n",
    "df.dropna(inplace = True)"
   ]
  },
  {
   "cell_type": "markdown",
   "metadata": {},
   "source": [
    "Lets now dummify month_founded, year_founded, first_funding_year, first_funding_month."
   ]
  },
  {
   "cell_type": "code",
   "execution_count": 73,
   "metadata": {
    "ExecuteTime": {
     "end_time": "2020-03-21T22:23:36.079127Z",
     "start_time": "2020-03-21T22:23:35.599736Z"
    }
   },
   "outputs": [],
   "source": [
    "dates_cols = ['month_founded', 'year_founded', 'first_funding_year', 'first_funding_month']\n",
    "\n",
    "df = pd.concat([df.drop(dates_cols, axis = 1),\n",
    "                pd.get_dummies(df[dates_cols].astype(str))],\n",
    "                axis = 1, sort = True)"
   ]
  },
  {
   "cell_type": "markdown",
   "metadata": {},
   "source": [
    "# Reducing Dimensionality"
   ]
  },
  {
   "cell_type": "code",
   "execution_count": 155,
   "metadata": {
    "ExecuteTime": {
     "end_time": "2020-03-24T17:40:58.330145Z",
     "start_time": "2020-03-24T17:40:58.315860Z"
    }
   },
   "outputs": [],
   "source": [
    "from sklearn.decomposition import PCA"
   ]
  },
  {
   "cell_type": "code",
   "execution_count": 165,
   "metadata": {
    "ExecuteTime": {
     "end_time": "2020-03-24T17:49:55.375022Z",
     "start_time": "2020-03-24T17:49:55.369556Z"
    }
   },
   "outputs": [],
   "source": [
    "pca = PCA(n_components=Xs.shape[1])\n",
    "pca.fit_transform(Xs)"
   ]
  },
  {
   "cell_type": "code",
   "execution_count": 164,
   "metadata": {
    "ExecuteTime": {
     "end_time": "2020-03-24T17:49:44.669824Z",
     "start_time": "2020-03-24T17:49:44.504134Z"
    }
   },
   "outputs": [
    {
     "data": {
      "image/png": "[encoded data removed]",
      "text/plain": [
       "<Figure size 432x288 with 1 Axes>"
      ]
     },
     "metadata": {
      "needs_background": "light"
     },
     "output_type": "display_data"
    }
   ],
   "source": [
    "plt.plot(pca.explained_variance_ratio_.cumsum());"
   ]
  },
  {
   "cell_type": "markdown",
   "metadata": {},
   "source": [
    "It looks like it would be a bad idea to reduce the number of components. We can't meaningfully remove components and maintain sufficient variance."
   ]
  },
  {
   "cell_type": "markdown",
   "metadata": {},
   "source": [
    "# Modelling"
   ]
  },
  {
   "cell_type": "code",
   "execution_count": 74,
   "metadata": {
    "ExecuteTime": {
     "end_time": "2020-03-21T22:23:37.307137Z",
     "start_time": "2020-03-21T22:23:37.288328Z"
    }
   },
   "outputs": [
    {
     "data": {
      "text/plain": [
       "operating    41802\n",
       "acquired      3692\n",
       "closed        2603\n",
       "Name: status, dtype: int64"
      ]
     },
     "execution_count": 74,
     "metadata": {},
     "output_type": "execute_result"
    }
   ],
   "source": [
    "df['status'].value_counts()"
   ]
  },
  {
   "cell_type": "code",
   "execution_count": 75,
   "metadata": {
    "ExecuteTime": {
     "end_time": "2020-03-21T22:23:39.726283Z",
     "start_time": "2020-03-21T22:23:39.691436Z"
    }
   },
   "outputs": [
    {
     "name": "stdout",
     "output_type": "stream",
     "text": [
      "0.869\n"
     ]
    }
   ],
   "source": [
    "print(round(df.status.value_counts(normalize = True),3).max())"
   ]
  },
  {
   "cell_type": "code",
   "execution_count": 76,
   "metadata": {
    "ExecuteTime": {
     "end_time": "2020-03-21T22:23:45.087822Z",
     "start_time": "2020-03-21T22:23:44.675310Z"
    }
   },
   "outputs": [],
   "source": [
    "X = df.drop('status', axis = 1)\n",
    "        \n",
    "y = df[['status']]"
   ]
  },
  {
   "cell_type": "code",
   "execution_count": 77,
   "metadata": {
    "ExecuteTime": {
     "end_time": "2020-03-21T22:23:48.738568Z",
     "start_time": "2020-03-21T22:23:46.197323Z"
    }
   },
   "outputs": [],
   "source": [
    "scaler = StandardScaler()\n",
    "Xs = pd.DataFrame(scaler.fit_transform(X), columns = X.columns)"
   ]
  },
  {
   "cell_type": "code",
   "execution_count": 78,
   "metadata": {
    "ExecuteTime": {
     "end_time": "2020-03-21T22:23:49.789300Z",
     "start_time": "2020-03-21T22:23:49.749742Z"
    }
   },
   "outputs": [],
   "source": [
    "y = y.replace({'closed':0,\n",
    "               'operating':1,\n",
    "               'acquired': 2})"
   ]
  },
  {
   "cell_type": "markdown",
   "metadata": {},
   "source": [
    "# Model 1 - adjusting weights"
   ]
  },
  {
   "cell_type": "code",
   "execution_count": 83,
   "metadata": {
    "ExecuteTime": {
     "end_time": "2020-03-21T22:27:12.293051Z",
     "start_time": "2020-03-21T22:27:11.288697Z"
    }
   },
   "outputs": [],
   "source": [
    "X_train, X_test, y_train, y_test = train_test_split(Xs, y['status'],\n",
    "                                                    test_size = 0.1,\n",
    "                                                    random_state = 1,\n",
    "                                                    stratify = y,\n",
    "                                                    shuffle = True)"
   ]
  },
  {
   "cell_type": "code",
   "execution_count": 85,
   "metadata": {
    "ExecuteTime": {
     "end_time": "2020-03-21T22:27:24.027925Z",
     "start_time": "2020-03-21T22:27:24.015760Z"
    }
   },
   "outputs": [],
   "source": [
    "class_weights = class_weight.compute_class_weight('balanced',\n",
    "                                                 np.unique(y_train),\n",
    "                                                 y_train)"
   ]
  },
  {
   "cell_type": "code",
   "execution_count": 94,
   "metadata": {
    "ExecuteTime": {
     "end_time": "2020-03-21T22:34:22.833922Z",
     "start_time": "2020-03-21T22:34:22.830349Z"
    }
   },
   "outputs": [],
   "source": [
    "class_weights = dict(zip([0,1,2], class_weights))"
   ]
  },
  {
   "cell_type": "code",
   "execution_count": 95,
   "metadata": {
    "ExecuteTime": {
     "end_time": "2020-03-21T23:16:27.706188Z",
     "start_time": "2020-03-21T22:34:24.182174Z"
    }
   },
   "outputs": [
    {
     "name": "stdout",
     "output_type": "stream",
     "text": [
      "0.8691062153578036\n",
      "{'max_depth': None, 'n_estimators': 150}\n"
     ]
    }
   ],
   "source": [
    "param_grid = {\n",
    "    \n",
    "    'n_estimators':[150,300,500,700],\n",
    "    'max_depth':[5,7,10,15,None],\n",
    "    \n",
    "}\n",
    "\n",
    "grid = GridSearchCV(RandomForestClassifier(random_state = 1, class_weight=class_weights),\n",
    "                    param_grid,\n",
    "                    cv = 5,\n",
    "                    n_jobs = 2).fit(X_train, y_train)\n",
    "\n",
    "print(grid.best_score_)\n",
    "\n",
    "print(grid.best_params_)\n"
   ]
  },
  {
   "cell_type": "code",
   "execution_count": 97,
   "metadata": {
    "ExecuteTime": {
     "end_time": "2020-03-21T23:27:11.309925Z",
     "start_time": "2020-03-21T23:27:11.302842Z"
    }
   },
   "outputs": [],
   "source": [
    "def plot_confusion(cm):\n",
    "    plt.figure(figsize=(6,6))\n",
    "    ax = sns.heatmap(cm, annot=True, fmt=\".0f\", linewidths=.5, square = True,  cmap = 'coolwarm')\n",
    "    bottom, top = ax.get_ylim()\n",
    "    ax.set_ylim(bottom + 0.5, top - 0.5)\n",
    "    plt.ylabel('Actual label');\n",
    "    plt.xlabel('Predicted label');\n",
    "    plt.xticks([i-0.5 for i in range(1,4)], ['closed', 'open', 'acquired'])\n",
    "    plt.yticks([i-0.5 for i in range(1,4)], ['closed', 'open', 'acquired'])"
   ]
  },
  {
   "cell_type": "code",
   "execution_count": 123,
   "metadata": {
    "ExecuteTime": {
     "end_time": "2020-03-22T20:56:54.668681Z",
     "start_time": "2020-03-22T20:53:14.627892Z"
    }
   },
   "outputs": [
    {
     "name": "stdout",
     "output_type": "stream",
     "text": [
      "0.8687827910191315\n",
      "[0.86867637 0.86821437 0.86923877 0.86831466 0.86946979]\n"
     ]
    },
    {
     "data": {
      "image/png": "[encoded data removed]",
      "text/plain": [
       "<Figure size 432x432 with 2 Axes>"
      ]
     },
     "metadata": {
      "needs_background": "light"
     },
     "output_type": "display_data"
    }
   ],
   "source": [
    "clf = RandomForestClassifier(random_state = 1,\n",
    "                             max_depth =  None,\n",
    "                             n_estimators = 100,\n",
    "                             class_weight=class_weights).fit(X_train, y_train)\n",
    "\n",
    "imps = pd.DataFrame({'importance':clf.feature_importances_,\n",
    "                     'feature':X_train.columns})\n",
    "\n",
    "imps.sort_values(by = 'importance').tail(10)\n",
    "\n",
    "cross_val_scores = cross_val_score(clf, X_train, y_train, cv = 5)\n",
    "print(cross_val_scores.mean())\n",
    "print(cross_val_scores)\n",
    "\n",
    "preds = clf.predict(X_test)\n",
    "cm_rf = confusion_matrix(y_test, preds)\n",
    "plot_confusion(cm_rf)"
   ]
  },
  {
   "cell_type": "code",
   "execution_count": 124,
   "metadata": {
    "ExecuteTime": {
     "end_time": "2020-03-22T20:57:03.223398Z",
     "start_time": "2020-03-22T20:57:03.208888Z"
    }
   },
   "outputs": [
    {
     "name": "stdout",
     "output_type": "stream",
     "text": [
      "              precision    recall  f1-score   support\n",
      "\n",
      "           0       0.40      0.01      0.02       260\n",
      "           1       0.87      1.00      0.93      4181\n",
      "           2       0.71      0.01      0.03       369\n",
      "\n",
      "    accuracy                           0.87      4810\n",
      "   macro avg       0.66      0.34      0.32      4810\n",
      "weighted avg       0.83      0.87      0.81      4810\n",
      "\n"
     ]
    }
   ],
   "source": [
    "print(classification_report(y_test, preds))"
   ]
  },
  {
   "cell_type": "markdown",
   "metadata": {},
   "source": [
    "## SVC"
   ]
  },
  {
   "cell_type": "code",
   "execution_count": 141,
   "metadata": {
    "ExecuteTime": {
     "end_time": "2020-03-24T14:27:55.251830Z",
     "start_time": "2020-03-24T12:47:01.641499Z"
    }
   },
   "outputs": [
    {
     "name": "stdout",
     "output_type": "stream",
     "text": [
      "0.8107976381371769\n",
      "{'C': 3.727593720314938, 'penalty': 'l2'}\n"
     ]
    }
   ],
   "source": [
    "param_grid = {\n",
    "    \n",
    "    'C':np.logspace(-2,4,15),\n",
    "    'penalty':['l1', 'l2']\n",
    "    \n",
    "}\n",
    "\n",
    "grid = GridSearchCV(LinearSVC(random_state = 1,\n",
    "                             multi_class =  'ovr',\n",
    "                             penalty = 'l2',\n",
    "                             loss = 'hinge',\n",
    "                             class_weight=class_weights),\n",
    "                    param_grid,\n",
    "                    cv = 2,\n",
    "                    n_jobs = 1).fit(X_train, y_train)\n",
    "\n",
    "print(grid.best_score_)\n",
    "\n",
    "print(grid.best_params_)\n"
   ]
  },
  {
   "cell_type": "code",
   "execution_count": 142,
   "metadata": {
    "ExecuteTime": {
     "end_time": "2020-03-24T14:59:14.723921Z",
     "start_time": "2020-03-24T14:51:34.078084Z"
    }
   },
   "outputs": [],
   "source": [
    "from sklearn.svm import LinearSVC\n",
    "svm = LinearSVC(random_state = 1,\n",
    "                             multi_class =  'ovr',\n",
    "                             C = 3.727593720314938,\n",
    "                             penalty = 'l2',\n",
    "                             class_weight=class_weights).fit(X_train, y_train)\n"
   ]
  },
  {
   "cell_type": "code",
   "execution_count": 143,
   "metadata": {
    "ExecuteTime": {
     "end_time": "2020-03-24T14:59:27.242870Z",
     "start_time": "2020-03-24T14:59:26.656524Z"
    }
   },
   "outputs": [
    {
     "data": {
      "image/png": "[encoded data removed]",
      "text/plain": [
       "<Figure size 432x432 with 2 Axes>"
      ]
     },
     "metadata": {
      "needs_background": "light"
     },
     "output_type": "display_data"
    }
   ],
   "source": [
    "preds = svm.predict(X_test)\n",
    "cm_svm = confusion_matrix(y_test, preds)\n",
    "plot_confusion(cm_svm)"
   ]
  },
  {
   "cell_type": "code",
   "execution_count": 144,
   "metadata": {
    "ExecuteTime": {
     "end_time": "2020-03-24T14:59:37.419175Z",
     "start_time": "2020-03-24T14:59:37.395217Z"
    }
   },
   "outputs": [
    {
     "name": "stdout",
     "output_type": "stream",
     "text": [
      "              precision    recall  f1-score   support\n",
      "\n",
      "           0       0.15      0.10      0.12       260\n",
      "           1       0.89      0.92      0.90      4181\n",
      "           2       0.22      0.19      0.20       369\n",
      "\n",
      "    accuracy                           0.82      4810\n",
      "   macro avg       0.42      0.40      0.41      4810\n",
      "weighted avg       0.80      0.82      0.81      4810\n",
      "\n"
     ]
    }
   ],
   "source": [
    "print(classification_report(y_test, preds))"
   ]
  },
  {
   "cell_type": "code",
   "execution_count": 147,
   "metadata": {
    "ExecuteTime": {
     "end_time": "2020-03-24T17:19:52.732562Z",
     "start_time": "2020-03-24T15:49:31.317912Z"
    }
   },
   "outputs": [
    {
     "name": "stdout",
     "output_type": "stream",
     "text": [
      "0.4781931826866767\n",
      "{'C': 0.01, 'penalty': 'l2'}\n"
     ]
    }
   ],
   "source": [
    "param_grid = {\n",
    "    \n",
    "    'C':np.logspace(-2,4,15),\n",
    "    'penalty':['l1', 'l2']\n",
    "    \n",
    "}\n",
    "\n",
    "grid = GridSearchCV(LinearSVC(random_state = 1,\n",
    "                             multi_class =  'ovr',\n",
    "                             penalty = 'l2',\n",
    "                             loss = 'hinge',\n",
    "                             class_weight=class_weights),\n",
    "                    param_grid,\n",
    "                    cv = 2,\n",
    "                    scoring = 'f1_macro',\n",
    "                    n_jobs = 1).fit(X_train, y_train)\n",
    "\n",
    "print(grid.best_score_)\n",
    "\n",
    "print(grid.best_params_)\n"
   ]
  },
  {
   "cell_type": "code",
   "execution_count": 149,
   "metadata": {
    "ExecuteTime": {
     "end_time": "2020-03-24T17:30:20.217309Z",
     "start_time": "2020-03-24T17:23:51.815032Z"
    }
   },
   "outputs": [],
   "source": [
    "svm = LinearSVC(random_state = 1,\n",
    "                             multi_class =  'ovr',\n",
    "                             C = 0.4781931826866767,\n",
    "                             penalty = 'l2',\n",
    "                             loss = 'hinge',\n",
    "                             class_weight=class_weights).fit(X_train, y_train)\n"
   ]
  },
  {
   "cell_type": "code",
   "execution_count": 152,
   "metadata": {
    "ExecuteTime": {
     "end_time": "2020-03-24T17:33:05.677835Z",
     "start_time": "2020-03-24T17:33:04.886978Z"
    }
   },
   "outputs": [
    {
     "name": "stdout",
     "output_type": "stream",
     "text": [
      "0.8230646614456997\n",
      "0.8035343035343036\n"
     ]
    }
   ],
   "source": [
    "print(svm.score(X_train, y_train))\n",
    "print(svm.score(X_test, y_test))"
   ]
  },
  {
   "cell_type": "code",
   "execution_count": 150,
   "metadata": {
    "ExecuteTime": {
     "end_time": "2020-03-24T17:30:32.538685Z",
     "start_time": "2020-03-24T17:30:32.267015Z"
    }
   },
   "outputs": [
    {
     "data": {
      "image/png": "[encoded data removed]",
      "text/plain": [
       "<Figure size 432x432 with 2 Axes>"
      ]
     },
     "metadata": {
      "needs_background": "light"
     },
     "output_type": "display_data"
    }
   ],
   "source": [
    "preds = svm.predict(X_test)\n",
    "cm_svm = confusion_matrix(y_test, preds)\n",
    "plot_confusion(cm_svm)"
   ]
  },
  {
   "cell_type": "code",
   "execution_count": 151,
   "metadata": {
    "ExecuteTime": {
     "end_time": "2020-03-24T17:30:42.895948Z",
     "start_time": "2020-03-24T17:30:42.882455Z"
    }
   },
   "outputs": [
    {
     "name": "stdout",
     "output_type": "stream",
     "text": [
      "              precision    recall  f1-score   support\n",
      "\n",
      "           0       0.20      0.28      0.23       260\n",
      "           1       0.92      0.87      0.90      4181\n",
      "           2       0.31      0.42      0.36       369\n",
      "\n",
      "    accuracy                           0.80      4810\n",
      "   macro avg       0.48      0.52      0.49      4810\n",
      "weighted avg       0.84      0.80      0.82      4810\n",
      "\n"
     ]
    }
   ],
   "source": [
    "print(classification_report(y_test, preds))"
   ]
  },
  {
   "cell_type": "markdown",
   "metadata": {},
   "source": [
    "# Model 2 - random under sampling"
   ]
  },
  {
   "cell_type": "code",
   "execution_count": 109,
   "metadata": {
    "ExecuteTime": {
     "end_time": "2020-03-20T19:53:07.264331Z",
     "start_time": "2020-03-20T19:53:07.172650Z"
    }
   },
   "outputs": [],
   "source": [
    "rus = RandomUnderSampler(replacement = True)\n",
    "X_train_u, y_train_u = rus.fit_resample(X_train, y_train)\n",
    "X_train_u = pd.DataFrame(X_train_u, columns = Xs.columns)"
   ]
  },
  {
   "cell_type": "code",
   "execution_count": 90,
   "metadata": {
    "ExecuteTime": {
     "end_time": "2020-03-20T19:02:07.177706Z",
     "start_time": "2020-03-20T19:02:07.168769Z"
    }
   },
   "outputs": [
    {
     "data": {
      "text/plain": [
       "2603"
      ]
     },
     "execution_count": 90,
     "metadata": {},
     "output_type": "execute_result"
    }
   ],
   "source": [
    "pd.DataFrame(y_train_u)[0].value_counts().max()"
   ]
  },
  {
   "cell_type": "code",
   "execution_count": 91,
   "metadata": {
    "ExecuteTime": {
     "end_time": "2020-03-20T19:02:07.930192Z",
     "start_time": "2020-03-20T19:02:07.918986Z"
    }
   },
   "outputs": [
    {
     "data": {
      "text/plain": [
       "0.333"
      ]
     },
     "execution_count": 91,
     "metadata": {},
     "output_type": "execute_result"
    }
   ],
   "source": [
    "round(pd.DataFrame(y_train_u)[0].value_counts(normalize = True).max(),3)"
   ]
  },
  {
   "cell_type": "markdown",
   "metadata": {
    "ExecuteTime": {
     "end_time": "2020-03-18T18:54:21.212948Z",
     "start_time": "2020-03-18T18:54:21.206497Z"
    }
   },
   "source": [
    "#### Logistic Regression"
   ]
  },
  {
   "cell_type": "code",
   "execution_count": 111,
   "metadata": {
    "ExecuteTime": {
     "end_time": "2020-03-20T20:12:03.567041Z",
     "start_time": "2020-03-20T19:53:31.058440Z"
    }
   },
   "outputs": [],
   "source": [
    "param_grid_lr = {\n",
    "    \n",
    "    'C': np.logspace(-4,4,10),\n",
    "    'penalty': ['l1', 'l2'],\n",
    "    \n",
    "}\n",
    "\n",
    "grid_lr = GridSearchCV(LogisticRegression(random_state = 1, max_iter = 500, solver = 'saga'),\n",
    "                       param_grid_lr,\n",
    "                       cv = 5,\n",
    "                       n_jobs = 2).fit(X_train_u, y_train_u)"
   ]
  },
  {
   "cell_type": "code",
   "execution_count": 112,
   "metadata": {
    "ExecuteTime": {
     "end_time": "2020-03-20T20:12:04.353199Z",
     "start_time": "2020-03-20T20:12:04.311433Z"
    }
   },
   "outputs": [
    {
     "data": {
      "text/plain": [
       "0.6211426372992209"
      ]
     },
     "execution_count": 112,
     "metadata": {},
     "output_type": "execute_result"
    }
   ],
   "source": [
    "grid_lr.best_score_"
   ]
  },
  {
   "cell_type": "code",
   "execution_count": 118,
   "metadata": {
    "ExecuteTime": {
     "end_time": "2020-03-20T20:19:14.041154Z",
     "start_time": "2020-03-20T20:19:14.035239Z"
    }
   },
   "outputs": [
    {
     "name": "stdout",
     "output_type": "stream",
     "text": [
      "{'C': 0.046415888336127774, 'penalty': 'l2'}\n"
     ]
    }
   ],
   "source": [
    "print(grid_lr.best_params_)"
   ]
  },
  {
   "cell_type": "code",
   "execution_count": 114,
   "metadata": {
    "ExecuteTime": {
     "end_time": "2020-03-20T20:15:34.603562Z",
     "start_time": "2020-03-20T20:12:05.376200Z"
    }
   },
   "outputs": [],
   "source": [
    "logreg = LogisticRegression(random_state = 1,\n",
    "                   max_iter = 500,\n",
    "                   C = grid_lr.best_params_['C'],\n",
    "                   penalty = grid_lr.best_params_['penalty'],\n",
    "                   solver = 'saga').fit(X_train, y_train)"
   ]
  },
  {
   "cell_type": "code",
   "execution_count": 115,
   "metadata": {
    "ExecuteTime": {
     "end_time": "2020-03-20T20:15:44.636338Z",
     "start_time": "2020-03-20T20:15:44.624757Z"
    }
   },
   "outputs": [],
   "source": [
    "coefs = pd.DataFrame({'coefs_closed':logreg.coef_[0],\n",
    "                      'coefs_open':logreg.coef_[1],\n",
    "                      'coefs_acquired':logreg.coef_[2],\n",
    "                      'feature':X_train.columns})"
   ]
  },
  {
   "cell_type": "code",
   "execution_count": 116,
   "metadata": {
    "ExecuteTime": {
     "end_time": "2020-03-20T20:15:46.450199Z",
     "start_time": "2020-03-20T20:15:45.730940Z"
    }
   },
   "outputs": [
    {
     "data": {
      "image/png": "[encoded data removed]",
      "text/plain": [
       "<Figure size 720x864 with 3 Axes>"
      ]
     },
     "metadata": {
      "needs_background": "light"
     },
     "output_type": "display_data"
    }
   ],
   "source": [
    "fig, ax = plt.subplots(nrows = 3, figsize = (10,12))\n",
    "\n",
    "for i, v in enumerate(['coefs_closed', 'coefs_open', 'coefs_acquired']):\n",
    "    coefs_to_plot = coefs[abs(coefs[v])>0.1].sort_values(v)\n",
    "    coefs_to_plot.sort_values(v)[v].plot(kind = 'barh', ax = ax[i]);\n",
    "    plt.sca(ax[i])\n",
    "    plt.yticks(np.arange(len(coefs_to_plot['feature'].values)),\n",
    "               (coefs_to_plot['feature'].values));\n",
    "    plt.title(v)\n"
   ]
  },
  {
   "cell_type": "code",
   "execution_count": 119,
   "metadata": {
    "ExecuteTime": {
     "end_time": "2020-03-20T20:22:14.524708Z",
     "start_time": "2020-03-20T20:20:03.222521Z"
    }
   },
   "outputs": [
    {
     "name": "stdout",
     "output_type": "stream",
     "text": [
      "0.6211426372992209\n",
      "[0.6116643  0.6230441  0.63086771 0.60739687 0.63274021]\n",
      "0.8668608279592261\n"
     ]
    }
   ],
   "source": [
    "cross_val_scores = cross_val_score(logreg, X_train_u, y_train_u, cv = 5)\n",
    "print(cross_val_scores.mean())\n",
    "print(cross_val_scores)\n",
    "print(logreg.score(X_test, y_test))"
   ]
  },
  {
   "cell_type": "code",
   "execution_count": 120,
   "metadata": {
    "ExecuteTime": {
     "end_time": "2020-03-20T20:22:30.035162Z",
     "start_time": "2020-03-20T20:22:30.027352Z"
    }
   },
   "outputs": [],
   "source": [
    "def plot_confusion(cm):\n",
    "    plt.figure(figsize=(6,6))\n",
    "    ax = sns.heatmap(cm, annot=True, fmt=\".0f\", linewidths=.5, square = True,  cmap = 'coolwarm')\n",
    "    bottom, top = ax.get_ylim()\n",
    "    ax.set_ylim(bottom + 0.5, top - 0.5)\n",
    "    plt.ylabel('Actual label');\n",
    "    plt.xlabel('Predicted label');\n",
    "    plt.xticks([i-0.5 for i in range(1,4)], ['closed', 'open', 'acquired'])\n",
    "    plt.yticks([i-0.5 for i in range(1,4)], ['closed', 'open', 'acquired'])"
   ]
  },
  {
   "cell_type": "code",
   "execution_count": 121,
   "metadata": {
    "ExecuteTime": {
     "end_time": "2020-03-20T20:22:33.274844Z",
     "start_time": "2020-03-20T20:22:33.250203Z"
    }
   },
   "outputs": [],
   "source": [
    "preds = logreg.predict(X_test)\n",
    "cm_lr = confusion_matrix(y_test, preds)"
   ]
  },
  {
   "cell_type": "code",
   "execution_count": 122,
   "metadata": {
    "ExecuteTime": {
     "end_time": "2020-03-20T20:22:34.428783Z",
     "start_time": "2020-03-20T20:22:34.220046Z"
    }
   },
   "outputs": [
    {
     "data": {
      "image/png": "[encoded data removed]",
      "text/plain": [
       "<Figure size 432x432 with 2 Axes>"
      ]
     },
     "metadata": {
      "needs_background": "light"
     },
     "output_type": "display_data"
    }
   ],
   "source": [
    "plot_confusion(cm_lr)"
   ]
  },
  {
   "cell_type": "markdown",
   "metadata": {},
   "source": [
    "#### Random Forest "
   ]
  },
  {
   "cell_type": "code",
   "execution_count": 123,
   "metadata": {
    "ExecuteTime": {
     "end_time": "2020-03-20T20:23:42.368249Z",
     "start_time": "2020-03-20T20:23:42.364351Z"
    }
   },
   "outputs": [],
   "source": [
    "param_grid = {\n",
    "    \n",
    "    'n_estimators':[150,300,400,500,600,700],\n",
    "    'max_depth':[5,7,10,15,20,25,None],\n",
    "    \n",
    "}"
   ]
  },
  {
   "cell_type": "code",
   "execution_count": 124,
   "metadata": {
    "ExecuteTime": {
     "end_time": "2020-03-20T20:33:50.657274Z",
     "start_time": "2020-03-20T20:23:43.271824Z"
    }
   },
   "outputs": [],
   "source": [
    "grid = GridSearchCV(RandomForestClassifier(random_state = 1),\n",
    "                    param_grid,\n",
    "                    cv = 5,\n",
    "                    n_jobs = 2).fit(X_train_u, y_train_u)"
   ]
  },
  {
   "cell_type": "code",
   "execution_count": 107,
   "metadata": {
    "ExecuteTime": {
     "end_time": "2020-03-18T17:54:18.288548Z",
     "start_time": "2020-03-18T17:54:18.282583Z"
    }
   },
   "outputs": [
    {
     "data": {
      "text/plain": [
       "0.6718396156925541"
      ]
     },
     "execution_count": 107,
     "metadata": {},
     "output_type": "execute_result"
    }
   ],
   "source": [
    "grid.best_score_"
   ]
  },
  {
   "cell_type": "code",
   "execution_count": 108,
   "metadata": {
    "ExecuteTime": {
     "end_time": "2020-03-18T18:00:00.010403Z",
     "start_time": "2020-03-18T18:00:00.004352Z"
    }
   },
   "outputs": [
    {
     "data": {
      "text/plain": [
       "{'max_depth': None, 'n_estimators': 600}"
      ]
     },
     "execution_count": 108,
     "metadata": {},
     "output_type": "execute_result"
    }
   ],
   "source": [
    "print(grid.best_params_)"
   ]
  },
  {
   "cell_type": "code",
   "execution_count": 97,
   "metadata": {
    "ExecuteTime": {
     "end_time": "2020-03-20T19:03:49.947327Z",
     "start_time": "2020-03-20T19:03:40.575562Z"
    }
   },
   "outputs": [],
   "source": [
    "clf = RandomForestClassifier(random_state = 1, max_depth =  None, n_estimators = 600).fit(X_train_u, y_train_u)"
   ]
  },
  {
   "cell_type": "code",
   "execution_count": 98,
   "metadata": {
    "ExecuteTime": {
     "end_time": "2020-03-20T19:03:51.011244Z",
     "start_time": "2020-03-20T19:03:50.910342Z"
    }
   },
   "outputs": [],
   "source": [
    "imps = pd.DataFrame({'importance':clf.feature_importances_,\n",
    "                     'feature':X_train.columns})"
   ]
  },
  {
   "cell_type": "code",
   "execution_count": 99,
   "metadata": {
    "ExecuteTime": {
     "end_time": "2020-03-20T19:03:52.326106Z",
     "start_time": "2020-03-20T19:03:52.312628Z"
    }
   },
   "outputs": [
    {
     "data": {
      "text/html": [
       "<div>\n",
       "<style scoped>\n",
       "    .dataframe tbody tr th:only-of-type {\n",
       "        vertical-align: middle;\n",
       "    }\n",
       "\n",
       "    .dataframe tbody tr th {\n",
       "        vertical-align: top;\n",
       "    }\n",
       "\n",
       "    .dataframe thead th {\n",
       "        text-align: right;\n",
       "    }\n",
       "</style>\n",
       "<table border=\"1\" class=\"dataframe\">\n",
       "  <thead>\n",
       "    <tr style=\"text-align: right;\">\n",
       "      <th></th>\n",
       "      <th>importance</th>\n",
       "      <th>feature</th>\n",
       "    </tr>\n",
       "  </thead>\n",
       "  <tbody>\n",
       "    <tr>\n",
       "      <th>104</th>\n",
       "      <td>0.016258</td>\n",
       "      <td>sticky_letter_count</td>\n",
       "    </tr>\n",
       "    <tr>\n",
       "      <th>82</th>\n",
       "      <td>0.023376</td>\n",
       "      <td>seed</td>\n",
       "    </tr>\n",
       "    <tr>\n",
       "      <th>81</th>\n",
       "      <td>0.025782</td>\n",
       "      <td>funding_rounds</td>\n",
       "    </tr>\n",
       "    <tr>\n",
       "      <th>300</th>\n",
       "      <td>0.027640</td>\n",
       "      <td>first_funding_year_2013.0</td>\n",
       "    </tr>\n",
       "    <tr>\n",
       "      <th>105</th>\n",
       "      <td>0.037571</td>\n",
       "      <td>syllable_count</td>\n",
       "    </tr>\n",
       "    <tr>\n",
       "      <th>301</th>\n",
       "      <td>0.039736</td>\n",
       "      <td>first_funding_year_2014.0</td>\n",
       "    </tr>\n",
       "    <tr>\n",
       "      <th>103</th>\n",
       "      <td>0.050902</td>\n",
       "      <td>name_len</td>\n",
       "    </tr>\n",
       "    <tr>\n",
       "      <th>83</th>\n",
       "      <td>0.053242</td>\n",
       "      <td>venture</td>\n",
       "    </tr>\n",
       "    <tr>\n",
       "      <th>106</th>\n",
       "      <td>0.053572</td>\n",
       "      <td>days_to_funded</td>\n",
       "    </tr>\n",
       "    <tr>\n",
       "      <th>80</th>\n",
       "      <td>0.074768</td>\n",
       "      <td>funding_total_usd</td>\n",
       "    </tr>\n",
       "  </tbody>\n",
       "</table>\n",
       "</div>"
      ],
      "text/plain": [
       "     importance                    feature\n",
       "104    0.016258        sticky_letter_count\n",
       "82     0.023376                       seed\n",
       "81     0.025782             funding_rounds\n",
       "300    0.027640  first_funding_year_2013.0\n",
       "105    0.037571             syllable_count\n",
       "301    0.039736  first_funding_year_2014.0\n",
       "103    0.050902                   name_len\n",
       "83     0.053242                    venture\n",
       "106    0.053572             days_to_funded\n",
       "80     0.074768          funding_total_usd"
      ]
     },
     "execution_count": 99,
     "metadata": {},
     "output_type": "execute_result"
    }
   ],
   "source": [
    "imps.sort_values(by = 'importance').tail(10)"
   ]
  },
  {
   "cell_type": "code",
   "execution_count": 101,
   "metadata": {
    "ExecuteTime": {
     "end_time": "2020-03-20T19:04:49.524670Z",
     "start_time": "2020-03-20T19:04:11.351459Z"
    }
   },
   "outputs": [
    {
     "name": "stdout",
     "output_type": "stream",
     "text": [
      "0.6868381104883907\n",
      "[0.696      0.68054444 0.70216173 0.6797438  0.67574059]\n"
     ]
    }
   ],
   "source": [
    "cross_val_scores = cross_val_score(clf, X_train_u, y_train_u, cv = 5)\n",
    "print(cross_val_scores.mean())\n",
    "print(cross_val_scores)"
   ]
  },
  {
   "cell_type": "code",
   "execution_count": 105,
   "metadata": {
    "ExecuteTime": {
     "end_time": "2020-03-20T19:06:37.688177Z",
     "start_time": "2020-03-20T19:06:35.771910Z"
    }
   },
   "outputs": [
    {
     "data": {
      "image/png": "[encoded data removed]",
      "text/plain": [
       "<Figure size 432x432 with 2 Axes>"
      ]
     },
     "metadata": {
      "needs_background": "light"
     },
     "output_type": "display_data"
    }
   ],
   "source": [
    "preds = clf.predict(X_test)\n",
    "cm_rf = confusion_matrix(y_test, preds)\n",
    "plot_confusion(cm_rf)"
   ]
  },
  {
   "cell_type": "code",
   "execution_count": 106,
   "metadata": {
    "ExecuteTime": {
     "end_time": "2020-03-20T19:06:41.470448Z",
     "start_time": "2020-03-20T19:06:39.499430Z"
    }
   },
   "outputs": [
    {
     "data": {
      "text/plain": [
       "0.5931974204285417"
      ]
     },
     "execution_count": 106,
     "metadata": {},
     "output_type": "execute_result"
    }
   ],
   "source": [
    "clf.score(X_test, y_test)"
   ]
  },
  {
   "cell_type": "markdown",
   "metadata": {},
   "source": [
    "#### Analysis"
   ]
  },
  {
   "cell_type": "markdown",
   "metadata": {},
   "source": [
    "Our models aren't particularly good. We score 69% on testing at best and 67% in cross validated training.\n",
    "\n",
    "They both over predict closed and underpredict open.\n",
    "\n",
    "Our strongest coefficient per class tends to be the year founded and the year of first funding.\n",
    "\n",
    "Many of our newly constructed features were considered important by the random forest. The name can be a predictor of success it seems!"
   ]
  },
  {
   "cell_type": "markdown",
   "metadata": {},
   "source": [
    "# Model 2 - SMOTE"
   ]
  },
  {
   "cell_type": "code",
   "execution_count": 74,
   "metadata": {
    "ExecuteTime": {
     "end_time": "2020-03-20T18:57:07.967722Z",
     "start_time": "2020-03-20T18:57:07.952686Z"
    }
   },
   "outputs": [],
   "source": [
    "from imblearn.over_sampling import SMOTE"
   ]
  },
  {
   "cell_type": "code",
   "execution_count": 75,
   "metadata": {
    "ExecuteTime": {
     "end_time": "2020-03-20T18:57:09.071452Z",
     "start_time": "2020-03-20T18:57:08.685899Z"
    }
   },
   "outputs": [],
   "source": [
    "X_train, X_test, y_train, y_test = train_test_split(Xs, y,\n",
    "                                                    test_size = 0.2,\n",
    "                                                    random_state = 1,\n",
    "                                                    stratify = y,\n",
    "                                                    shuffle = True)"
   ]
  },
  {
   "cell_type": "code",
   "execution_count": 77,
   "metadata": {
    "ExecuteTime": {
     "end_time": "2020-03-20T18:57:50.052422Z",
     "start_time": "2020-03-20T18:57:50.049071Z"
    }
   },
   "outputs": [],
   "source": [
    "sm = SMOTE(random_state=0)"
   ]
  },
  {
   "cell_type": "code",
   "execution_count": 78,
   "metadata": {
    "ExecuteTime": {
     "end_time": "2020-03-20T18:57:57.911000Z",
     "start_time": "2020-03-20T18:57:50.665173Z"
    }
   },
   "outputs": [],
   "source": [
    "X_train_s, y_train_s = sm.fit_resample(X_train, y_train)"
   ]
  },
  {
   "cell_type": "code",
   "execution_count": 81,
   "metadata": {
    "ExecuteTime": {
     "end_time": "2020-03-20T18:58:20.867490Z",
     "start_time": "2020-03-20T18:58:20.858307Z"
    }
   },
   "outputs": [
    {
     "data": {
      "text/plain": [
       "2    33416\n",
       "1    33416\n",
       "0    33416\n",
       "Name: 0, dtype: int64"
      ]
     },
     "execution_count": 81,
     "metadata": {},
     "output_type": "execute_result"
    }
   ],
   "source": [
    "pd.DataFrame(y_train_s)[0].value_counts()"
   ]
  },
  {
   "cell_type": "code",
   "execution_count": 205,
   "metadata": {
    "ExecuteTime": {
     "end_time": "2020-03-18T21:31:07.298438Z",
     "start_time": "2020-03-18T21:31:07.293339Z"
    }
   },
   "outputs": [
    {
     "data": {
      "text/plain": [
       "(100248, 314)"
      ]
     },
     "execution_count": 205,
     "metadata": {},
     "output_type": "execute_result"
    }
   ],
   "source": [
    "X_train_s.shape"
   ]
  },
  {
   "cell_type": "code",
   "execution_count": 207,
   "metadata": {
    "ExecuteTime": {
     "end_time": "2020-03-18T22:56:16.680262Z",
     "start_time": "2020-03-18T21:33:06.988319Z"
    }
   },
   "outputs": [],
   "source": [
    "param_grid = {\n",
    "    \n",
    "    'n_estimators':[150,300,450,600],\n",
    "    'max_depth':[10,15,25,None],\n",
    "    \n",
    "}\n",
    "\n",
    "grid = GridSearchCV(RandomForestClassifier(random_state = 1),\n",
    "                    param_grid,\n",
    "                    cv = 5,\n",
    "                    n_jobs = 2).fit(X_train_s, y_train_s)"
   ]
  },
  {
   "cell_type": "code",
   "execution_count": 208,
   "metadata": {
    "ExecuteTime": {
     "end_time": "2020-03-18T22:58:50.809642Z",
     "start_time": "2020-03-18T22:58:50.803854Z"
    }
   },
   "outputs": [
    {
     "name": "stdout",
     "output_type": "stream",
     "text": [
      "0.9444285371164834\n",
      "{'max_depth': None, 'n_estimators': 600}\n"
     ]
    }
   ],
   "source": [
    "print(grid.best_score_)\n",
    "\n",
    "print(grid.best_params_)"
   ]
  },
  {
   "cell_type": "code",
   "execution_count": 209,
   "metadata": {
    "ExecuteTime": {
     "end_time": "2020-03-18T23:04:30.518468Z",
     "start_time": "2020-03-18T22:59:55.593127Z"
    }
   },
   "outputs": [
    {
     "name": "stdout",
     "output_type": "stream",
     "text": [
      "0.8646765134179322\n"
     ]
    }
   ],
   "source": [
    "final_rf = RandomForestClassifier(random_state = 1, n_estimators = 600).fit(X_train_s, y_train_s)\n",
    "print(final_rf.score(X_test, y_test))"
   ]
  },
  {
   "cell_type": "code",
   "execution_count": 210,
   "metadata": {
    "ExecuteTime": {
     "end_time": "2020-03-18T23:08:40.803568Z",
     "start_time": "2020-03-18T23:08:38.288921Z"
    }
   },
   "outputs": [
    {
     "data": {
      "image/png": "[encoded data removed]",
      "text/plain": [
       "<Figure size 432x432 with 2 Axes>"
      ]
     },
     "metadata": {
      "needs_background": "light"
     },
     "output_type": "display_data"
    }
   ],
   "source": [
    "preds = final_rf.predict(X_test)\n",
    "cm_rf = confusion_matrix(y_test, preds)\n",
    "plot_confusion(cm_rf)"
   ]
  },
  {
   "cell_type": "code",
   "execution_count": 218,
   "metadata": {
    "ExecuteTime": {
     "end_time": "2020-03-19T09:25:41.327845Z",
     "start_time": "2020-03-19T09:25:41.317276Z"
    }
   },
   "outputs": [
    {
     "name": "stdout",
     "output_type": "stream",
     "text": [
      "But our baseline is 0.869.\n"
     ]
    }
   ],
   "source": [
    "print('But our baseline is {}.'.format(round(y_test['status'].value_counts(normalize = True).max(),3)))"
   ]
  },
  {
   "cell_type": "markdown",
   "metadata": {},
   "source": [
    "# Changing the challenge"
   ]
  },
  {
   "cell_type": "markdown",
   "metadata": {},
   "source": [
    "The majority of the companies we've been dealing with have been still operating. Let's strip these away and just try to predict whether they close or get acquired."
   ]
  },
  {
   "cell_type": "code",
   "execution_count": 131,
   "metadata": {
    "ExecuteTime": {
     "end_time": "2020-03-21T12:29:03.883843Z",
     "start_time": "2020-03-21T12:29:03.864231Z"
    }
   },
   "outputs": [],
   "source": [
    "df_new = df[(df['status']=='acquired')|(df['status']=='closed')]"
   ]
  },
  {
   "cell_type": "code",
   "execution_count": 137,
   "metadata": {
    "ExecuteTime": {
     "end_time": "2020-03-21T12:31:10.941471Z",
     "start_time": "2020-03-21T12:31:10.927096Z"
    }
   },
   "outputs": [],
   "source": [
    "X = df_new.drop('status', axis = 1)\n",
    "        \n",
    "y = df_new[['status']]"
   ]
  },
  {
   "cell_type": "code",
   "execution_count": 138,
   "metadata": {
    "ExecuteTime": {
     "end_time": "2020-03-21T12:31:12.374576Z",
     "start_time": "2020-03-21T12:31:12.300248Z"
    }
   },
   "outputs": [],
   "source": [
    "scaler = StandardScaler()\n",
    "Xs = pd.DataFrame(scaler.fit_transform(X), columns = X.columns)"
   ]
  },
  {
   "cell_type": "code",
   "execution_count": 139,
   "metadata": {
    "ExecuteTime": {
     "end_time": "2020-03-21T12:31:13.677157Z",
     "start_time": "2020-03-21T12:31:13.669330Z"
    }
   },
   "outputs": [],
   "source": [
    "y = y.replace({'closed':0,\n",
    "               'acquired': 1})"
   ]
  },
  {
   "cell_type": "code",
   "execution_count": 173,
   "metadata": {
    "ExecuteTime": {
     "end_time": "2020-03-21T13:49:51.976059Z",
     "start_time": "2020-03-21T13:49:51.957626Z"
    }
   },
   "outputs": [
    {
     "data": {
      "text/plain": [
       "status    0.586497\n",
       "dtype: float64"
      ]
     },
     "execution_count": 173,
     "metadata": {},
     "output_type": "execute_result"
    }
   ],
   "source": [
    "y.mean()"
   ]
  },
  {
   "cell_type": "code",
   "execution_count": 140,
   "metadata": {
    "ExecuteTime": {
     "end_time": "2020-03-21T12:31:18.160405Z",
     "start_time": "2020-03-21T12:31:18.098206Z"
    }
   },
   "outputs": [],
   "source": [
    "X_train, X_test, y_train, y_test = train_test_split(Xs, y,\n",
    "                                                    test_size = 0.2,\n",
    "                                                    random_state = 1,\n",
    "                                                    stratify = y,\n",
    "                                                    shuffle = True)"
   ]
  },
  {
   "cell_type": "code",
   "execution_count": 166,
   "metadata": {
    "ExecuteTime": {
     "end_time": "2020-03-21T13:48:50.675451Z",
     "start_time": "2020-03-21T12:58:05.494637Z"
    }
   },
   "outputs": [],
   "source": [
    "param_grid = {\n",
    "    \n",
    "    'n_estimators':[150,225,300,375,450,600],\n",
    "    'max_depth':[5,7,10,12,15,25,None],\n",
    "    'min_samples_leaf': [1,2,5],\n",
    "    'ccp_alpha': [0.0001, 0.015, 0.02, 0.03]\n",
    "    \n",
    "}\n",
    "\n",
    "grid = GridSearchCV(RandomForestClassifier(random_state = 1),\n",
    "                    param_grid,\n",
    "                    cv = 5,\n",
    "                    n_jobs = 2).fit(X_train, y_train)"
   ]
  },
  {
   "cell_type": "code",
   "execution_count": 167,
   "metadata": {
    "ExecuteTime": {
     "end_time": "2020-03-21T13:49:10.875123Z",
     "start_time": "2020-03-21T13:49:10.870614Z"
    }
   },
   "outputs": [
    {
     "name": "stdout",
     "output_type": "stream",
     "text": [
      "0.7374899512933276\n",
      "{'ccp_alpha': 0.0001, 'max_depth': 25, 'min_samples_leaf': 1, 'n_estimators': 225}\n"
     ]
    }
   ],
   "source": [
    "print(grid.best_score_)\n",
    "\n",
    "print(grid.best_params_)"
   ]
  },
  {
   "cell_type": "code",
   "execution_count": 168,
   "metadata": {
    "ExecuteTime": {
     "end_time": "2020-03-21T13:49:19.876603Z",
     "start_time": "2020-03-21T13:49:16.210274Z"
    }
   },
   "outputs": [
    {
     "name": "stdout",
     "output_type": "stream",
     "text": [
      "0.7458300238284352\n"
     ]
    }
   ],
   "source": [
    "rf_new = RandomForestClassifier(random_state = 1,\n",
    "                                n_estimators = 300,\n",
    "                                max_depth = 25\n",
    "                               ).fit(X_train, y_train)\n",
    "\n",
    "print(rf_new.score(X_test, y_test))"
   ]
  },
  {
   "cell_type": "code",
   "execution_count": 169,
   "metadata": {
    "ExecuteTime": {
     "end_time": "2020-03-21T13:49:24.731671Z",
     "start_time": "2020-03-21T13:49:24.723281Z"
    }
   },
   "outputs": [],
   "source": [
    "def plot_confusion(cm):\n",
    "    plt.figure(figsize=(6,6))\n",
    "    ax = sns.heatmap(cm, annot=True, fmt=\".0f\", linewidths=.5, square = True,  cmap = 'coolwarm')\n",
    "    bottom, top = ax.get_ylim()\n",
    "    ax.set_ylim(bottom + 0.5, top - 0.5)\n",
    "    plt.ylabel('Actual label');\n",
    "    plt.xlabel('Predicted label');\n",
    "    plt.xticks([i-0.5 for i in range(1,3)], ['closed', 'acquired'])\n",
    "    plt.yticks([i-0.5 for i in range(1,3)], ['closed', 'acquired'])"
   ]
  },
  {
   "cell_type": "code",
   "execution_count": 170,
   "metadata": {
    "ExecuteTime": {
     "end_time": "2020-03-21T13:49:26.492025Z",
     "start_time": "2020-03-21T13:49:26.182643Z"
    }
   },
   "outputs": [
    {
     "data": {
      "image/png": "[encoded data removed]",
      "text/plain": [
       "<Figure size 432x432 with 2 Axes>"
      ]
     },
     "metadata": {
      "needs_background": "light"
     },
     "output_type": "display_data"
    }
   ],
   "source": [
    "preds = rf_new.predict(X_test)\n",
    "cm_rf = confusion_matrix(y_test, preds)\n",
    "plot_confusion(cm_rf)"
   ]
  },
  {
   "cell_type": "code",
   "execution_count": 171,
   "metadata": {
    "ExecuteTime": {
     "end_time": "2020-03-21T13:49:38.727874Z",
     "start_time": "2020-03-21T13:49:38.685651Z"
    }
   },
   "outputs": [],
   "source": [
    "imps_new = pd.DataFrame({'importance':rf_new.feature_importances_,\n",
    "                     'feature':X_train.columns})"
   ]
  },
  {
   "cell_type": "code",
   "execution_count": 172,
   "metadata": {
    "ExecuteTime": {
     "end_time": "2020-03-21T13:49:40.595215Z",
     "start_time": "2020-03-21T13:49:40.255142Z"
    }
   },
   "outputs": [
    {
     "data": {
      "image/png": "[encoded data removed]",
      "text/plain": [
       "<Figure size 432x288 with 1 Axes>"
      ]
     },
     "metadata": {
      "needs_background": "light"
     },
     "output_type": "display_data"
    }
   ],
   "source": [
    "imps_to_plot = imps_new[imps_new['importance']>0.01].sort_values(by = 'importance')\n",
    "\n",
    "sns.barplot(x = imps_to_plot['importance'],\n",
    "            y = imps_to_plot['feature']);"
   ]
  },
  {
   "cell_type": "markdown",
   "metadata": {},
   "source": [
    "Now we see quite different coefficients. Lets check logistic regression."
   ]
  },
  {
   "cell_type": "code",
   "execution_count": 174,
   "metadata": {
    "ExecuteTime": {
     "end_time": "2020-03-21T15:09:49.070737Z",
     "start_time": "2020-03-21T14:57:09.843262Z"
    }
   },
   "outputs": [],
   "source": [
    "param_grid_lr = {\n",
    "    \n",
    "    'C': np.logspace(-4,4,25),\n",
    "    'penalty': ['l1', 'l2'],\n",
    "    \n",
    "}\n",
    "\n",
    "grid_lr_new = GridSearchCV(LogisticRegression(random_state = 1, max_iter = 500, solver = 'saga'),\n",
    "                       param_grid_lr,\n",
    "                       cv = 5,\n",
    "                       n_jobs = 2).fit(X_train, y_train)"
   ]
  },
  {
   "cell_type": "code",
   "execution_count": 175,
   "metadata": {
    "ExecuteTime": {
     "end_time": "2020-03-21T15:38:25.123240Z",
     "start_time": "2020-03-21T15:38:25.118715Z"
    }
   },
   "outputs": [
    {
     "name": "stdout",
     "output_type": "stream",
     "text": [
      "0.714060110969247\n",
      "{'C': 0.046415888336127774, 'penalty': 'l1'}\n"
     ]
    }
   ],
   "source": [
    "print(grid_lr_new.best_score_)\n",
    "\n",
    "print(grid_lr_new.best_params_)"
   ]
  },
  {
   "cell_type": "code",
   "execution_count": 176,
   "metadata": {
    "ExecuteTime": {
     "end_time": "2020-03-21T15:58:01.185287Z",
     "start_time": "2020-03-21T15:57:53.932985Z"
    }
   },
   "outputs": [],
   "source": [
    "logreg_new = LogisticRegression(random_state = 1,\n",
    "                   max_iter = 500,\n",
    "                   C = grid_lr_new.best_params_['C'],\n",
    "                   penalty = grid_lr_new.best_params_['penalty'],\n",
    "                   solver = 'saga').fit(X_train, y_train)"
   ]
  },
  {
   "cell_type": "code",
   "execution_count": 185,
   "metadata": {
    "ExecuteTime": {
     "end_time": "2020-03-21T15:59:32.124841Z",
     "start_time": "2020-03-21T15:59:32.109709Z"
    }
   },
   "outputs": [],
   "source": [
    "coefs_new = pd.DataFrame({'coef': logreg_new.coef_[0],\n",
    "                          'abs_coef': abs(logreg_new.coef_[0]),\n",
    "                          'feature': X_train.columns})"
   ]
  },
  {
   "cell_type": "code",
   "execution_count": 187,
   "metadata": {
    "ExecuteTime": {
     "end_time": "2020-03-21T16:00:04.880267Z",
     "start_time": "2020-03-21T16:00:04.869003Z"
    }
   },
   "outputs": [
    {
     "data": {
      "text/html": [
       "<div>\n",
       "<style scoped>\n",
       "    .dataframe tbody tr th:only-of-type {\n",
       "        vertical-align: middle;\n",
       "    }\n",
       "\n",
       "    .dataframe tbody tr th {\n",
       "        vertical-align: top;\n",
       "    }\n",
       "\n",
       "    .dataframe thead th {\n",
       "        text-align: right;\n",
       "    }\n",
       "</style>\n",
       "<table border=\"1\" class=\"dataframe\">\n",
       "  <thead>\n",
       "    <tr style=\"text-align: right;\">\n",
       "      <th></th>\n",
       "      <th>coef</th>\n",
       "      <th>abs_coef</th>\n",
       "      <th>feature</th>\n",
       "    </tr>\n",
       "  </thead>\n",
       "  <tbody>\n",
       "    <tr>\n",
       "      <th>10</th>\n",
       "      <td>-0.243371</td>\n",
       "      <td>0.243371</td>\n",
       "      <td>other_location</td>\n",
       "    </tr>\n",
       "    <tr>\n",
       "      <th>95</th>\n",
       "      <td>0.203895</td>\n",
       "      <td>0.203895</td>\n",
       "      <td>round_A</td>\n",
       "    </tr>\n",
       "    <tr>\n",
       "      <th>107</th>\n",
       "      <td>0.170823</td>\n",
       "      <td>0.170823</td>\n",
       "      <td>month_founded_1.0</td>\n",
       "    </tr>\n",
       "    <tr>\n",
       "      <th>81</th>\n",
       "      <td>0.169337</td>\n",
       "      <td>0.169337</td>\n",
       "      <td>funding_rounds</td>\n",
       "    </tr>\n",
       "    <tr>\n",
       "      <th>34</th>\n",
       "      <td>0.168138</td>\n",
       "      <td>0.168138</td>\n",
       "      <td>analytics</td>\n",
       "    </tr>\n",
       "    <tr>\n",
       "      <th>97</th>\n",
       "      <td>0.161328</td>\n",
       "      <td>0.161328</td>\n",
       "      <td>round_C</td>\n",
       "    </tr>\n",
       "    <tr>\n",
       "      <th>295</th>\n",
       "      <td>-0.156303</td>\n",
       "      <td>0.156303</td>\n",
       "      <td>first_funding_year_2008.0</td>\n",
       "    </tr>\n",
       "    <tr>\n",
       "      <th>301</th>\n",
       "      <td>0.156140</td>\n",
       "      <td>0.156140</td>\n",
       "      <td>first_funding_year_2014.0</td>\n",
       "    </tr>\n",
       "    <tr>\n",
       "      <th>26</th>\n",
       "      <td>0.153102</td>\n",
       "      <td>0.153102</td>\n",
       "      <td>enterprisesoftware</td>\n",
       "    </tr>\n",
       "    <tr>\n",
       "      <th>83</th>\n",
       "      <td>0.146870</td>\n",
       "      <td>0.146870</td>\n",
       "      <td>venture</td>\n",
       "    </tr>\n",
       "  </tbody>\n",
       "</table>\n",
       "</div>"
      ],
      "text/plain": [
       "         coef  abs_coef                    feature\n",
       "10  -0.243371  0.243371             other_location\n",
       "95   0.203895  0.203895                    round_A\n",
       "107  0.170823  0.170823          month_founded_1.0\n",
       "81   0.169337  0.169337             funding_rounds\n",
       "34   0.168138  0.168138                  analytics\n",
       "97   0.161328  0.161328                    round_C\n",
       "295 -0.156303  0.156303  first_funding_year_2008.0\n",
       "301  0.156140  0.156140  first_funding_year_2014.0\n",
       "26   0.153102  0.153102         enterprisesoftware\n",
       "83   0.146870  0.146870                    venture"
      ]
     },
     "execution_count": 187,
     "metadata": {},
     "output_type": "execute_result"
    }
   ],
   "source": [
    "coefs_new.sort_values('abs_coef', ascending = False).head(10)"
   ]
  },
  {
   "cell_type": "markdown",
   "metadata": {},
   "source": [
    "We can now do much better, our random forest hit almost 75% accuracy, which is much better than the ~50% benchline for this model."
   ]
  },
  {
   "cell_type": "code",
   "execution_count": null,
   "metadata": {},
   "outputs": [],
   "source": []
  }
 ],
 "metadata": {
  "kernelspec": {
   "display_name": "Python 3",
   "language": "python",
   "name": "python3"
  },
  "language_info": {
   "codemirror_mode": {
    "name": "ipython",
    "version": 3
   },
   "file_extension": ".py",
   "mimetype": "text/x-python",
   "name": "python",
   "nbconvert_exporter": "python",
   "pygments_lexer": "ipython3",
   "version": "3.7.3"
  },
  "varInspector": {
   "cols": {
    "lenName": 16,
    "lenType": 16,
    "lenVar": 40
   },
   "kernels_config": {
    "python": {
     "delete_cmd_postfix": "",
     "delete_cmd_prefix": "del ",
     "library": "var_list.py",
     "varRefreshCmd": "print(var_dic_list())"
    },
    "r": {
     "delete_cmd_postfix": ") ",
     "delete_cmd_prefix": "rm(",
     "library": "var_list.r",
     "varRefreshCmd": "cat(var_dic_list()) "
    }
   },
   "types_to_exclude": [
    "module",
    "function",
    "builtin_function_or_method",
    "instance",
    "_Feature"
   ],
   "window_display": false
  }
 },
 "nbformat": 4,
 "nbformat_minor": 2
}
